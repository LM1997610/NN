{
  "nbformat": 4,
  "nbformat_minor": 0,
  "metadata": {
    "colab": {
      "provenance": [],
      "gpuType": "T4",
      "include_colab_link": true
    },
    "kernelspec": {
      "name": "python3",
      "display_name": "Python 3"
    },
    "language_info": {
      "name": "python"
    },
    "widgets": {
      "application/vnd.jupyter.widget-state+json": {
        "156bfeaf140a48ef8c4b11e72319b957": {
          "model_module": "@jupyter-widgets/controls",
          "model_name": "HBoxModel",
          "model_module_version": "1.5.0",
          "state": {
            "_dom_classes": [],
            "_model_module": "@jupyter-widgets/controls",
            "_model_module_version": "1.5.0",
            "_model_name": "HBoxModel",
            "_view_count": null,
            "_view_module": "@jupyter-widgets/controls",
            "_view_module_version": "1.5.0",
            "_view_name": "HBoxView",
            "box_style": "",
            "children": [
              "IPY_MODEL_f6416dd9c7c745b48986d52509ab4ddc",
              "IPY_MODEL_7b3b77d215864e5cbde70cec5c2b9ba8",
              "IPY_MODEL_bc297a1d2d7f4b19a29aaef94b848d32"
            ],
            "layout": "IPY_MODEL_19b5dcb5847d43d29a5ce3acc2c2e22d"
          }
        },
        "f6416dd9c7c745b48986d52509ab4ddc": {
          "model_module": "@jupyter-widgets/controls",
          "model_name": "HTMLModel",
          "model_module_version": "1.5.0",
          "state": {
            "_dom_classes": [],
            "_model_module": "@jupyter-widgets/controls",
            "_model_module_version": "1.5.0",
            "_model_name": "HTMLModel",
            "_view_count": null,
            "_view_module": "@jupyter-widgets/controls",
            "_view_module_version": "1.5.0",
            "_view_name": "HTMLView",
            "description": "",
            "description_tooltip": null,
            "layout": "IPY_MODEL_329733eadce04daba0eb996dbae6d2c3",
            "placeholder": "​",
            "style": "IPY_MODEL_3f728980bbc14c6ea64e3608890cc878",
            "value": "Downloading builder script: 100%"
          }
        },
        "7b3b77d215864e5cbde70cec5c2b9ba8": {
          "model_module": "@jupyter-widgets/controls",
          "model_name": "FloatProgressModel",
          "model_module_version": "1.5.0",
          "state": {
            "_dom_classes": [],
            "_model_module": "@jupyter-widgets/controls",
            "_model_module_version": "1.5.0",
            "_model_name": "FloatProgressModel",
            "_view_count": null,
            "_view_module": "@jupyter-widgets/controls",
            "_view_module_version": "1.5.0",
            "_view_name": "ProgressView",
            "bar_style": "success",
            "description": "",
            "description_tooltip": null,
            "layout": "IPY_MODEL_870b698a0fa84d8e87f1b3897af22888",
            "max": 3865,
            "min": 0,
            "orientation": "horizontal",
            "style": "IPY_MODEL_ecbf060553384cddaf8c43b4f32a2305",
            "value": 3865
          }
        },
        "bc297a1d2d7f4b19a29aaef94b848d32": {
          "model_module": "@jupyter-widgets/controls",
          "model_name": "HTMLModel",
          "model_module_version": "1.5.0",
          "state": {
            "_dom_classes": [],
            "_model_module": "@jupyter-widgets/controls",
            "_model_module_version": "1.5.0",
            "_model_name": "HTMLModel",
            "_view_count": null,
            "_view_module": "@jupyter-widgets/controls",
            "_view_module_version": "1.5.0",
            "_view_name": "HTMLView",
            "description": "",
            "description_tooltip": null,
            "layout": "IPY_MODEL_99d94b0785e94315b8df76ff949b663e",
            "placeholder": "​",
            "style": "IPY_MODEL_f25633fa23194271a43ce64a25ffbda1",
            "value": " 3.87k/3.87k [00:00&lt;00:00, 106kB/s]"
          }
        },
        "19b5dcb5847d43d29a5ce3acc2c2e22d": {
          "model_module": "@jupyter-widgets/base",
          "model_name": "LayoutModel",
          "model_module_version": "1.2.0",
          "state": {
            "_model_module": "@jupyter-widgets/base",
            "_model_module_version": "1.2.0",
            "_model_name": "LayoutModel",
            "_view_count": null,
            "_view_module": "@jupyter-widgets/base",
            "_view_module_version": "1.2.0",
            "_view_name": "LayoutView",
            "align_content": null,
            "align_items": null,
            "align_self": null,
            "border": null,
            "bottom": null,
            "display": null,
            "flex": null,
            "flex_flow": null,
            "grid_area": null,
            "grid_auto_columns": null,
            "grid_auto_flow": null,
            "grid_auto_rows": null,
            "grid_column": null,
            "grid_gap": null,
            "grid_row": null,
            "grid_template_areas": null,
            "grid_template_columns": null,
            "grid_template_rows": null,
            "height": null,
            "justify_content": null,
            "justify_items": null,
            "left": null,
            "margin": null,
            "max_height": null,
            "max_width": null,
            "min_height": null,
            "min_width": null,
            "object_fit": null,
            "object_position": null,
            "order": null,
            "overflow": null,
            "overflow_x": null,
            "overflow_y": null,
            "padding": null,
            "right": null,
            "top": null,
            "visibility": null,
            "width": null
          }
        },
        "329733eadce04daba0eb996dbae6d2c3": {
          "model_module": "@jupyter-widgets/base",
          "model_name": "LayoutModel",
          "model_module_version": "1.2.0",
          "state": {
            "_model_module": "@jupyter-widgets/base",
            "_model_module_version": "1.2.0",
            "_model_name": "LayoutModel",
            "_view_count": null,
            "_view_module": "@jupyter-widgets/base",
            "_view_module_version": "1.2.0",
            "_view_name": "LayoutView",
            "align_content": null,
            "align_items": null,
            "align_self": null,
            "border": null,
            "bottom": null,
            "display": null,
            "flex": null,
            "flex_flow": null,
            "grid_area": null,
            "grid_auto_columns": null,
            "grid_auto_flow": null,
            "grid_auto_rows": null,
            "grid_column": null,
            "grid_gap": null,
            "grid_row": null,
            "grid_template_areas": null,
            "grid_template_columns": null,
            "grid_template_rows": null,
            "height": null,
            "justify_content": null,
            "justify_items": null,
            "left": null,
            "margin": null,
            "max_height": null,
            "max_width": null,
            "min_height": null,
            "min_width": null,
            "object_fit": null,
            "object_position": null,
            "order": null,
            "overflow": null,
            "overflow_x": null,
            "overflow_y": null,
            "padding": null,
            "right": null,
            "top": null,
            "visibility": null,
            "width": null
          }
        },
        "3f728980bbc14c6ea64e3608890cc878": {
          "model_module": "@jupyter-widgets/controls",
          "model_name": "DescriptionStyleModel",
          "model_module_version": "1.5.0",
          "state": {
            "_model_module": "@jupyter-widgets/controls",
            "_model_module_version": "1.5.0",
            "_model_name": "DescriptionStyleModel",
            "_view_count": null,
            "_view_module": "@jupyter-widgets/base",
            "_view_module_version": "1.2.0",
            "_view_name": "StyleView",
            "description_width": ""
          }
        },
        "870b698a0fa84d8e87f1b3897af22888": {
          "model_module": "@jupyter-widgets/base",
          "model_name": "LayoutModel",
          "model_module_version": "1.2.0",
          "state": {
            "_model_module": "@jupyter-widgets/base",
            "_model_module_version": "1.2.0",
            "_model_name": "LayoutModel",
            "_view_count": null,
            "_view_module": "@jupyter-widgets/base",
            "_view_module_version": "1.2.0",
            "_view_name": "LayoutView",
            "align_content": null,
            "align_items": null,
            "align_self": null,
            "border": null,
            "bottom": null,
            "display": null,
            "flex": null,
            "flex_flow": null,
            "grid_area": null,
            "grid_auto_columns": null,
            "grid_auto_flow": null,
            "grid_auto_rows": null,
            "grid_column": null,
            "grid_gap": null,
            "grid_row": null,
            "grid_template_areas": null,
            "grid_template_columns": null,
            "grid_template_rows": null,
            "height": null,
            "justify_content": null,
            "justify_items": null,
            "left": null,
            "margin": null,
            "max_height": null,
            "max_width": null,
            "min_height": null,
            "min_width": null,
            "object_fit": null,
            "object_position": null,
            "order": null,
            "overflow": null,
            "overflow_x": null,
            "overflow_y": null,
            "padding": null,
            "right": null,
            "top": null,
            "visibility": null,
            "width": null
          }
        },
        "ecbf060553384cddaf8c43b4f32a2305": {
          "model_module": "@jupyter-widgets/controls",
          "model_name": "ProgressStyleModel",
          "model_module_version": "1.5.0",
          "state": {
            "_model_module": "@jupyter-widgets/controls",
            "_model_module_version": "1.5.0",
            "_model_name": "ProgressStyleModel",
            "_view_count": null,
            "_view_module": "@jupyter-widgets/base",
            "_view_module_version": "1.2.0",
            "_view_name": "StyleView",
            "bar_color": null,
            "description_width": ""
          }
        },
        "99d94b0785e94315b8df76ff949b663e": {
          "model_module": "@jupyter-widgets/base",
          "model_name": "LayoutModel",
          "model_module_version": "1.2.0",
          "state": {
            "_model_module": "@jupyter-widgets/base",
            "_model_module_version": "1.2.0",
            "_model_name": "LayoutModel",
            "_view_count": null,
            "_view_module": "@jupyter-widgets/base",
            "_view_module_version": "1.2.0",
            "_view_name": "LayoutView",
            "align_content": null,
            "align_items": null,
            "align_self": null,
            "border": null,
            "bottom": null,
            "display": null,
            "flex": null,
            "flex_flow": null,
            "grid_area": null,
            "grid_auto_columns": null,
            "grid_auto_flow": null,
            "grid_auto_rows": null,
            "grid_column": null,
            "grid_gap": null,
            "grid_row": null,
            "grid_template_areas": null,
            "grid_template_columns": null,
            "grid_template_rows": null,
            "height": null,
            "justify_content": null,
            "justify_items": null,
            "left": null,
            "margin": null,
            "max_height": null,
            "max_width": null,
            "min_height": null,
            "min_width": null,
            "object_fit": null,
            "object_position": null,
            "order": null,
            "overflow": null,
            "overflow_x": null,
            "overflow_y": null,
            "padding": null,
            "right": null,
            "top": null,
            "visibility": null,
            "width": null
          }
        },
        "f25633fa23194271a43ce64a25ffbda1": {
          "model_module": "@jupyter-widgets/controls",
          "model_name": "DescriptionStyleModel",
          "model_module_version": "1.5.0",
          "state": {
            "_model_module": "@jupyter-widgets/controls",
            "_model_module_version": "1.5.0",
            "_model_name": "DescriptionStyleModel",
            "_view_count": null,
            "_view_module": "@jupyter-widgets/base",
            "_view_module_version": "1.2.0",
            "_view_name": "StyleView",
            "description_width": ""
          }
        },
        "957c1a72661b4d378411c8f16b17ae8c": {
          "model_module": "@jupyter-widgets/controls",
          "model_name": "HBoxModel",
          "model_module_version": "1.5.0",
          "state": {
            "_dom_classes": [],
            "_model_module": "@jupyter-widgets/controls",
            "_model_module_version": "1.5.0",
            "_model_name": "HBoxModel",
            "_view_count": null,
            "_view_module": "@jupyter-widgets/controls",
            "_view_module_version": "1.5.0",
            "_view_name": "HBoxView",
            "box_style": "",
            "children": [
              "IPY_MODEL_76aaa2d4015a42b5af0c658c31fcd166",
              "IPY_MODEL_74fd594c05da420d8a4f76c70871dce4",
              "IPY_MODEL_1ca56e01a1b649d18790494e9ee7b8a4"
            ],
            "layout": "IPY_MODEL_e3d478135a7c4d44962924d30a963081"
          }
        },
        "76aaa2d4015a42b5af0c658c31fcd166": {
          "model_module": "@jupyter-widgets/controls",
          "model_name": "HTMLModel",
          "model_module_version": "1.5.0",
          "state": {
            "_dom_classes": [],
            "_model_module": "@jupyter-widgets/controls",
            "_model_module_version": "1.5.0",
            "_model_name": "HTMLModel",
            "_view_count": null,
            "_view_module": "@jupyter-widgets/controls",
            "_view_module_version": "1.5.0",
            "_view_name": "HTMLView",
            "description": "",
            "description_tooltip": null,
            "layout": "IPY_MODEL_03808fbcd98d49ebb51b2a48dbdcfae7",
            "placeholder": "​",
            "style": "IPY_MODEL_4287766749ba403a88aeff93fa45ad52",
            "value": "Downloading readme: 100%"
          }
        },
        "74fd594c05da420d8a4f76c70871dce4": {
          "model_module": "@jupyter-widgets/controls",
          "model_name": "FloatProgressModel",
          "model_module_version": "1.5.0",
          "state": {
            "_dom_classes": [],
            "_model_module": "@jupyter-widgets/controls",
            "_model_module_version": "1.5.0",
            "_model_name": "FloatProgressModel",
            "_view_count": null,
            "_view_module": "@jupyter-widgets/controls",
            "_view_module_version": "1.5.0",
            "_view_name": "ProgressView",
            "bar_style": "success",
            "description": "",
            "description_tooltip": null,
            "layout": "IPY_MODEL_e3955dbbed6045b8ba5df0b94f8144df",
            "max": 1335,
            "min": 0,
            "orientation": "horizontal",
            "style": "IPY_MODEL_c187ff299e234b63bc88a1c50a311af7",
            "value": 1335
          }
        },
        "1ca56e01a1b649d18790494e9ee7b8a4": {
          "model_module": "@jupyter-widgets/controls",
          "model_name": "HTMLModel",
          "model_module_version": "1.5.0",
          "state": {
            "_dom_classes": [],
            "_model_module": "@jupyter-widgets/controls",
            "_model_module_version": "1.5.0",
            "_model_name": "HTMLModel",
            "_view_count": null,
            "_view_module": "@jupyter-widgets/controls",
            "_view_module_version": "1.5.0",
            "_view_name": "HTMLView",
            "description": "",
            "description_tooltip": null,
            "layout": "IPY_MODEL_b631f41650dd48c1b0ee2d40343163d1",
            "placeholder": "​",
            "style": "IPY_MODEL_2655790a9a5e4299988aa5c1dadb391d",
            "value": " 1.33k/1.33k [00:00&lt;00:00, 48.0kB/s]"
          }
        },
        "e3d478135a7c4d44962924d30a963081": {
          "model_module": "@jupyter-widgets/base",
          "model_name": "LayoutModel",
          "model_module_version": "1.2.0",
          "state": {
            "_model_module": "@jupyter-widgets/base",
            "_model_module_version": "1.2.0",
            "_model_name": "LayoutModel",
            "_view_count": null,
            "_view_module": "@jupyter-widgets/base",
            "_view_module_version": "1.2.0",
            "_view_name": "LayoutView",
            "align_content": null,
            "align_items": null,
            "align_self": null,
            "border": null,
            "bottom": null,
            "display": null,
            "flex": null,
            "flex_flow": null,
            "grid_area": null,
            "grid_auto_columns": null,
            "grid_auto_flow": null,
            "grid_auto_rows": null,
            "grid_column": null,
            "grid_gap": null,
            "grid_row": null,
            "grid_template_areas": null,
            "grid_template_columns": null,
            "grid_template_rows": null,
            "height": null,
            "justify_content": null,
            "justify_items": null,
            "left": null,
            "margin": null,
            "max_height": null,
            "max_width": null,
            "min_height": null,
            "min_width": null,
            "object_fit": null,
            "object_position": null,
            "order": null,
            "overflow": null,
            "overflow_x": null,
            "overflow_y": null,
            "padding": null,
            "right": null,
            "top": null,
            "visibility": null,
            "width": null
          }
        },
        "03808fbcd98d49ebb51b2a48dbdcfae7": {
          "model_module": "@jupyter-widgets/base",
          "model_name": "LayoutModel",
          "model_module_version": "1.2.0",
          "state": {
            "_model_module": "@jupyter-widgets/base",
            "_model_module_version": "1.2.0",
            "_model_name": "LayoutModel",
            "_view_count": null,
            "_view_module": "@jupyter-widgets/base",
            "_view_module_version": "1.2.0",
            "_view_name": "LayoutView",
            "align_content": null,
            "align_items": null,
            "align_self": null,
            "border": null,
            "bottom": null,
            "display": null,
            "flex": null,
            "flex_flow": null,
            "grid_area": null,
            "grid_auto_columns": null,
            "grid_auto_flow": null,
            "grid_auto_rows": null,
            "grid_column": null,
            "grid_gap": null,
            "grid_row": null,
            "grid_template_areas": null,
            "grid_template_columns": null,
            "grid_template_rows": null,
            "height": null,
            "justify_content": null,
            "justify_items": null,
            "left": null,
            "margin": null,
            "max_height": null,
            "max_width": null,
            "min_height": null,
            "min_width": null,
            "object_fit": null,
            "object_position": null,
            "order": null,
            "overflow": null,
            "overflow_x": null,
            "overflow_y": null,
            "padding": null,
            "right": null,
            "top": null,
            "visibility": null,
            "width": null
          }
        },
        "4287766749ba403a88aeff93fa45ad52": {
          "model_module": "@jupyter-widgets/controls",
          "model_name": "DescriptionStyleModel",
          "model_module_version": "1.5.0",
          "state": {
            "_model_module": "@jupyter-widgets/controls",
            "_model_module_version": "1.5.0",
            "_model_name": "DescriptionStyleModel",
            "_view_count": null,
            "_view_module": "@jupyter-widgets/base",
            "_view_module_version": "1.2.0",
            "_view_name": "StyleView",
            "description_width": ""
          }
        },
        "e3955dbbed6045b8ba5df0b94f8144df": {
          "model_module": "@jupyter-widgets/base",
          "model_name": "LayoutModel",
          "model_module_version": "1.2.0",
          "state": {
            "_model_module": "@jupyter-widgets/base",
            "_model_module_version": "1.2.0",
            "_model_name": "LayoutModel",
            "_view_count": null,
            "_view_module": "@jupyter-widgets/base",
            "_view_module_version": "1.2.0",
            "_view_name": "LayoutView",
            "align_content": null,
            "align_items": null,
            "align_self": null,
            "border": null,
            "bottom": null,
            "display": null,
            "flex": null,
            "flex_flow": null,
            "grid_area": null,
            "grid_auto_columns": null,
            "grid_auto_flow": null,
            "grid_auto_rows": null,
            "grid_column": null,
            "grid_gap": null,
            "grid_row": null,
            "grid_template_areas": null,
            "grid_template_columns": null,
            "grid_template_rows": null,
            "height": null,
            "justify_content": null,
            "justify_items": null,
            "left": null,
            "margin": null,
            "max_height": null,
            "max_width": null,
            "min_height": null,
            "min_width": null,
            "object_fit": null,
            "object_position": null,
            "order": null,
            "overflow": null,
            "overflow_x": null,
            "overflow_y": null,
            "padding": null,
            "right": null,
            "top": null,
            "visibility": null,
            "width": null
          }
        },
        "c187ff299e234b63bc88a1c50a311af7": {
          "model_module": "@jupyter-widgets/controls",
          "model_name": "ProgressStyleModel",
          "model_module_version": "1.5.0",
          "state": {
            "_model_module": "@jupyter-widgets/controls",
            "_model_module_version": "1.5.0",
            "_model_name": "ProgressStyleModel",
            "_view_count": null,
            "_view_module": "@jupyter-widgets/base",
            "_view_module_version": "1.2.0",
            "_view_name": "StyleView",
            "bar_color": null,
            "description_width": ""
          }
        },
        "b631f41650dd48c1b0ee2d40343163d1": {
          "model_module": "@jupyter-widgets/base",
          "model_name": "LayoutModel",
          "model_module_version": "1.2.0",
          "state": {
            "_model_module": "@jupyter-widgets/base",
            "_model_module_version": "1.2.0",
            "_model_name": "LayoutModel",
            "_view_count": null,
            "_view_module": "@jupyter-widgets/base",
            "_view_module_version": "1.2.0",
            "_view_name": "LayoutView",
            "align_content": null,
            "align_items": null,
            "align_self": null,
            "border": null,
            "bottom": null,
            "display": null,
            "flex": null,
            "flex_flow": null,
            "grid_area": null,
            "grid_auto_columns": null,
            "grid_auto_flow": null,
            "grid_auto_rows": null,
            "grid_column": null,
            "grid_gap": null,
            "grid_row": null,
            "grid_template_areas": null,
            "grid_template_columns": null,
            "grid_template_rows": null,
            "height": null,
            "justify_content": null,
            "justify_items": null,
            "left": null,
            "margin": null,
            "max_height": null,
            "max_width": null,
            "min_height": null,
            "min_width": null,
            "object_fit": null,
            "object_position": null,
            "order": null,
            "overflow": null,
            "overflow_x": null,
            "overflow_y": null,
            "padding": null,
            "right": null,
            "top": null,
            "visibility": null,
            "width": null
          }
        },
        "2655790a9a5e4299988aa5c1dadb391d": {
          "model_module": "@jupyter-widgets/controls",
          "model_name": "DescriptionStyleModel",
          "model_module_version": "1.5.0",
          "state": {
            "_model_module": "@jupyter-widgets/controls",
            "_model_module_version": "1.5.0",
            "_model_name": "DescriptionStyleModel",
            "_view_count": null,
            "_view_module": "@jupyter-widgets/base",
            "_view_module_version": "1.2.0",
            "_view_name": "StyleView",
            "description_width": ""
          }
        },
        "51d680ebf3bf4da0899b89ea91d8e6d6": {
          "model_module": "@jupyter-widgets/controls",
          "model_name": "HBoxModel",
          "model_module_version": "1.5.0",
          "state": {
            "_dom_classes": [],
            "_model_module": "@jupyter-widgets/controls",
            "_model_module_version": "1.5.0",
            "_model_name": "HBoxModel",
            "_view_count": null,
            "_view_module": "@jupyter-widgets/controls",
            "_view_module_version": "1.5.0",
            "_view_name": "HBoxView",
            "box_style": "",
            "children": [
              "IPY_MODEL_2465788d1d5f49688282dcf7c2df17a7",
              "IPY_MODEL_3abce947c71e4786901e48914563120b",
              "IPY_MODEL_aab9caf8b70f40bbbb020671ac68dfd7"
            ],
            "layout": "IPY_MODEL_457034453e92423086036e4b9a596f97"
          }
        },
        "2465788d1d5f49688282dcf7c2df17a7": {
          "model_module": "@jupyter-widgets/controls",
          "model_name": "HTMLModel",
          "model_module_version": "1.5.0",
          "state": {
            "_dom_classes": [],
            "_model_module": "@jupyter-widgets/controls",
            "_model_module_version": "1.5.0",
            "_model_name": "HTMLModel",
            "_view_count": null,
            "_view_module": "@jupyter-widgets/controls",
            "_view_module_version": "1.5.0",
            "_view_name": "HTMLView",
            "description": "",
            "description_tooltip": null,
            "layout": "IPY_MODEL_c3e6d71f477b4613b9a81f666f032924",
            "placeholder": "​",
            "style": "IPY_MODEL_b545349559094309bf8e11c7c886ee37",
            "value": "Downloading data: 100%"
          }
        },
        "3abce947c71e4786901e48914563120b": {
          "model_module": "@jupyter-widgets/controls",
          "model_name": "FloatProgressModel",
          "model_module_version": "1.5.0",
          "state": {
            "_dom_classes": [],
            "_model_module": "@jupyter-widgets/controls",
            "_model_module_version": "1.5.0",
            "_model_name": "FloatProgressModel",
            "_view_count": null,
            "_view_module": "@jupyter-widgets/controls",
            "_view_module_version": "1.5.0",
            "_view_name": "ProgressView",
            "bar_style": "success",
            "description": "",
            "description_tooltip": null,
            "layout": "IPY_MODEL_d20563adeb544b56b7219b14b887700b",
            "max": 487201907,
            "min": 0,
            "orientation": "horizontal",
            "style": "IPY_MODEL_88065cd2de3942e39ff6867044285ea3",
            "value": 487201907
          }
        },
        "aab9caf8b70f40bbbb020671ac68dfd7": {
          "model_module": "@jupyter-widgets/controls",
          "model_name": "HTMLModel",
          "model_module_version": "1.5.0",
          "state": {
            "_dom_classes": [],
            "_model_module": "@jupyter-widgets/controls",
            "_model_module_version": "1.5.0",
            "_model_name": "HTMLModel",
            "_view_count": null,
            "_view_module": "@jupyter-widgets/controls",
            "_view_module_version": "1.5.0",
            "_view_name": "HTMLView",
            "description": "",
            "description_tooltip": null,
            "layout": "IPY_MODEL_798f8d5aa5c449a28569df5ecbb03d8e",
            "placeholder": "​",
            "style": "IPY_MODEL_97a3794a7acf4e34aba0c5119a8cea0c",
            "value": " 487M/487M [00:39&lt;00:00, 12.2MB/s]"
          }
        },
        "457034453e92423086036e4b9a596f97": {
          "model_module": "@jupyter-widgets/base",
          "model_name": "LayoutModel",
          "model_module_version": "1.2.0",
          "state": {
            "_model_module": "@jupyter-widgets/base",
            "_model_module_version": "1.2.0",
            "_model_name": "LayoutModel",
            "_view_count": null,
            "_view_module": "@jupyter-widgets/base",
            "_view_module_version": "1.2.0",
            "_view_name": "LayoutView",
            "align_content": null,
            "align_items": null,
            "align_self": null,
            "border": null,
            "bottom": null,
            "display": null,
            "flex": null,
            "flex_flow": null,
            "grid_area": null,
            "grid_auto_columns": null,
            "grid_auto_flow": null,
            "grid_auto_rows": null,
            "grid_column": null,
            "grid_gap": null,
            "grid_row": null,
            "grid_template_areas": null,
            "grid_template_columns": null,
            "grid_template_rows": null,
            "height": null,
            "justify_content": null,
            "justify_items": null,
            "left": null,
            "margin": null,
            "max_height": null,
            "max_width": null,
            "min_height": null,
            "min_width": null,
            "object_fit": null,
            "object_position": null,
            "order": null,
            "overflow": null,
            "overflow_x": null,
            "overflow_y": null,
            "padding": null,
            "right": null,
            "top": null,
            "visibility": null,
            "width": null
          }
        },
        "c3e6d71f477b4613b9a81f666f032924": {
          "model_module": "@jupyter-widgets/base",
          "model_name": "LayoutModel",
          "model_module_version": "1.2.0",
          "state": {
            "_model_module": "@jupyter-widgets/base",
            "_model_module_version": "1.2.0",
            "_model_name": "LayoutModel",
            "_view_count": null,
            "_view_module": "@jupyter-widgets/base",
            "_view_module_version": "1.2.0",
            "_view_name": "LayoutView",
            "align_content": null,
            "align_items": null,
            "align_self": null,
            "border": null,
            "bottom": null,
            "display": null,
            "flex": null,
            "flex_flow": null,
            "grid_area": null,
            "grid_auto_columns": null,
            "grid_auto_flow": null,
            "grid_auto_rows": null,
            "grid_column": null,
            "grid_gap": null,
            "grid_row": null,
            "grid_template_areas": null,
            "grid_template_columns": null,
            "grid_template_rows": null,
            "height": null,
            "justify_content": null,
            "justify_items": null,
            "left": null,
            "margin": null,
            "max_height": null,
            "max_width": null,
            "min_height": null,
            "min_width": null,
            "object_fit": null,
            "object_position": null,
            "order": null,
            "overflow": null,
            "overflow_x": null,
            "overflow_y": null,
            "padding": null,
            "right": null,
            "top": null,
            "visibility": null,
            "width": null
          }
        },
        "b545349559094309bf8e11c7c886ee37": {
          "model_module": "@jupyter-widgets/controls",
          "model_name": "DescriptionStyleModel",
          "model_module_version": "1.5.0",
          "state": {
            "_model_module": "@jupyter-widgets/controls",
            "_model_module_version": "1.5.0",
            "_model_name": "DescriptionStyleModel",
            "_view_count": null,
            "_view_module": "@jupyter-widgets/base",
            "_view_module_version": "1.2.0",
            "_view_name": "StyleView",
            "description_width": ""
          }
        },
        "d20563adeb544b56b7219b14b887700b": {
          "model_module": "@jupyter-widgets/base",
          "model_name": "LayoutModel",
          "model_module_version": "1.2.0",
          "state": {
            "_model_module": "@jupyter-widgets/base",
            "_model_module_version": "1.2.0",
            "_model_name": "LayoutModel",
            "_view_count": null,
            "_view_module": "@jupyter-widgets/base",
            "_view_module_version": "1.2.0",
            "_view_name": "LayoutView",
            "align_content": null,
            "align_items": null,
            "align_self": null,
            "border": null,
            "bottom": null,
            "display": null,
            "flex": null,
            "flex_flow": null,
            "grid_area": null,
            "grid_auto_columns": null,
            "grid_auto_flow": null,
            "grid_auto_rows": null,
            "grid_column": null,
            "grid_gap": null,
            "grid_row": null,
            "grid_template_areas": null,
            "grid_template_columns": null,
            "grid_template_rows": null,
            "height": null,
            "justify_content": null,
            "justify_items": null,
            "left": null,
            "margin": null,
            "max_height": null,
            "max_width": null,
            "min_height": null,
            "min_width": null,
            "object_fit": null,
            "object_position": null,
            "order": null,
            "overflow": null,
            "overflow_x": null,
            "overflow_y": null,
            "padding": null,
            "right": null,
            "top": null,
            "visibility": null,
            "width": null
          }
        },
        "88065cd2de3942e39ff6867044285ea3": {
          "model_module": "@jupyter-widgets/controls",
          "model_name": "ProgressStyleModel",
          "model_module_version": "1.5.0",
          "state": {
            "_model_module": "@jupyter-widgets/controls",
            "_model_module_version": "1.5.0",
            "_model_name": "ProgressStyleModel",
            "_view_count": null,
            "_view_module": "@jupyter-widgets/base",
            "_view_module_version": "1.2.0",
            "_view_name": "StyleView",
            "bar_color": null,
            "description_width": ""
          }
        },
        "798f8d5aa5c449a28569df5ecbb03d8e": {
          "model_module": "@jupyter-widgets/base",
          "model_name": "LayoutModel",
          "model_module_version": "1.2.0",
          "state": {
            "_model_module": "@jupyter-widgets/base",
            "_model_module_version": "1.2.0",
            "_model_name": "LayoutModel",
            "_view_count": null,
            "_view_module": "@jupyter-widgets/base",
            "_view_module_version": "1.2.0",
            "_view_name": "LayoutView",
            "align_content": null,
            "align_items": null,
            "align_self": null,
            "border": null,
            "bottom": null,
            "display": null,
            "flex": null,
            "flex_flow": null,
            "grid_area": null,
            "grid_auto_columns": null,
            "grid_auto_flow": null,
            "grid_auto_rows": null,
            "grid_column": null,
            "grid_gap": null,
            "grid_row": null,
            "grid_template_areas": null,
            "grid_template_columns": null,
            "grid_template_rows": null,
            "height": null,
            "justify_content": null,
            "justify_items": null,
            "left": null,
            "margin": null,
            "max_height": null,
            "max_width": null,
            "min_height": null,
            "min_width": null,
            "object_fit": null,
            "object_position": null,
            "order": null,
            "overflow": null,
            "overflow_x": null,
            "overflow_y": null,
            "padding": null,
            "right": null,
            "top": null,
            "visibility": null,
            "width": null
          }
        },
        "97a3794a7acf4e34aba0c5119a8cea0c": {
          "model_module": "@jupyter-widgets/controls",
          "model_name": "DescriptionStyleModel",
          "model_module_version": "1.5.0",
          "state": {
            "_model_module": "@jupyter-widgets/controls",
            "_model_module_version": "1.5.0",
            "_model_name": "DescriptionStyleModel",
            "_view_count": null,
            "_view_module": "@jupyter-widgets/base",
            "_view_module_version": "1.2.0",
            "_view_name": "StyleView",
            "description_width": ""
          }
        },
        "ee6b9294f51740c387e616bd404e31b1": {
          "model_module": "@jupyter-widgets/controls",
          "model_name": "HBoxModel",
          "model_module_version": "1.5.0",
          "state": {
            "_dom_classes": [],
            "_model_module": "@jupyter-widgets/controls",
            "_model_module_version": "1.5.0",
            "_model_name": "HBoxModel",
            "_view_count": null,
            "_view_module": "@jupyter-widgets/controls",
            "_view_module_version": "1.5.0",
            "_view_name": "HBoxView",
            "box_style": "",
            "children": [
              "IPY_MODEL_5c0b2e055a1d47149cb8cceee2079210",
              "IPY_MODEL_96e0f8195e6541e4a90adffd3287fa61",
              "IPY_MODEL_8770c54a8c2e4848b4e1c80b01538e7a"
            ],
            "layout": "IPY_MODEL_026423ccc5594baa98eaef239997d0e6"
          }
        },
        "5c0b2e055a1d47149cb8cceee2079210": {
          "model_module": "@jupyter-widgets/controls",
          "model_name": "HTMLModel",
          "model_module_version": "1.5.0",
          "state": {
            "_dom_classes": [],
            "_model_module": "@jupyter-widgets/controls",
            "_model_module_version": "1.5.0",
            "_model_name": "HTMLModel",
            "_view_count": null,
            "_view_module": "@jupyter-widgets/controls",
            "_view_module_version": "1.5.0",
            "_view_name": "HTMLView",
            "description": "",
            "description_tooltip": null,
            "layout": "IPY_MODEL_58592d415dde4384b73f4c138ed43dd3",
            "placeholder": "​",
            "style": "IPY_MODEL_6e16ce51e5314934a1353ea231fe7f07",
            "value": "Downloading data: 100%"
          }
        },
        "96e0f8195e6541e4a90adffd3287fa61": {
          "model_module": "@jupyter-widgets/controls",
          "model_name": "FloatProgressModel",
          "model_module_version": "1.5.0",
          "state": {
            "_dom_classes": [],
            "_model_module": "@jupyter-widgets/controls",
            "_model_module_version": "1.5.0",
            "_model_name": "FloatProgressModel",
            "_view_count": null,
            "_view_module": "@jupyter-widgets/controls",
            "_view_module_version": "1.5.0",
            "_view_name": "ProgressView",
            "bar_style": "success",
            "description": "",
            "description_tooltip": null,
            "layout": "IPY_MODEL_1a2c695f3ea842febb913ddaada6ecb4",
            "max": 99425708,
            "min": 0,
            "orientation": "horizontal",
            "style": "IPY_MODEL_61360d713fb94a79809ca722dc6eb938",
            "value": 99425708
          }
        },
        "8770c54a8c2e4848b4e1c80b01538e7a": {
          "model_module": "@jupyter-widgets/controls",
          "model_name": "HTMLModel",
          "model_module_version": "1.5.0",
          "state": {
            "_dom_classes": [],
            "_model_module": "@jupyter-widgets/controls",
            "_model_module_version": "1.5.0",
            "_model_name": "HTMLModel",
            "_view_count": null,
            "_view_module": "@jupyter-widgets/controls",
            "_view_module_version": "1.5.0",
            "_view_name": "HTMLView",
            "description": "",
            "description_tooltip": null,
            "layout": "IPY_MODEL_9dcbad267a0f468caba051c1c8bd58f6",
            "placeholder": "​",
            "style": "IPY_MODEL_e47bed203e7f4c9f8793876b3acd3a42",
            "value": " 99.4M/99.4M [00:07&lt;00:00, 15.8MB/s]"
          }
        },
        "026423ccc5594baa98eaef239997d0e6": {
          "model_module": "@jupyter-widgets/base",
          "model_name": "LayoutModel",
          "model_module_version": "1.2.0",
          "state": {
            "_model_module": "@jupyter-widgets/base",
            "_model_module_version": "1.2.0",
            "_model_name": "LayoutModel",
            "_view_count": null,
            "_view_module": "@jupyter-widgets/base",
            "_view_module_version": "1.2.0",
            "_view_name": "LayoutView",
            "align_content": null,
            "align_items": null,
            "align_self": null,
            "border": null,
            "bottom": null,
            "display": null,
            "flex": null,
            "flex_flow": null,
            "grid_area": null,
            "grid_auto_columns": null,
            "grid_auto_flow": null,
            "grid_auto_rows": null,
            "grid_column": null,
            "grid_gap": null,
            "grid_row": null,
            "grid_template_areas": null,
            "grid_template_columns": null,
            "grid_template_rows": null,
            "height": null,
            "justify_content": null,
            "justify_items": null,
            "left": null,
            "margin": null,
            "max_height": null,
            "max_width": null,
            "min_height": null,
            "min_width": null,
            "object_fit": null,
            "object_position": null,
            "order": null,
            "overflow": null,
            "overflow_x": null,
            "overflow_y": null,
            "padding": null,
            "right": null,
            "top": null,
            "visibility": null,
            "width": null
          }
        },
        "58592d415dde4384b73f4c138ed43dd3": {
          "model_module": "@jupyter-widgets/base",
          "model_name": "LayoutModel",
          "model_module_version": "1.2.0",
          "state": {
            "_model_module": "@jupyter-widgets/base",
            "_model_module_version": "1.2.0",
            "_model_name": "LayoutModel",
            "_view_count": null,
            "_view_module": "@jupyter-widgets/base",
            "_view_module_version": "1.2.0",
            "_view_name": "LayoutView",
            "align_content": null,
            "align_items": null,
            "align_self": null,
            "border": null,
            "bottom": null,
            "display": null,
            "flex": null,
            "flex_flow": null,
            "grid_area": null,
            "grid_auto_columns": null,
            "grid_auto_flow": null,
            "grid_auto_rows": null,
            "grid_column": null,
            "grid_gap": null,
            "grid_row": null,
            "grid_template_areas": null,
            "grid_template_columns": null,
            "grid_template_rows": null,
            "height": null,
            "justify_content": null,
            "justify_items": null,
            "left": null,
            "margin": null,
            "max_height": null,
            "max_width": null,
            "min_height": null,
            "min_width": null,
            "object_fit": null,
            "object_position": null,
            "order": null,
            "overflow": null,
            "overflow_x": null,
            "overflow_y": null,
            "padding": null,
            "right": null,
            "top": null,
            "visibility": null,
            "width": null
          }
        },
        "6e16ce51e5314934a1353ea231fe7f07": {
          "model_module": "@jupyter-widgets/controls",
          "model_name": "DescriptionStyleModel",
          "model_module_version": "1.5.0",
          "state": {
            "_model_module": "@jupyter-widgets/controls",
            "_model_module_version": "1.5.0",
            "_model_name": "DescriptionStyleModel",
            "_view_count": null,
            "_view_module": "@jupyter-widgets/base",
            "_view_module_version": "1.2.0",
            "_view_name": "StyleView",
            "description_width": ""
          }
        },
        "1a2c695f3ea842febb913ddaada6ecb4": {
          "model_module": "@jupyter-widgets/base",
          "model_name": "LayoutModel",
          "model_module_version": "1.2.0",
          "state": {
            "_model_module": "@jupyter-widgets/base",
            "_model_module_version": "1.2.0",
            "_model_name": "LayoutModel",
            "_view_count": null,
            "_view_module": "@jupyter-widgets/base",
            "_view_module_version": "1.2.0",
            "_view_name": "LayoutView",
            "align_content": null,
            "align_items": null,
            "align_self": null,
            "border": null,
            "bottom": null,
            "display": null,
            "flex": null,
            "flex_flow": null,
            "grid_area": null,
            "grid_auto_columns": null,
            "grid_auto_flow": null,
            "grid_auto_rows": null,
            "grid_column": null,
            "grid_gap": null,
            "grid_row": null,
            "grid_template_areas": null,
            "grid_template_columns": null,
            "grid_template_rows": null,
            "height": null,
            "justify_content": null,
            "justify_items": null,
            "left": null,
            "margin": null,
            "max_height": null,
            "max_width": null,
            "min_height": null,
            "min_width": null,
            "object_fit": null,
            "object_position": null,
            "order": null,
            "overflow": null,
            "overflow_x": null,
            "overflow_y": null,
            "padding": null,
            "right": null,
            "top": null,
            "visibility": null,
            "width": null
          }
        },
        "61360d713fb94a79809ca722dc6eb938": {
          "model_module": "@jupyter-widgets/controls",
          "model_name": "ProgressStyleModel",
          "model_module_version": "1.5.0",
          "state": {
            "_model_module": "@jupyter-widgets/controls",
            "_model_module_version": "1.5.0",
            "_model_name": "ProgressStyleModel",
            "_view_count": null,
            "_view_module": "@jupyter-widgets/base",
            "_view_module_version": "1.2.0",
            "_view_name": "StyleView",
            "bar_color": null,
            "description_width": ""
          }
        },
        "9dcbad267a0f468caba051c1c8bd58f6": {
          "model_module": "@jupyter-widgets/base",
          "model_name": "LayoutModel",
          "model_module_version": "1.2.0",
          "state": {
            "_model_module": "@jupyter-widgets/base",
            "_model_module_version": "1.2.0",
            "_model_name": "LayoutModel",
            "_view_count": null,
            "_view_module": "@jupyter-widgets/base",
            "_view_module_version": "1.2.0",
            "_view_name": "LayoutView",
            "align_content": null,
            "align_items": null,
            "align_self": null,
            "border": null,
            "bottom": null,
            "display": null,
            "flex": null,
            "flex_flow": null,
            "grid_area": null,
            "grid_auto_columns": null,
            "grid_auto_flow": null,
            "grid_auto_rows": null,
            "grid_column": null,
            "grid_gap": null,
            "grid_row": null,
            "grid_template_areas": null,
            "grid_template_columns": null,
            "grid_template_rows": null,
            "height": null,
            "justify_content": null,
            "justify_items": null,
            "left": null,
            "margin": null,
            "max_height": null,
            "max_width": null,
            "min_height": null,
            "min_width": null,
            "object_fit": null,
            "object_position": null,
            "order": null,
            "overflow": null,
            "overflow_x": null,
            "overflow_y": null,
            "padding": null,
            "right": null,
            "top": null,
            "visibility": null,
            "width": null
          }
        },
        "e47bed203e7f4c9f8793876b3acd3a42": {
          "model_module": "@jupyter-widgets/controls",
          "model_name": "DescriptionStyleModel",
          "model_module_version": "1.5.0",
          "state": {
            "_model_module": "@jupyter-widgets/controls",
            "_model_module_version": "1.5.0",
            "_model_name": "DescriptionStyleModel",
            "_view_count": null,
            "_view_module": "@jupyter-widgets/base",
            "_view_module_version": "1.2.0",
            "_view_name": "StyleView",
            "description_width": ""
          }
        },
        "13ec1dd4b8e64116851c17584bb366fc": {
          "model_module": "@jupyter-widgets/controls",
          "model_name": "HBoxModel",
          "model_module_version": "1.5.0",
          "state": {
            "_dom_classes": [],
            "_model_module": "@jupyter-widgets/controls",
            "_model_module_version": "1.5.0",
            "_model_name": "HBoxModel",
            "_view_count": null,
            "_view_module": "@jupyter-widgets/controls",
            "_view_module_version": "1.5.0",
            "_view_name": "HBoxView",
            "box_style": "",
            "children": [
              "IPY_MODEL_d4125ff48de74bbe8bf50830c597118a",
              "IPY_MODEL_41046d5c84c04239967fe491a2a98449",
              "IPY_MODEL_96dfff2209684f1fa4c110a13fb76d46"
            ],
            "layout": "IPY_MODEL_86014310310e4a5d8ff1e4a239478596"
          }
        },
        "d4125ff48de74bbe8bf50830c597118a": {
          "model_module": "@jupyter-widgets/controls",
          "model_name": "HTMLModel",
          "model_module_version": "1.5.0",
          "state": {
            "_dom_classes": [],
            "_model_module": "@jupyter-widgets/controls",
            "_model_module_version": "1.5.0",
            "_model_name": "HTMLModel",
            "_view_count": null,
            "_view_module": "@jupyter-widgets/controls",
            "_view_module_version": "1.5.0",
            "_view_name": "HTMLView",
            "description": "",
            "description_tooltip": null,
            "layout": "IPY_MODEL_5919adb1d5c64ea290319754bc0eab71",
            "placeholder": "​",
            "style": "IPY_MODEL_c089763b26ea4db3a17b4c868d100eed",
            "value": "Downloading data: 100%"
          }
        },
        "41046d5c84c04239967fe491a2a98449": {
          "model_module": "@jupyter-widgets/controls",
          "model_name": "FloatProgressModel",
          "model_module_version": "1.5.0",
          "state": {
            "_dom_classes": [],
            "_model_module": "@jupyter-widgets/controls",
            "_model_module_version": "1.5.0",
            "_model_name": "FloatProgressModel",
            "_view_count": null,
            "_view_module": "@jupyter-widgets/controls",
            "_view_module_version": "1.5.0",
            "_view_name": "ProgressView",
            "bar_style": "success",
            "description": "",
            "description_tooltip": null,
            "layout": "IPY_MODEL_7fcd1fce74ba47bd9950db362488e0a8",
            "max": 97938986,
            "min": 0,
            "orientation": "horizontal",
            "style": "IPY_MODEL_d834ef2b25504992b58e0f4e93482510",
            "value": 97938986
          }
        },
        "96dfff2209684f1fa4c110a13fb76d46": {
          "model_module": "@jupyter-widgets/controls",
          "model_name": "HTMLModel",
          "model_module_version": "1.5.0",
          "state": {
            "_dom_classes": [],
            "_model_module": "@jupyter-widgets/controls",
            "_model_module_version": "1.5.0",
            "_model_name": "HTMLModel",
            "_view_count": null,
            "_view_module": "@jupyter-widgets/controls",
            "_view_module_version": "1.5.0",
            "_view_name": "HTMLView",
            "description": "",
            "description_tooltip": null,
            "layout": "IPY_MODEL_661a54c500f34d4f9bd595983a6034f7",
            "placeholder": "​",
            "style": "IPY_MODEL_be3c92d9ec9d45e687e7d528f54c558a",
            "value": " 97.9M/97.9M [00:07&lt;00:00, 15.9MB/s]"
          }
        },
        "86014310310e4a5d8ff1e4a239478596": {
          "model_module": "@jupyter-widgets/base",
          "model_name": "LayoutModel",
          "model_module_version": "1.2.0",
          "state": {
            "_model_module": "@jupyter-widgets/base",
            "_model_module_version": "1.2.0",
            "_model_name": "LayoutModel",
            "_view_count": null,
            "_view_module": "@jupyter-widgets/base",
            "_view_module_version": "1.2.0",
            "_view_name": "LayoutView",
            "align_content": null,
            "align_items": null,
            "align_self": null,
            "border": null,
            "bottom": null,
            "display": null,
            "flex": null,
            "flex_flow": null,
            "grid_area": null,
            "grid_auto_columns": null,
            "grid_auto_flow": null,
            "grid_auto_rows": null,
            "grid_column": null,
            "grid_gap": null,
            "grid_row": null,
            "grid_template_areas": null,
            "grid_template_columns": null,
            "grid_template_rows": null,
            "height": null,
            "justify_content": null,
            "justify_items": null,
            "left": null,
            "margin": null,
            "max_height": null,
            "max_width": null,
            "min_height": null,
            "min_width": null,
            "object_fit": null,
            "object_position": null,
            "order": null,
            "overflow": null,
            "overflow_x": null,
            "overflow_y": null,
            "padding": null,
            "right": null,
            "top": null,
            "visibility": null,
            "width": null
          }
        },
        "5919adb1d5c64ea290319754bc0eab71": {
          "model_module": "@jupyter-widgets/base",
          "model_name": "LayoutModel",
          "model_module_version": "1.2.0",
          "state": {
            "_model_module": "@jupyter-widgets/base",
            "_model_module_version": "1.2.0",
            "_model_name": "LayoutModel",
            "_view_count": null,
            "_view_module": "@jupyter-widgets/base",
            "_view_module_version": "1.2.0",
            "_view_name": "LayoutView",
            "align_content": null,
            "align_items": null,
            "align_self": null,
            "border": null,
            "bottom": null,
            "display": null,
            "flex": null,
            "flex_flow": null,
            "grid_area": null,
            "grid_auto_columns": null,
            "grid_auto_flow": null,
            "grid_auto_rows": null,
            "grid_column": null,
            "grid_gap": null,
            "grid_row": null,
            "grid_template_areas": null,
            "grid_template_columns": null,
            "grid_template_rows": null,
            "height": null,
            "justify_content": null,
            "justify_items": null,
            "left": null,
            "margin": null,
            "max_height": null,
            "max_width": null,
            "min_height": null,
            "min_width": null,
            "object_fit": null,
            "object_position": null,
            "order": null,
            "overflow": null,
            "overflow_x": null,
            "overflow_y": null,
            "padding": null,
            "right": null,
            "top": null,
            "visibility": null,
            "width": null
          }
        },
        "c089763b26ea4db3a17b4c868d100eed": {
          "model_module": "@jupyter-widgets/controls",
          "model_name": "DescriptionStyleModel",
          "model_module_version": "1.5.0",
          "state": {
            "_model_module": "@jupyter-widgets/controls",
            "_model_module_version": "1.5.0",
            "_model_name": "DescriptionStyleModel",
            "_view_count": null,
            "_view_module": "@jupyter-widgets/base",
            "_view_module_version": "1.2.0",
            "_view_name": "StyleView",
            "description_width": ""
          }
        },
        "7fcd1fce74ba47bd9950db362488e0a8": {
          "model_module": "@jupyter-widgets/base",
          "model_name": "LayoutModel",
          "model_module_version": "1.2.0",
          "state": {
            "_model_module": "@jupyter-widgets/base",
            "_model_module_version": "1.2.0",
            "_model_name": "LayoutModel",
            "_view_count": null,
            "_view_module": "@jupyter-widgets/base",
            "_view_module_version": "1.2.0",
            "_view_name": "LayoutView",
            "align_content": null,
            "align_items": null,
            "align_self": null,
            "border": null,
            "bottom": null,
            "display": null,
            "flex": null,
            "flex_flow": null,
            "grid_area": null,
            "grid_auto_columns": null,
            "grid_auto_flow": null,
            "grid_auto_rows": null,
            "grid_column": null,
            "grid_gap": null,
            "grid_row": null,
            "grid_template_areas": null,
            "grid_template_columns": null,
            "grid_template_rows": null,
            "height": null,
            "justify_content": null,
            "justify_items": null,
            "left": null,
            "margin": null,
            "max_height": null,
            "max_width": null,
            "min_height": null,
            "min_width": null,
            "object_fit": null,
            "object_position": null,
            "order": null,
            "overflow": null,
            "overflow_x": null,
            "overflow_y": null,
            "padding": null,
            "right": null,
            "top": null,
            "visibility": null,
            "width": null
          }
        },
        "d834ef2b25504992b58e0f4e93482510": {
          "model_module": "@jupyter-widgets/controls",
          "model_name": "ProgressStyleModel",
          "model_module_version": "1.5.0",
          "state": {
            "_model_module": "@jupyter-widgets/controls",
            "_model_module_version": "1.5.0",
            "_model_name": "ProgressStyleModel",
            "_view_count": null,
            "_view_module": "@jupyter-widgets/base",
            "_view_module_version": "1.2.0",
            "_view_name": "StyleView",
            "bar_color": null,
            "description_width": ""
          }
        },
        "661a54c500f34d4f9bd595983a6034f7": {
          "model_module": "@jupyter-widgets/base",
          "model_name": "LayoutModel",
          "model_module_version": "1.2.0",
          "state": {
            "_model_module": "@jupyter-widgets/base",
            "_model_module_version": "1.2.0",
            "_model_name": "LayoutModel",
            "_view_count": null,
            "_view_module": "@jupyter-widgets/base",
            "_view_module_version": "1.2.0",
            "_view_name": "LayoutView",
            "align_content": null,
            "align_items": null,
            "align_self": null,
            "border": null,
            "bottom": null,
            "display": null,
            "flex": null,
            "flex_flow": null,
            "grid_area": null,
            "grid_auto_columns": null,
            "grid_auto_flow": null,
            "grid_auto_rows": null,
            "grid_column": null,
            "grid_gap": null,
            "grid_row": null,
            "grid_template_areas": null,
            "grid_template_columns": null,
            "grid_template_rows": null,
            "height": null,
            "justify_content": null,
            "justify_items": null,
            "left": null,
            "margin": null,
            "max_height": null,
            "max_width": null,
            "min_height": null,
            "min_width": null,
            "object_fit": null,
            "object_position": null,
            "order": null,
            "overflow": null,
            "overflow_x": null,
            "overflow_y": null,
            "padding": null,
            "right": null,
            "top": null,
            "visibility": null,
            "width": null
          }
        },
        "be3c92d9ec9d45e687e7d528f54c558a": {
          "model_module": "@jupyter-widgets/controls",
          "model_name": "DescriptionStyleModel",
          "model_module_version": "1.5.0",
          "state": {
            "_model_module": "@jupyter-widgets/controls",
            "_model_module_version": "1.5.0",
            "_model_name": "DescriptionStyleModel",
            "_view_count": null,
            "_view_module": "@jupyter-widgets/base",
            "_view_module_version": "1.2.0",
            "_view_name": "StyleView",
            "description_width": ""
          }
        },
        "cb34b518171e448daa086978340d72d0": {
          "model_module": "@jupyter-widgets/controls",
          "model_name": "HBoxModel",
          "model_module_version": "1.5.0",
          "state": {
            "_dom_classes": [],
            "_model_module": "@jupyter-widgets/controls",
            "_model_module_version": "1.5.0",
            "_model_name": "HBoxModel",
            "_view_count": null,
            "_view_module": "@jupyter-widgets/controls",
            "_view_module_version": "1.5.0",
            "_view_name": "HBoxView",
            "box_style": "",
            "children": [
              "IPY_MODEL_3b436ee77ee1499dbb59e572d070f85d",
              "IPY_MODEL_068f126c653c47db99c4d87fcc249ae2",
              "IPY_MODEL_ff18c30563d643538c42b8f022ce92a9"
            ],
            "layout": "IPY_MODEL_8ee1f0b9d8004120b9cdbd5a22d143c2"
          }
        },
        "3b436ee77ee1499dbb59e572d070f85d": {
          "model_module": "@jupyter-widgets/controls",
          "model_name": "HTMLModel",
          "model_module_version": "1.5.0",
          "state": {
            "_dom_classes": [],
            "_model_module": "@jupyter-widgets/controls",
            "_model_module_version": "1.5.0",
            "_model_name": "HTMLModel",
            "_view_count": null,
            "_view_module": "@jupyter-widgets/controls",
            "_view_module_version": "1.5.0",
            "_view_name": "HTMLView",
            "description": "",
            "description_tooltip": null,
            "layout": "IPY_MODEL_03eafb2cabd74217b1d0a50579128c6a",
            "placeholder": "​",
            "style": "IPY_MODEL_33448ffee6a44bac86dc494eb8b685b1",
            "value": "Generating train split: "
          }
        },
        "068f126c653c47db99c4d87fcc249ae2": {
          "model_module": "@jupyter-widgets/controls",
          "model_name": "FloatProgressModel",
          "model_module_version": "1.5.0",
          "state": {
            "_dom_classes": [],
            "_model_module": "@jupyter-widgets/controls",
            "_model_module_version": "1.5.0",
            "_model_name": "FloatProgressModel",
            "_view_count": null,
            "_view_module": "@jupyter-widgets/controls",
            "_view_module_version": "1.5.0",
            "_view_name": "ProgressView",
            "bar_style": "success",
            "description": "",
            "description_tooltip": null,
            "layout": "IPY_MODEL_4ffbe466a1aa467db1c469eb97819a74",
            "max": 1,
            "min": 0,
            "orientation": "horizontal",
            "style": "IPY_MODEL_11cb22290d154d4ea48854754dbda0ed",
            "value": 1
          }
        },
        "ff18c30563d643538c42b8f022ce92a9": {
          "model_module": "@jupyter-widgets/controls",
          "model_name": "HTMLModel",
          "model_module_version": "1.5.0",
          "state": {
            "_dom_classes": [],
            "_model_module": "@jupyter-widgets/controls",
            "_model_module_version": "1.5.0",
            "_model_name": "HTMLModel",
            "_view_count": null,
            "_view_module": "@jupyter-widgets/controls",
            "_view_module_version": "1.5.0",
            "_view_name": "HTMLView",
            "description": "",
            "description_tooltip": null,
            "layout": "IPY_MODEL_3c6d089eb99446f1b0db8ee1e9199de1",
            "placeholder": "​",
            "style": "IPY_MODEL_576b6021144940b7b86d85c35cfc24e3",
            "value": " 25000/0 [00:05&lt;00:00, 4142.17 examples/s]"
          }
        },
        "8ee1f0b9d8004120b9cdbd5a22d143c2": {
          "model_module": "@jupyter-widgets/base",
          "model_name": "LayoutModel",
          "model_module_version": "1.2.0",
          "state": {
            "_model_module": "@jupyter-widgets/base",
            "_model_module_version": "1.2.0",
            "_model_name": "LayoutModel",
            "_view_count": null,
            "_view_module": "@jupyter-widgets/base",
            "_view_module_version": "1.2.0",
            "_view_name": "LayoutView",
            "align_content": null,
            "align_items": null,
            "align_self": null,
            "border": null,
            "bottom": null,
            "display": null,
            "flex": null,
            "flex_flow": null,
            "grid_area": null,
            "grid_auto_columns": null,
            "grid_auto_flow": null,
            "grid_auto_rows": null,
            "grid_column": null,
            "grid_gap": null,
            "grid_row": null,
            "grid_template_areas": null,
            "grid_template_columns": null,
            "grid_template_rows": null,
            "height": null,
            "justify_content": null,
            "justify_items": null,
            "left": null,
            "margin": null,
            "max_height": null,
            "max_width": null,
            "min_height": null,
            "min_width": null,
            "object_fit": null,
            "object_position": null,
            "order": null,
            "overflow": null,
            "overflow_x": null,
            "overflow_y": null,
            "padding": null,
            "right": null,
            "top": null,
            "visibility": null,
            "width": null
          }
        },
        "03eafb2cabd74217b1d0a50579128c6a": {
          "model_module": "@jupyter-widgets/base",
          "model_name": "LayoutModel",
          "model_module_version": "1.2.0",
          "state": {
            "_model_module": "@jupyter-widgets/base",
            "_model_module_version": "1.2.0",
            "_model_name": "LayoutModel",
            "_view_count": null,
            "_view_module": "@jupyter-widgets/base",
            "_view_module_version": "1.2.0",
            "_view_name": "LayoutView",
            "align_content": null,
            "align_items": null,
            "align_self": null,
            "border": null,
            "bottom": null,
            "display": null,
            "flex": null,
            "flex_flow": null,
            "grid_area": null,
            "grid_auto_columns": null,
            "grid_auto_flow": null,
            "grid_auto_rows": null,
            "grid_column": null,
            "grid_gap": null,
            "grid_row": null,
            "grid_template_areas": null,
            "grid_template_columns": null,
            "grid_template_rows": null,
            "height": null,
            "justify_content": null,
            "justify_items": null,
            "left": null,
            "margin": null,
            "max_height": null,
            "max_width": null,
            "min_height": null,
            "min_width": null,
            "object_fit": null,
            "object_position": null,
            "order": null,
            "overflow": null,
            "overflow_x": null,
            "overflow_y": null,
            "padding": null,
            "right": null,
            "top": null,
            "visibility": null,
            "width": null
          }
        },
        "33448ffee6a44bac86dc494eb8b685b1": {
          "model_module": "@jupyter-widgets/controls",
          "model_name": "DescriptionStyleModel",
          "model_module_version": "1.5.0",
          "state": {
            "_model_module": "@jupyter-widgets/controls",
            "_model_module_version": "1.5.0",
            "_model_name": "DescriptionStyleModel",
            "_view_count": null,
            "_view_module": "@jupyter-widgets/base",
            "_view_module_version": "1.2.0",
            "_view_name": "StyleView",
            "description_width": ""
          }
        },
        "4ffbe466a1aa467db1c469eb97819a74": {
          "model_module": "@jupyter-widgets/base",
          "model_name": "LayoutModel",
          "model_module_version": "1.2.0",
          "state": {
            "_model_module": "@jupyter-widgets/base",
            "_model_module_version": "1.2.0",
            "_model_name": "LayoutModel",
            "_view_count": null,
            "_view_module": "@jupyter-widgets/base",
            "_view_module_version": "1.2.0",
            "_view_name": "LayoutView",
            "align_content": null,
            "align_items": null,
            "align_self": null,
            "border": null,
            "bottom": null,
            "display": null,
            "flex": null,
            "flex_flow": null,
            "grid_area": null,
            "grid_auto_columns": null,
            "grid_auto_flow": null,
            "grid_auto_rows": null,
            "grid_column": null,
            "grid_gap": null,
            "grid_row": null,
            "grid_template_areas": null,
            "grid_template_columns": null,
            "grid_template_rows": null,
            "height": null,
            "justify_content": null,
            "justify_items": null,
            "left": null,
            "margin": null,
            "max_height": null,
            "max_width": null,
            "min_height": null,
            "min_width": null,
            "object_fit": null,
            "object_position": null,
            "order": null,
            "overflow": null,
            "overflow_x": null,
            "overflow_y": null,
            "padding": null,
            "right": null,
            "top": null,
            "visibility": null,
            "width": "20px"
          }
        },
        "11cb22290d154d4ea48854754dbda0ed": {
          "model_module": "@jupyter-widgets/controls",
          "model_name": "ProgressStyleModel",
          "model_module_version": "1.5.0",
          "state": {
            "_model_module": "@jupyter-widgets/controls",
            "_model_module_version": "1.5.0",
            "_model_name": "ProgressStyleModel",
            "_view_count": null,
            "_view_module": "@jupyter-widgets/base",
            "_view_module_version": "1.2.0",
            "_view_name": "StyleView",
            "bar_color": null,
            "description_width": ""
          }
        },
        "3c6d089eb99446f1b0db8ee1e9199de1": {
          "model_module": "@jupyter-widgets/base",
          "model_name": "LayoutModel",
          "model_module_version": "1.2.0",
          "state": {
            "_model_module": "@jupyter-widgets/base",
            "_model_module_version": "1.2.0",
            "_model_name": "LayoutModel",
            "_view_count": null,
            "_view_module": "@jupyter-widgets/base",
            "_view_module_version": "1.2.0",
            "_view_name": "LayoutView",
            "align_content": null,
            "align_items": null,
            "align_self": null,
            "border": null,
            "bottom": null,
            "display": null,
            "flex": null,
            "flex_flow": null,
            "grid_area": null,
            "grid_auto_columns": null,
            "grid_auto_flow": null,
            "grid_auto_rows": null,
            "grid_column": null,
            "grid_gap": null,
            "grid_row": null,
            "grid_template_areas": null,
            "grid_template_columns": null,
            "grid_template_rows": null,
            "height": null,
            "justify_content": null,
            "justify_items": null,
            "left": null,
            "margin": null,
            "max_height": null,
            "max_width": null,
            "min_height": null,
            "min_width": null,
            "object_fit": null,
            "object_position": null,
            "order": null,
            "overflow": null,
            "overflow_x": null,
            "overflow_y": null,
            "padding": null,
            "right": null,
            "top": null,
            "visibility": null,
            "width": null
          }
        },
        "576b6021144940b7b86d85c35cfc24e3": {
          "model_module": "@jupyter-widgets/controls",
          "model_name": "DescriptionStyleModel",
          "model_module_version": "1.5.0",
          "state": {
            "_model_module": "@jupyter-widgets/controls",
            "_model_module_version": "1.5.0",
            "_model_name": "DescriptionStyleModel",
            "_view_count": null,
            "_view_module": "@jupyter-widgets/base",
            "_view_module_version": "1.2.0",
            "_view_name": "StyleView",
            "description_width": ""
          }
        },
        "697523fa19ba4f65988942af3a9f5cbd": {
          "model_module": "@jupyter-widgets/controls",
          "model_name": "HBoxModel",
          "model_module_version": "1.5.0",
          "state": {
            "_dom_classes": [],
            "_model_module": "@jupyter-widgets/controls",
            "_model_module_version": "1.5.0",
            "_model_name": "HBoxModel",
            "_view_count": null,
            "_view_module": "@jupyter-widgets/controls",
            "_view_module_version": "1.5.0",
            "_view_name": "HBoxView",
            "box_style": "",
            "children": [
              "IPY_MODEL_d1fa152d47164813ae5fa9c0bf8ba5ad",
              "IPY_MODEL_20ff837bcfb24b96a010cb0db1098e72",
              "IPY_MODEL_a94c47263e7443219e7b1879351d39c8"
            ],
            "layout": "IPY_MODEL_efb3f96fe8f34344a3efaf822679175f"
          }
        },
        "d1fa152d47164813ae5fa9c0bf8ba5ad": {
          "model_module": "@jupyter-widgets/controls",
          "model_name": "HTMLModel",
          "model_module_version": "1.5.0",
          "state": {
            "_dom_classes": [],
            "_model_module": "@jupyter-widgets/controls",
            "_model_module_version": "1.5.0",
            "_model_name": "HTMLModel",
            "_view_count": null,
            "_view_module": "@jupyter-widgets/controls",
            "_view_module_version": "1.5.0",
            "_view_name": "HTMLView",
            "description": "",
            "description_tooltip": null,
            "layout": "IPY_MODEL_8e0b01f9f3c04d488d4d2d55fb709dea",
            "placeholder": "​",
            "style": "IPY_MODEL_91c0248ec04e484590e6e5b01d0f07b8",
            "value": "Generating validation split: "
          }
        },
        "20ff837bcfb24b96a010cb0db1098e72": {
          "model_module": "@jupyter-widgets/controls",
          "model_name": "FloatProgressModel",
          "model_module_version": "1.5.0",
          "state": {
            "_dom_classes": [],
            "_model_module": "@jupyter-widgets/controls",
            "_model_module_version": "1.5.0",
            "_model_name": "FloatProgressModel",
            "_view_count": null,
            "_view_module": "@jupyter-widgets/controls",
            "_view_module_version": "1.5.0",
            "_view_name": "ProgressView",
            "bar_style": "success",
            "description": "",
            "description_tooltip": null,
            "layout": "IPY_MODEL_d8af0193c6d34aefa55a75635dfee68a",
            "max": 1,
            "min": 0,
            "orientation": "horizontal",
            "style": "IPY_MODEL_776e243954da48c79a1bd9e58af8b5e3",
            "value": 1
          }
        },
        "a94c47263e7443219e7b1879351d39c8": {
          "model_module": "@jupyter-widgets/controls",
          "model_name": "HTMLModel",
          "model_module_version": "1.5.0",
          "state": {
            "_dom_classes": [],
            "_model_module": "@jupyter-widgets/controls",
            "_model_module_version": "1.5.0",
            "_model_name": "HTMLModel",
            "_view_count": null,
            "_view_module": "@jupyter-widgets/controls",
            "_view_module_version": "1.5.0",
            "_view_name": "HTMLView",
            "description": "",
            "description_tooltip": null,
            "layout": "IPY_MODEL_3fd0fbde1f824c528fcdc4a6922cc951",
            "placeholder": "​",
            "style": "IPY_MODEL_771e5a5892e345598eb621273ac935b8",
            "value": " 5000/0 [00:01&lt;00:00, 3810.46 examples/s]"
          }
        },
        "efb3f96fe8f34344a3efaf822679175f": {
          "model_module": "@jupyter-widgets/base",
          "model_name": "LayoutModel",
          "model_module_version": "1.2.0",
          "state": {
            "_model_module": "@jupyter-widgets/base",
            "_model_module_version": "1.2.0",
            "_model_name": "LayoutModel",
            "_view_count": null,
            "_view_module": "@jupyter-widgets/base",
            "_view_module_version": "1.2.0",
            "_view_name": "LayoutView",
            "align_content": null,
            "align_items": null,
            "align_self": null,
            "border": null,
            "bottom": null,
            "display": null,
            "flex": null,
            "flex_flow": null,
            "grid_area": null,
            "grid_auto_columns": null,
            "grid_auto_flow": null,
            "grid_auto_rows": null,
            "grid_column": null,
            "grid_gap": null,
            "grid_row": null,
            "grid_template_areas": null,
            "grid_template_columns": null,
            "grid_template_rows": null,
            "height": null,
            "justify_content": null,
            "justify_items": null,
            "left": null,
            "margin": null,
            "max_height": null,
            "max_width": null,
            "min_height": null,
            "min_width": null,
            "object_fit": null,
            "object_position": null,
            "order": null,
            "overflow": null,
            "overflow_x": null,
            "overflow_y": null,
            "padding": null,
            "right": null,
            "top": null,
            "visibility": null,
            "width": null
          }
        },
        "8e0b01f9f3c04d488d4d2d55fb709dea": {
          "model_module": "@jupyter-widgets/base",
          "model_name": "LayoutModel",
          "model_module_version": "1.2.0",
          "state": {
            "_model_module": "@jupyter-widgets/base",
            "_model_module_version": "1.2.0",
            "_model_name": "LayoutModel",
            "_view_count": null,
            "_view_module": "@jupyter-widgets/base",
            "_view_module_version": "1.2.0",
            "_view_name": "LayoutView",
            "align_content": null,
            "align_items": null,
            "align_self": null,
            "border": null,
            "bottom": null,
            "display": null,
            "flex": null,
            "flex_flow": null,
            "grid_area": null,
            "grid_auto_columns": null,
            "grid_auto_flow": null,
            "grid_auto_rows": null,
            "grid_column": null,
            "grid_gap": null,
            "grid_row": null,
            "grid_template_areas": null,
            "grid_template_columns": null,
            "grid_template_rows": null,
            "height": null,
            "justify_content": null,
            "justify_items": null,
            "left": null,
            "margin": null,
            "max_height": null,
            "max_width": null,
            "min_height": null,
            "min_width": null,
            "object_fit": null,
            "object_position": null,
            "order": null,
            "overflow": null,
            "overflow_x": null,
            "overflow_y": null,
            "padding": null,
            "right": null,
            "top": null,
            "visibility": null,
            "width": null
          }
        },
        "91c0248ec04e484590e6e5b01d0f07b8": {
          "model_module": "@jupyter-widgets/controls",
          "model_name": "DescriptionStyleModel",
          "model_module_version": "1.5.0",
          "state": {
            "_model_module": "@jupyter-widgets/controls",
            "_model_module_version": "1.5.0",
            "_model_name": "DescriptionStyleModel",
            "_view_count": null,
            "_view_module": "@jupyter-widgets/base",
            "_view_module_version": "1.2.0",
            "_view_name": "StyleView",
            "description_width": ""
          }
        },
        "d8af0193c6d34aefa55a75635dfee68a": {
          "model_module": "@jupyter-widgets/base",
          "model_name": "LayoutModel",
          "model_module_version": "1.2.0",
          "state": {
            "_model_module": "@jupyter-widgets/base",
            "_model_module_version": "1.2.0",
            "_model_name": "LayoutModel",
            "_view_count": null,
            "_view_module": "@jupyter-widgets/base",
            "_view_module_version": "1.2.0",
            "_view_name": "LayoutView",
            "align_content": null,
            "align_items": null,
            "align_self": null,
            "border": null,
            "bottom": null,
            "display": null,
            "flex": null,
            "flex_flow": null,
            "grid_area": null,
            "grid_auto_columns": null,
            "grid_auto_flow": null,
            "grid_auto_rows": null,
            "grid_column": null,
            "grid_gap": null,
            "grid_row": null,
            "grid_template_areas": null,
            "grid_template_columns": null,
            "grid_template_rows": null,
            "height": null,
            "justify_content": null,
            "justify_items": null,
            "left": null,
            "margin": null,
            "max_height": null,
            "max_width": null,
            "min_height": null,
            "min_width": null,
            "object_fit": null,
            "object_position": null,
            "order": null,
            "overflow": null,
            "overflow_x": null,
            "overflow_y": null,
            "padding": null,
            "right": null,
            "top": null,
            "visibility": null,
            "width": "20px"
          }
        },
        "776e243954da48c79a1bd9e58af8b5e3": {
          "model_module": "@jupyter-widgets/controls",
          "model_name": "ProgressStyleModel",
          "model_module_version": "1.5.0",
          "state": {
            "_model_module": "@jupyter-widgets/controls",
            "_model_module_version": "1.5.0",
            "_model_name": "ProgressStyleModel",
            "_view_count": null,
            "_view_module": "@jupyter-widgets/base",
            "_view_module_version": "1.2.0",
            "_view_name": "StyleView",
            "bar_color": null,
            "description_width": ""
          }
        },
        "3fd0fbde1f824c528fcdc4a6922cc951": {
          "model_module": "@jupyter-widgets/base",
          "model_name": "LayoutModel",
          "model_module_version": "1.2.0",
          "state": {
            "_model_module": "@jupyter-widgets/base",
            "_model_module_version": "1.2.0",
            "_model_name": "LayoutModel",
            "_view_count": null,
            "_view_module": "@jupyter-widgets/base",
            "_view_module_version": "1.2.0",
            "_view_name": "LayoutView",
            "align_content": null,
            "align_items": null,
            "align_self": null,
            "border": null,
            "bottom": null,
            "display": null,
            "flex": null,
            "flex_flow": null,
            "grid_area": null,
            "grid_auto_columns": null,
            "grid_auto_flow": null,
            "grid_auto_rows": null,
            "grid_column": null,
            "grid_gap": null,
            "grid_row": null,
            "grid_template_areas": null,
            "grid_template_columns": null,
            "grid_template_rows": null,
            "height": null,
            "justify_content": null,
            "justify_items": null,
            "left": null,
            "margin": null,
            "max_height": null,
            "max_width": null,
            "min_height": null,
            "min_width": null,
            "object_fit": null,
            "object_position": null,
            "order": null,
            "overflow": null,
            "overflow_x": null,
            "overflow_y": null,
            "padding": null,
            "right": null,
            "top": null,
            "visibility": null,
            "width": null
          }
        },
        "771e5a5892e345598eb621273ac935b8": {
          "model_module": "@jupyter-widgets/controls",
          "model_name": "DescriptionStyleModel",
          "model_module_version": "1.5.0",
          "state": {
            "_model_module": "@jupyter-widgets/controls",
            "_model_module_version": "1.5.0",
            "_model_name": "DescriptionStyleModel",
            "_view_count": null,
            "_view_module": "@jupyter-widgets/base",
            "_view_module_version": "1.2.0",
            "_view_name": "StyleView",
            "description_width": ""
          }
        },
        "cfde98814ec24744849cc0a5e91f9648": {
          "model_module": "@jupyter-widgets/controls",
          "model_name": "HBoxModel",
          "model_module_version": "1.5.0",
          "state": {
            "_dom_classes": [],
            "_model_module": "@jupyter-widgets/controls",
            "_model_module_version": "1.5.0",
            "_model_name": "HBoxModel",
            "_view_count": null,
            "_view_module": "@jupyter-widgets/controls",
            "_view_module_version": "1.5.0",
            "_view_name": "HBoxView",
            "box_style": "",
            "children": [
              "IPY_MODEL_691d0016c10349898c0e38873c7c1c56",
              "IPY_MODEL_b5a705c2b2434221815eba3295b1720d",
              "IPY_MODEL_195d8c349b3a440cbd0ffe1e0d61fa18"
            ],
            "layout": "IPY_MODEL_3921d0731f3d45e381b7a3dc946fcc01"
          }
        },
        "691d0016c10349898c0e38873c7c1c56": {
          "model_module": "@jupyter-widgets/controls",
          "model_name": "HTMLModel",
          "model_module_version": "1.5.0",
          "state": {
            "_dom_classes": [],
            "_model_module": "@jupyter-widgets/controls",
            "_model_module_version": "1.5.0",
            "_model_name": "HTMLModel",
            "_view_count": null,
            "_view_module": "@jupyter-widgets/controls",
            "_view_module_version": "1.5.0",
            "_view_name": "HTMLView",
            "description": "",
            "description_tooltip": null,
            "layout": "IPY_MODEL_f28e7da164b74c698f56361884ca32b9",
            "placeholder": "​",
            "style": "IPY_MODEL_59826c98e27c44de99dde03ac1e21a2a",
            "value": "Generating test split: "
          }
        },
        "b5a705c2b2434221815eba3295b1720d": {
          "model_module": "@jupyter-widgets/controls",
          "model_name": "FloatProgressModel",
          "model_module_version": "1.5.0",
          "state": {
            "_dom_classes": [],
            "_model_module": "@jupyter-widgets/controls",
            "_model_module_version": "1.5.0",
            "_model_name": "FloatProgressModel",
            "_view_count": null,
            "_view_module": "@jupyter-widgets/controls",
            "_view_module_version": "1.5.0",
            "_view_name": "ProgressView",
            "bar_style": "success",
            "description": "",
            "description_tooltip": null,
            "layout": "IPY_MODEL_a91cd7eb941643e389e0309372f9fdf1",
            "max": 1,
            "min": 0,
            "orientation": "horizontal",
            "style": "IPY_MODEL_9b5a1912e1f145d9ae2ad30bddfb5686",
            "value": 1
          }
        },
        "195d8c349b3a440cbd0ffe1e0d61fa18": {
          "model_module": "@jupyter-widgets/controls",
          "model_name": "HTMLModel",
          "model_module_version": "1.5.0",
          "state": {
            "_dom_classes": [],
            "_model_module": "@jupyter-widgets/controls",
            "_model_module_version": "1.5.0",
            "_model_name": "HTMLModel",
            "_view_count": null,
            "_view_module": "@jupyter-widgets/controls",
            "_view_module_version": "1.5.0",
            "_view_name": "HTMLView",
            "description": "",
            "description_tooltip": null,
            "layout": "IPY_MODEL_0e67d9d5bbf14920bc07c1f8710ca3e0",
            "placeholder": "​",
            "style": "IPY_MODEL_8ca9780e934c44a08fc313eb50e84ffd",
            "value": " 5000/0 [00:01&lt;00:00, 4369.99 examples/s]"
          }
        },
        "3921d0731f3d45e381b7a3dc946fcc01": {
          "model_module": "@jupyter-widgets/base",
          "model_name": "LayoutModel",
          "model_module_version": "1.2.0",
          "state": {
            "_model_module": "@jupyter-widgets/base",
            "_model_module_version": "1.2.0",
            "_model_name": "LayoutModel",
            "_view_count": null,
            "_view_module": "@jupyter-widgets/base",
            "_view_module_version": "1.2.0",
            "_view_name": "LayoutView",
            "align_content": null,
            "align_items": null,
            "align_self": null,
            "border": null,
            "bottom": null,
            "display": null,
            "flex": null,
            "flex_flow": null,
            "grid_area": null,
            "grid_auto_columns": null,
            "grid_auto_flow": null,
            "grid_auto_rows": null,
            "grid_column": null,
            "grid_gap": null,
            "grid_row": null,
            "grid_template_areas": null,
            "grid_template_columns": null,
            "grid_template_rows": null,
            "height": null,
            "justify_content": null,
            "justify_items": null,
            "left": null,
            "margin": null,
            "max_height": null,
            "max_width": null,
            "min_height": null,
            "min_width": null,
            "object_fit": null,
            "object_position": null,
            "order": null,
            "overflow": null,
            "overflow_x": null,
            "overflow_y": null,
            "padding": null,
            "right": null,
            "top": null,
            "visibility": null,
            "width": null
          }
        },
        "f28e7da164b74c698f56361884ca32b9": {
          "model_module": "@jupyter-widgets/base",
          "model_name": "LayoutModel",
          "model_module_version": "1.2.0",
          "state": {
            "_model_module": "@jupyter-widgets/base",
            "_model_module_version": "1.2.0",
            "_model_name": "LayoutModel",
            "_view_count": null,
            "_view_module": "@jupyter-widgets/base",
            "_view_module_version": "1.2.0",
            "_view_name": "LayoutView",
            "align_content": null,
            "align_items": null,
            "align_self": null,
            "border": null,
            "bottom": null,
            "display": null,
            "flex": null,
            "flex_flow": null,
            "grid_area": null,
            "grid_auto_columns": null,
            "grid_auto_flow": null,
            "grid_auto_rows": null,
            "grid_column": null,
            "grid_gap": null,
            "grid_row": null,
            "grid_template_areas": null,
            "grid_template_columns": null,
            "grid_template_rows": null,
            "height": null,
            "justify_content": null,
            "justify_items": null,
            "left": null,
            "margin": null,
            "max_height": null,
            "max_width": null,
            "min_height": null,
            "min_width": null,
            "object_fit": null,
            "object_position": null,
            "order": null,
            "overflow": null,
            "overflow_x": null,
            "overflow_y": null,
            "padding": null,
            "right": null,
            "top": null,
            "visibility": null,
            "width": null
          }
        },
        "59826c98e27c44de99dde03ac1e21a2a": {
          "model_module": "@jupyter-widgets/controls",
          "model_name": "DescriptionStyleModel",
          "model_module_version": "1.5.0",
          "state": {
            "_model_module": "@jupyter-widgets/controls",
            "_model_module_version": "1.5.0",
            "_model_name": "DescriptionStyleModel",
            "_view_count": null,
            "_view_module": "@jupyter-widgets/base",
            "_view_module_version": "1.2.0",
            "_view_name": "StyleView",
            "description_width": ""
          }
        },
        "a91cd7eb941643e389e0309372f9fdf1": {
          "model_module": "@jupyter-widgets/base",
          "model_name": "LayoutModel",
          "model_module_version": "1.2.0",
          "state": {
            "_model_module": "@jupyter-widgets/base",
            "_model_module_version": "1.2.0",
            "_model_name": "LayoutModel",
            "_view_count": null,
            "_view_module": "@jupyter-widgets/base",
            "_view_module_version": "1.2.0",
            "_view_name": "LayoutView",
            "align_content": null,
            "align_items": null,
            "align_self": null,
            "border": null,
            "bottom": null,
            "display": null,
            "flex": null,
            "flex_flow": null,
            "grid_area": null,
            "grid_auto_columns": null,
            "grid_auto_flow": null,
            "grid_auto_rows": null,
            "grid_column": null,
            "grid_gap": null,
            "grid_row": null,
            "grid_template_areas": null,
            "grid_template_columns": null,
            "grid_template_rows": null,
            "height": null,
            "justify_content": null,
            "justify_items": null,
            "left": null,
            "margin": null,
            "max_height": null,
            "max_width": null,
            "min_height": null,
            "min_width": null,
            "object_fit": null,
            "object_position": null,
            "order": null,
            "overflow": null,
            "overflow_x": null,
            "overflow_y": null,
            "padding": null,
            "right": null,
            "top": null,
            "visibility": null,
            "width": "20px"
          }
        },
        "9b5a1912e1f145d9ae2ad30bddfb5686": {
          "model_module": "@jupyter-widgets/controls",
          "model_name": "ProgressStyleModel",
          "model_module_version": "1.5.0",
          "state": {
            "_model_module": "@jupyter-widgets/controls",
            "_model_module_version": "1.5.0",
            "_model_name": "ProgressStyleModel",
            "_view_count": null,
            "_view_module": "@jupyter-widgets/base",
            "_view_module_version": "1.2.0",
            "_view_name": "StyleView",
            "bar_color": null,
            "description_width": ""
          }
        },
        "0e67d9d5bbf14920bc07c1f8710ca3e0": {
          "model_module": "@jupyter-widgets/base",
          "model_name": "LayoutModel",
          "model_module_version": "1.2.0",
          "state": {
            "_model_module": "@jupyter-widgets/base",
            "_model_module_version": "1.2.0",
            "_model_name": "LayoutModel",
            "_view_count": null,
            "_view_module": "@jupyter-widgets/base",
            "_view_module_version": "1.2.0",
            "_view_name": "LayoutView",
            "align_content": null,
            "align_items": null,
            "align_self": null,
            "border": null,
            "bottom": null,
            "display": null,
            "flex": null,
            "flex_flow": null,
            "grid_area": null,
            "grid_auto_columns": null,
            "grid_auto_flow": null,
            "grid_auto_rows": null,
            "grid_column": null,
            "grid_gap": null,
            "grid_row": null,
            "grid_template_areas": null,
            "grid_template_columns": null,
            "grid_template_rows": null,
            "height": null,
            "justify_content": null,
            "justify_items": null,
            "left": null,
            "margin": null,
            "max_height": null,
            "max_width": null,
            "min_height": null,
            "min_width": null,
            "object_fit": null,
            "object_position": null,
            "order": null,
            "overflow": null,
            "overflow_x": null,
            "overflow_y": null,
            "padding": null,
            "right": null,
            "top": null,
            "visibility": null,
            "width": null
          }
        },
        "8ca9780e934c44a08fc313eb50e84ffd": {
          "model_module": "@jupyter-widgets/controls",
          "model_name": "DescriptionStyleModel",
          "model_module_version": "1.5.0",
          "state": {
            "_model_module": "@jupyter-widgets/controls",
            "_model_module_version": "1.5.0",
            "_model_name": "DescriptionStyleModel",
            "_view_count": null,
            "_view_module": "@jupyter-widgets/base",
            "_view_module_version": "1.2.0",
            "_view_name": "StyleView",
            "description_width": ""
          }
        }
      }
    },
    "accelerator": "GPU"
  },
  "cells": [
    {
      "cell_type": "markdown",
      "metadata": {
        "id": "view-in-github",
        "colab_type": "text"
      },
      "source": [
        "<a href=\"https://colab.research.google.com/github/LM1997610/NN/blob/main/NNDS_2023_Final_Homework.ipynb\" target=\"_parent\"><img src=\"https://colab.research.google.com/assets/colab-badge.svg\" alt=\"Open In Colab\"/></a>"
      ]
    },
    {
      "cell_type": "markdown",
      "source": [
        "# Neural Networks for Data Science Applications\n",
        "## End-of-term homework: Advanced transfer learning\n",
        "\n",
        "**Name**: *Luca Mazzucco*\n",
        "\n",
        "**Matricola**: *1997610*\n",
        "\n",
        "> ✍ Upload the completed notebook **at least two days** before your expected exam's date on the Google Classroom page. For example, for the **January 12th** session, you should upload it by **January 9th, 23:59 Rome time**."
      ],
      "metadata": {
        "id": "BwfXT98e5hQc"
      }
    },
    {
      "cell_type": "code",
      "execution_count": null,
      "metadata": {
        "id": "5V6Ph3UT44Xo"
      },
      "outputs": [],
      "source": [
        "import tensorflow as tf\n",
        "import matplotlib.pyplot as plt"
      ]
    },
    {
      "cell_type": "code",
      "source": [
        "# To ensure reproducible results (as much as possible)\n",
        "tf.keras.utils.set_random_seed(1234)"
      ],
      "metadata": {
        "id": "GkYGd_WY_2nq"
      },
      "execution_count": null,
      "outputs": []
    },
    {
      "cell_type": "markdown",
      "source": [
        "### Instructions\n",
        "\n",
        "1. The homework is divided into two exercises. The first one (**10 points**) is mandatory for everyone. The second one (**5 points**) is mandatory only if you have not submitted the first homework or if you want to increase the mark.\n",
        "2. If you score well on the project but poorly on the oral, the grade can be kept for the entire academic year (up to October 2024).\n",
        "\n",
        "**IMPORTANT - read carefully before starting**:\n",
        "\n",
        "> 🟨 *External material*: if you use any external material or inspiration for the code, reference it *explicitly* in the corresponding cell. For the textual descriptions, copy-paste *is not allowed*. <ins>Not following these two points is an immediate 0 mark</ins>.\n",
        "\n",
        "> 🔵 *Grammar*: for the textual descriptions, I will remove points for too many grammatical or textual errors. Please try to be precise and provide nice-to-read descriptions, like if you were writing a report.\n",
        "\n",
        "> 🟥 *Vectorization and TensorFlow*: the homework must be done _fully in TensorFlow_ and vectorizing the code as much as possible (e.g., do not loop explicitly over the batch dimension).\n",
        "\n",
        "> 🟪 *Math*: you can also use LaTeX in Markdown if you need to write equations or if you need generic math notation."
      ],
      "metadata": {
        "id": "BmzKI83R0uYa"
      }
    },
    {
      "cell_type": "markdown",
      "source": [
        "![4poszl.jpg](data:image/jpeg;base64,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)"
      ],
      "metadata": {
        "id": "BLWV6HupA9v9"
      }
    },
    {
      "cell_type": "markdown",
      "source": [
        "## Warmup: Data loading\n",
        "\n",
        "**For this part, select an interesting dataset.**\n",
        "\n",
        "*   This is similar to [Exercise 1 from the mid-term homework](https://colab.research.google.com/drive/1oDbshJeY62Id1O5pbsCrNFX9PdSY1ITP?usp=sharing), which you can check for completeness.\n",
        "*   You should use a **different dataset** from the first homework, possibly of higher complexity.\n",
        "*   Any data type (tabular, images, videos, audio, time-series, graphs, ...) is okay."
      ],
      "metadata": {
        "id": "SE7pCfZK2G5M"
      }
    },
    {
      "cell_type": "markdown",
      "source": [
        "✍ **DESCRIPTION OF THE CODE**\n",
        "\n",
        "*Provide a SHORT description of the dataset below (e.g., source, task, bibliographic reference if necessary...), both as text and in the comments of the code.*\n",
        "\n",
        "**TODO**: add description here (1-2 paragraphs)."
      ],
      "metadata": {
        "id": "fzThDtr4VJ5x"
      }
    },
    {
      "cell_type": "code",
      "source": [
        "! pip -q install  datasets"
      ],
      "metadata": {
        "id": "gYbuSDjgazkD",
        "outputId": "534ca3ef-e49c-4750-a0ed-cff7d1d3609c",
        "colab": {
          "base_uri": "https://localhost:8080/"
        }
      },
      "execution_count": 10,
      "outputs": [
        {
          "output_type": "stream",
          "name": "stdout",
          "text": [
            "\u001b[?25l     \u001b[90m━━━━━━━━━━━━━━━━━━━━━━━━━━━━━━━━━━━━━━━━\u001b[0m \u001b[32m0.0/507.1 kB\u001b[0m \u001b[31m?\u001b[0m eta \u001b[36m-:--:--\u001b[0m\r\u001b[2K     \u001b[91m━━━━━━━━━━━━━━━━━━━━━━━━━━━━\u001b[0m\u001b[90m╺\u001b[0m\u001b[90m━━━━━━━━━━━\u001b[0m \u001b[32m358.4/507.1 kB\u001b[0m \u001b[31m10.5 MB/s\u001b[0m eta \u001b[36m0:00:01\u001b[0m\r\u001b[2K     \u001b[90m━━━━━━━━━━━━━━━━━━━━━━━━━━━━━━━━━━━━━━━━\u001b[0m \u001b[32m507.1/507.1 kB\u001b[0m \u001b[31m10.9 MB/s\u001b[0m eta \u001b[36m0:00:00\u001b[0m\n",
            "\u001b[2K     \u001b[90m━━━━━━━━━━━━━━━━━━━━━━━━━━━━━━━━━━━━━━━━\u001b[0m \u001b[32m115.3/115.3 kB\u001b[0m \u001b[31m13.9 MB/s\u001b[0m eta \u001b[36m0:00:00\u001b[0m\n",
            "\u001b[2K     \u001b[90m━━━━━━━━━━━━━━━━━━━━━━━━━━━━━━━━━━━━━━━━\u001b[0m \u001b[32m134.8/134.8 kB\u001b[0m \u001b[31m18.0 MB/s\u001b[0m eta \u001b[36m0:00:00\u001b[0m\n",
            "\u001b[2K     \u001b[90m━━━━━━━━━━━━━━━━━━━━━━━━━━━━━━━━━━━━━━━━\u001b[0m \u001b[32m134.8/134.8 kB\u001b[0m \u001b[31m16.5 MB/s\u001b[0m eta \u001b[36m0:00:00\u001b[0m\n",
            "\u001b[?25h"
          ]
        }
      ]
    },
    {
      "cell_type": "code",
      "source": [
        "import warnings\n",
        "from datasets import load_dataset\n",
        "import matplotlib.pyplot as plt"
      ],
      "metadata": {
        "id": "R-5nXsG4a340"
      },
      "execution_count": 11,
      "outputs": []
    },
    {
      "cell_type": "code",
      "source": [
        "# TODO: Insert all code here\n",
        "\n",
        "dataset_name = \"ccdv/patent-classification\"\n",
        "\n",
        "with warnings.catch_warnings():\n",
        "  warnings.simplefilter(\"ignore\")\n",
        "\n",
        "  data = load_dataset(dataset_name, split=['train[:20%]', 'validation[:20%]', 'test[:20%]'])\n",
        "\n",
        "data"
      ],
      "metadata": {
        "id": "FpQj4F8n20LI",
        "outputId": "17a472b4-5d25-44e6-8a98-e126629ee8db",
        "colab": {
          "base_uri": "https://localhost:8080/",
          "height": 481,
          "referenced_widgets": [
            "156bfeaf140a48ef8c4b11e72319b957",
            "f6416dd9c7c745b48986d52509ab4ddc",
            "7b3b77d215864e5cbde70cec5c2b9ba8",
            "bc297a1d2d7f4b19a29aaef94b848d32",
            "19b5dcb5847d43d29a5ce3acc2c2e22d",
            "329733eadce04daba0eb996dbae6d2c3",
            "3f728980bbc14c6ea64e3608890cc878",
            "870b698a0fa84d8e87f1b3897af22888",
            "ecbf060553384cddaf8c43b4f32a2305",
            "99d94b0785e94315b8df76ff949b663e",
            "f25633fa23194271a43ce64a25ffbda1",
            "957c1a72661b4d378411c8f16b17ae8c",
            "76aaa2d4015a42b5af0c658c31fcd166",
            "74fd594c05da420d8a4f76c70871dce4",
            "1ca56e01a1b649d18790494e9ee7b8a4",
            "e3d478135a7c4d44962924d30a963081",
            "03808fbcd98d49ebb51b2a48dbdcfae7",
            "4287766749ba403a88aeff93fa45ad52",
            "e3955dbbed6045b8ba5df0b94f8144df",
            "c187ff299e234b63bc88a1c50a311af7",
            "b631f41650dd48c1b0ee2d40343163d1",
            "2655790a9a5e4299988aa5c1dadb391d",
            "51d680ebf3bf4da0899b89ea91d8e6d6",
            "2465788d1d5f49688282dcf7c2df17a7",
            "3abce947c71e4786901e48914563120b",
            "aab9caf8b70f40bbbb020671ac68dfd7",
            "457034453e92423086036e4b9a596f97",
            "c3e6d71f477b4613b9a81f666f032924",
            "b545349559094309bf8e11c7c886ee37",
            "d20563adeb544b56b7219b14b887700b",
            "88065cd2de3942e39ff6867044285ea3",
            "798f8d5aa5c449a28569df5ecbb03d8e",
            "97a3794a7acf4e34aba0c5119a8cea0c",
            "ee6b9294f51740c387e616bd404e31b1",
            "5c0b2e055a1d47149cb8cceee2079210",
            "96e0f8195e6541e4a90adffd3287fa61",
            "8770c54a8c2e4848b4e1c80b01538e7a",
            "026423ccc5594baa98eaef239997d0e6",
            "58592d415dde4384b73f4c138ed43dd3",
            "6e16ce51e5314934a1353ea231fe7f07",
            "1a2c695f3ea842febb913ddaada6ecb4",
            "61360d713fb94a79809ca722dc6eb938",
            "9dcbad267a0f468caba051c1c8bd58f6",
            "e47bed203e7f4c9f8793876b3acd3a42",
            "13ec1dd4b8e64116851c17584bb366fc",
            "d4125ff48de74bbe8bf50830c597118a",
            "41046d5c84c04239967fe491a2a98449",
            "96dfff2209684f1fa4c110a13fb76d46",
            "86014310310e4a5d8ff1e4a239478596",
            "5919adb1d5c64ea290319754bc0eab71",
            "c089763b26ea4db3a17b4c868d100eed",
            "7fcd1fce74ba47bd9950db362488e0a8",
            "d834ef2b25504992b58e0f4e93482510",
            "661a54c500f34d4f9bd595983a6034f7",
            "be3c92d9ec9d45e687e7d528f54c558a",
            "cb34b518171e448daa086978340d72d0",
            "3b436ee77ee1499dbb59e572d070f85d",
            "068f126c653c47db99c4d87fcc249ae2",
            "ff18c30563d643538c42b8f022ce92a9",
            "8ee1f0b9d8004120b9cdbd5a22d143c2",
            "03eafb2cabd74217b1d0a50579128c6a",
            "33448ffee6a44bac86dc494eb8b685b1",
            "4ffbe466a1aa467db1c469eb97819a74",
            "11cb22290d154d4ea48854754dbda0ed",
            "3c6d089eb99446f1b0db8ee1e9199de1",
            "576b6021144940b7b86d85c35cfc24e3",
            "697523fa19ba4f65988942af3a9f5cbd",
            "d1fa152d47164813ae5fa9c0bf8ba5ad",
            "20ff837bcfb24b96a010cb0db1098e72",
            "a94c47263e7443219e7b1879351d39c8",
            "efb3f96fe8f34344a3efaf822679175f",
            "8e0b01f9f3c04d488d4d2d55fb709dea",
            "91c0248ec04e484590e6e5b01d0f07b8",
            "d8af0193c6d34aefa55a75635dfee68a",
            "776e243954da48c79a1bd9e58af8b5e3",
            "3fd0fbde1f824c528fcdc4a6922cc951",
            "771e5a5892e345598eb621273ac935b8",
            "cfde98814ec24744849cc0a5e91f9648",
            "691d0016c10349898c0e38873c7c1c56",
            "b5a705c2b2434221815eba3295b1720d",
            "195d8c349b3a440cbd0ffe1e0d61fa18",
            "3921d0731f3d45e381b7a3dc946fcc01",
            "f28e7da164b74c698f56361884ca32b9",
            "59826c98e27c44de99dde03ac1e21a2a",
            "a91cd7eb941643e389e0309372f9fdf1",
            "9b5a1912e1f145d9ae2ad30bddfb5686",
            "0e67d9d5bbf14920bc07c1f8710ca3e0",
            "8ca9780e934c44a08fc313eb50e84ffd"
          ]
        }
      },
      "execution_count": 12,
      "outputs": [
        {
          "output_type": "display_data",
          "data": {
            "text/plain": [
              "Downloading builder script:   0%|          | 0.00/3.87k [00:00<?, ?B/s]"
            ],
            "application/vnd.jupyter.widget-view+json": {
              "version_major": 2,
              "version_minor": 0,
              "model_id": "156bfeaf140a48ef8c4b11e72319b957"
            }
          },
          "metadata": {}
        },
        {
          "output_type": "display_data",
          "data": {
            "text/plain": [
              "Downloading readme:   0%|          | 0.00/1.33k [00:00<?, ?B/s]"
            ],
            "application/vnd.jupyter.widget-view+json": {
              "version_major": 2,
              "version_minor": 0,
              "model_id": "957c1a72661b4d378411c8f16b17ae8c"
            }
          },
          "metadata": {}
        },
        {
          "output_type": "display_data",
          "data": {
            "text/plain": [
              "Downloading data:   0%|          | 0.00/487M [00:00<?, ?B/s]"
            ],
            "application/vnd.jupyter.widget-view+json": {
              "version_major": 2,
              "version_minor": 0,
              "model_id": "51d680ebf3bf4da0899b89ea91d8e6d6"
            }
          },
          "metadata": {}
        },
        {
          "output_type": "display_data",
          "data": {
            "text/plain": [
              "Downloading data:   0%|          | 0.00/99.4M [00:00<?, ?B/s]"
            ],
            "application/vnd.jupyter.widget-view+json": {
              "version_major": 2,
              "version_minor": 0,
              "model_id": "ee6b9294f51740c387e616bd404e31b1"
            }
          },
          "metadata": {}
        },
        {
          "output_type": "display_data",
          "data": {
            "text/plain": [
              "Downloading data:   0%|          | 0.00/97.9M [00:00<?, ?B/s]"
            ],
            "application/vnd.jupyter.widget-view+json": {
              "version_major": 2,
              "version_minor": 0,
              "model_id": "13ec1dd4b8e64116851c17584bb366fc"
            }
          },
          "metadata": {}
        },
        {
          "output_type": "display_data",
          "data": {
            "text/plain": [
              "Generating train split: 0 examples [00:00, ? examples/s]"
            ],
            "application/vnd.jupyter.widget-view+json": {
              "version_major": 2,
              "version_minor": 0,
              "model_id": "cb34b518171e448daa086978340d72d0"
            }
          },
          "metadata": {}
        },
        {
          "output_type": "display_data",
          "data": {
            "text/plain": [
              "Generating validation split: 0 examples [00:00, ? examples/s]"
            ],
            "application/vnd.jupyter.widget-view+json": {
              "version_major": 2,
              "version_minor": 0,
              "model_id": "697523fa19ba4f65988942af3a9f5cbd"
            }
          },
          "metadata": {}
        },
        {
          "output_type": "display_data",
          "data": {
            "text/plain": [
              "Generating test split: 0 examples [00:00, ? examples/s]"
            ],
            "application/vnd.jupyter.widget-view+json": {
              "version_major": 2,
              "version_minor": 0,
              "model_id": "cfde98814ec24744849cc0a5e91f9648"
            }
          },
          "metadata": {}
        },
        {
          "output_type": "execute_result",
          "data": {
            "text/plain": [
              "[Dataset({\n",
              "     features: ['text', 'label'],\n",
              "     num_rows: 5000\n",
              " }),\n",
              " Dataset({\n",
              "     features: ['text', 'label'],\n",
              "     num_rows: 1000\n",
              " }),\n",
              " Dataset({\n",
              "     features: ['text', 'label'],\n",
              "     num_rows: 1000\n",
              " })]"
            ]
          },
          "metadata": {},
          "execution_count": 12
        }
      ]
    },
    {
      "cell_type": "code",
      "source": [
        "train_data = data[0].to_tf_dataset()\n",
        "val_data = data[1].to_tf_dataset()\n",
        "test_data = data[2].to_tf_dataset()"
      ],
      "metadata": {
        "id": "heYtFDYL6OpV"
      },
      "execution_count": 13,
      "outputs": []
    },
    {
      "cell_type": "code",
      "source": [
        "train_data"
      ],
      "metadata": {
        "colab": {
          "base_uri": "https://localhost:8080/"
        },
        "id": "zfQT8jpS7o-8",
        "outputId": "583e3269-c960-4032-ee83-60aae9cf5e10"
      },
      "execution_count": 14,
      "outputs": [
        {
          "output_type": "execute_result",
          "data": {
            "text/plain": [
              "<_PrefetchDataset element_spec={'text': TensorSpec(shape=(), dtype=tf.string, name=None), 'label': TensorSpec(shape=(), dtype=tf.int64, name=None)}>"
            ]
          },
          "metadata": {},
          "execution_count": 14
        }
      ]
    },
    {
      "cell_type": "code",
      "source": [
        "def preprocess(el):\n",
        "  # Transform the dataset into an (x,y) format.\n",
        "  return el['text'], el['label']"
      ],
      "metadata": {
        "id": "GPu_JQ7e8FKO"
      },
      "execution_count": 15,
      "outputs": []
    },
    {
      "cell_type": "code",
      "source": [
        "train_data_p = train_data.map(preprocess).shuffle(1000).batch(16)\n",
        "val_data_p = val_data.map(preprocess).shuffle(1000).batch(16)"
      ],
      "metadata": {
        "id": "CANVKpJa8GPM"
      },
      "execution_count": 16,
      "outputs": []
    },
    {
      "cell_type": "code",
      "source": [
        "train_data_p"
      ],
      "metadata": {
        "colab": {
          "base_uri": "https://localhost:8080/"
        },
        "id": "0oXJ4tpl8TJW",
        "outputId": "35c4f5c8-8972-423c-d2d1-61d3a440e8ad"
      },
      "execution_count": 17,
      "outputs": [
        {
          "output_type": "execute_result",
          "data": {
            "text/plain": [
              "<_BatchDataset element_spec=(TensorSpec(shape=(None,), dtype=tf.string, name=None), TensorSpec(shape=(None,), dtype=tf.int64, name=None))>"
            ]
          },
          "metadata": {},
          "execution_count": 17
        }
      ]
    },
    {
      "cell_type": "markdown",
      "source": [
        "### Exercise 1: Advanced transfer learning (10 points)\n",
        "\n",
        "For this exercise, you are asked to implement some form of \"advanced\" transfer learning method. These include, but are not limited to, the content of Lecture 10 in the course, e.g.:\n",
        "\n",
        "1.   **Parameter-efficient fine-tuning** (PEFT) methods (LoRA, adapters, soft prompting, ...).\n",
        "2.   **Task vectors** and arithmetic in the weight space.\n",
        "3.   **Model merging** and model combination (e.g., relative representations).\n",
        "\n",
        "The following are useful surveys and papers you can take inspiration from. If you are in doubt, ask me before starting.\n",
        "\n",
        "1. [Scaling Down to Scale Up: A Guide to Parameter-Efficient Fine-Tuning](https://arxiv.org/abs/2303.15647) - A survey on PEFT models.\n",
        "2. [Modular Deep Learning](https://arxiv.org/abs/2302.11529) - A tutorial on the emerging paradigm of modular deep learning, in which networks are composed of modular building blocks. This is connected to PEFT, see in particular Section 7.\n",
        "3. Examples of model merging: [model ratatouille](https://arxiv.org/abs/2212.10445), [git re-basin](https://arxiv.org/abs/2209.04836), [Fisher averaging](https://arxiv.org/abs/2111.09832).\n",
        "4. Examples of task arithmetic: [simple arithmetic](https://arxiv.org/abs/2212.04089), [tangent space](https://arxiv.org/abs/2305.12827).\n",
        "\n",
        "For this exercise, you can either transfer from two models that you trained autonomously (e.g., train one model on another dataset, add an adapter, fine-tune on the dataset you selected before), or fine-tune directly from a pre-trained model found on the web. For finding pre-trained models, you can check [tf.keras.applications](https://www.tensorflow.org/api_docs/python/tf/keras/applications), [TensorFlow model garden](https://www.tensorflow.org/guide/model_garden?hl=it), or the [Hugging Face Hub](https://huggingface.co/docs/hub/index).\n",
        "\n",
        "> 🟥 Remember that the homework must be done fully in TensorFlow, with no external libraries (when in doubt, ask)."
      ],
      "metadata": {
        "id": "0i1Jr0mQ7lRY"
      }
    },
    {
      "cell_type": "markdown",
      "source": [
        "✍ **DESCRIPTION OF THE CODE**\n",
        "\n",
        "*Provide a description of what you are implementing, both as text and in the comments of the code.*\n",
        "\n",
        "**TODO**: add description here (1-2 paragraphs)."
      ],
      "metadata": {
        "id": "Lm-iFz1iCSue"
      }
    },
    {
      "cell_type": "code",
      "source": [
        "! pip -q install --upgrade keras-nlp\n",
        "! pip -q install --upgrade keras"
      ],
      "metadata": {
        "colab": {
          "base_uri": "https://localhost:8080/"
        },
        "id": "D6yQ8yp4z7fi",
        "outputId": "59d63bdc-d00f-4b2c-cb29-12285793bc84"
      },
      "execution_count": 1,
      "outputs": [
        {
          "output_type": "stream",
          "name": "stdout",
          "text": [
            "\u001b[2K     \u001b[90m━━━━━━━━━━━━━━━━━━━━━━━━━━━━━━━━━━━━━━━━\u001b[0m \u001b[32m415.4/415.4 kB\u001b[0m \u001b[31m8.4 MB/s\u001b[0m eta \u001b[36m0:00:00\u001b[0m\n",
            "\u001b[2K     \u001b[90m━━━━━━━━━━━━━━━━━━━━━━━━━━━━━━━━━━━━━━━━\u001b[0m \u001b[32m950.8/950.8 kB\u001b[0m \u001b[31m50.7 MB/s\u001b[0m eta \u001b[36m0:00:00\u001b[0m\n",
            "\u001b[2K     \u001b[90m━━━━━━━━━━━━━━━━━━━━━━━━━━━━━━━━━━━━━━━━\u001b[0m \u001b[32m5.2/5.2 MB\u001b[0m \u001b[31m51.5 MB/s\u001b[0m eta \u001b[36m0:00:00\u001b[0m\n",
            "\u001b[2K     \u001b[90m━━━━━━━━━━━━━━━━━━━━━━━━━━━━━━━━━━━━━━━━\u001b[0m \u001b[32m1.0/1.0 MB\u001b[0m \u001b[31m4.1 MB/s\u001b[0m eta \u001b[36m0:00:00\u001b[0m\n",
            "\u001b[?25h\u001b[31mERROR: pip's dependency resolver does not currently take into account all the packages that are installed. This behaviour is the source of the following dependency conflicts.\n",
            "tensorflow 2.15.0 requires keras<2.16,>=2.15.0, but you have keras 3.0.4 which is incompatible.\u001b[0m\u001b[31m\n",
            "\u001b[0m"
          ]
        }
      ]
    },
    {
      "cell_type": "code",
      "source": [
        "import math\n",
        "import keras\n",
        "import keras_nlp\n",
        "\n",
        "print(keras.__version__)"
      ],
      "metadata": {
        "colab": {
          "base_uri": "https://localhost:8080/"
        },
        "id": "2YvOTUBC0FAn",
        "outputId": "5bbc4698-3154-4506-f65a-e9429f7ffe6a"
      },
      "execution_count": 2,
      "outputs": [
        {
          "output_type": "stream",
          "name": "stdout",
          "text": [
            "3.0.4\n"
          ]
        }
      ]
    },
    {
      "cell_type": "code",
      "source": [
        "model = keras_nlp.models.BertClassifier.from_preset(\"bert_base_en_uncased\", num_classes=9)"
      ],
      "metadata": {
        "colab": {
          "base_uri": "https://localhost:8080/"
        },
        "id": "MW1FU0100J4V",
        "outputId": "3781afa0-ada9-4325-9190-95d0e4e9fbee"
      },
      "execution_count": 3,
      "outputs": [
        {
          "output_type": "stream",
          "name": "stderr",
          "text": [
            "Downloading from https://www.kaggle.com/api/v1/models/keras/bert/keras/bert_base_en_uncased/2/download/config.json...\n",
            "100%|██████████| 510/510 [00:00<00:00, 1.27MB/s]\n",
            "Downloading from https://www.kaggle.com/api/v1/models/keras/bert/keras/bert_base_en_uncased/2/download/model.weights.h5...\n",
            "100%|██████████| 418M/418M [00:27<00:00, 15.9MB/s]\n",
            "Downloading from https://www.kaggle.com/api/v1/models/keras/bert/keras/bert_base_en_uncased/2/download/tokenizer.json...\n",
            "100%|██████████| 547/547 [00:00<00:00, 610kB/s]\n",
            "Downloading from https://www.kaggle.com/api/v1/models/keras/bert/keras/bert_base_en_uncased/2/download/assets/tokenizer/vocabulary.txt...\n",
            "100%|██████████| 226k/226k [00:00<00:00, 306kB/s]\n"
          ]
        }
      ]
    },
    {
      "cell_type": "code",
      "source": [
        "model.summary()"
      ],
      "metadata": {
        "colab": {
          "base_uri": "https://localhost:8080/",
          "height": 449
        },
        "id": "_X1HXe3F0L_I",
        "outputId": "b269cbf7-8bc4-4920-b198-9637c43cefce"
      },
      "execution_count": 4,
      "outputs": [
        {
          "output_type": "display_data",
          "data": {
            "text/plain": [
              "\u001b[1mPreprocessor: \"bert_preprocessor\"\u001b[0m\n"
            ],
            "text/html": [
              "<pre style=\"white-space:pre;overflow-x:auto;line-height:normal;font-family:Menlo,'DejaVu Sans Mono',consolas,'Courier New',monospace\"><span style=\"font-weight: bold\">Preprocessor: \"bert_preprocessor\"</span>\n",
              "</pre>\n"
            ]
          },
          "metadata": {}
        },
        {
          "output_type": "display_data",
          "data": {
            "text/plain": [
              "┏━━━━━━━━━━━━━━━━━━━━━━━━━━━━━━━━━━━━━━━━━━━━━━━━━━━━┳━━━━━━━━━━━━━━━━━━━━━━━━━━━━━━━━━━━━━━━━━━━━━━━━━━━━━┓\n",
              "┃\u001b[1m \u001b[0m\u001b[1mTokenizer (type)                                  \u001b[0m\u001b[1m \u001b[0m┃\u001b[1m \u001b[0m\u001b[1m                                            Vocab #\u001b[0m\u001b[1m \u001b[0m┃\n",
              "┡━━━━━━━━━━━━━━━━━━━━━━━━━━━━━━━━━━━━━━━━━━━━━━━━━━━━╇━━━━━━━━━━━━━━━━━━━━━━━━━━━━━━━━━━━━━━━━━━━━━━━━━━━━━┩\n",
              "│ bert_tokenizer (\u001b[38;5;33mBertTokenizer\u001b[0m)                     │                                              \u001b[38;5;34m30,522\u001b[0m │\n",
              "└────────────────────────────────────────────────────┴─────────────────────────────────────────────────────┘\n"
            ],
            "text/html": [
              "<pre style=\"white-space:pre;overflow-x:auto;line-height:normal;font-family:Menlo,'DejaVu Sans Mono',consolas,'Courier New',monospace\">┏━━━━━━━━━━━━━━━━━━━━━━━━━━━━━━━━━━━━━━━━━━━━━━━━━━━━┳━━━━━━━━━━━━━━━━━━━━━━━━━━━━━━━━━━━━━━━━━━━━━━━━━━━━━┓\n",
              "┃<span style=\"font-weight: bold\"> Tokenizer (type)                                   </span>┃<span style=\"font-weight: bold\">                                             Vocab # </span>┃\n",
              "┡━━━━━━━━━━━━━━━━━━━━━━━━━━━━━━━━━━━━━━━━━━━━━━━━━━━━╇━━━━━━━━━━━━━━━━━━━━━━━━━━━━━━━━━━━━━━━━━━━━━━━━━━━━━┩\n",
              "│ bert_tokenizer (<span style=\"color: #0087ff; text-decoration-color: #0087ff\">BertTokenizer</span>)                     │                                              <span style=\"color: #00af00; text-decoration-color: #00af00\">30,522</span> │\n",
              "└────────────────────────────────────────────────────┴─────────────────────────────────────────────────────┘\n",
              "</pre>\n"
            ]
          },
          "metadata": {}
        },
        {
          "output_type": "display_data",
          "data": {
            "text/plain": [
              "\u001b[1mModel: \"bert_classifier\"\u001b[0m\n"
            ],
            "text/html": [
              "<pre style=\"white-space:pre;overflow-x:auto;line-height:normal;font-family:Menlo,'DejaVu Sans Mono',consolas,'Courier New',monospace\"><span style=\"font-weight: bold\">Model: \"bert_classifier\"</span>\n",
              "</pre>\n"
            ]
          },
          "metadata": {}
        },
        {
          "output_type": "display_data",
          "data": {
            "text/plain": [
              "┏━━━━━━━━━━━━━━━━━━━━━━━━━━━━━━━┳━━━━━━━━━━━━━━━━━━━━━━━━━━━┳━━━━━━━━━━━━━┳━━━━━━━━━━━━━━━━━━━━━━━━━━━━━━━━┓\n",
              "┃\u001b[1m \u001b[0m\u001b[1mLayer (type)                 \u001b[0m\u001b[1m \u001b[0m┃\u001b[1m \u001b[0m\u001b[1mOutput Shape             \u001b[0m\u001b[1m \u001b[0m┃\u001b[1m \u001b[0m\u001b[1m    Param #\u001b[0m\u001b[1m \u001b[0m┃\u001b[1m \u001b[0m\u001b[1mConnected to                  \u001b[0m\u001b[1m \u001b[0m┃\n",
              "┡━━━━━━━━━━━━━━━━━━━━━━━━━━━━━━━╇━━━━━━━━━━━━━━━━━━━━━━━━━━━╇━━━━━━━━━━━━━╇━━━━━━━━━━━━━━━━━━━━━━━━━━━━━━━━┩\n",
              "│ padding_mask (\u001b[38;5;33mInputLayer\u001b[0m)     │ (\u001b[38;5;45mNone\u001b[0m, \u001b[38;5;45mNone\u001b[0m)              │           \u001b[38;5;34m0\u001b[0m │ -                              │\n",
              "├───────────────────────────────┼───────────────────────────┼─────────────┼────────────────────────────────┤\n",
              "│ segment_ids (\u001b[38;5;33mInputLayer\u001b[0m)      │ (\u001b[38;5;45mNone\u001b[0m, \u001b[38;5;45mNone\u001b[0m)              │           \u001b[38;5;34m0\u001b[0m │ -                              │\n",
              "├───────────────────────────────┼───────────────────────────┼─────────────┼────────────────────────────────┤\n",
              "│ token_ids (\u001b[38;5;33mInputLayer\u001b[0m)        │ (\u001b[38;5;45mNone\u001b[0m, \u001b[38;5;45mNone\u001b[0m)              │           \u001b[38;5;34m0\u001b[0m │ -                              │\n",
              "├───────────────────────────────┼───────────────────────────┼─────────────┼────────────────────────────────┤\n",
              "│ bert_backbone (\u001b[38;5;33mBertBackbone\u001b[0m)  │ [(\u001b[38;5;45mNone\u001b[0m, \u001b[38;5;34m768\u001b[0m), (\u001b[38;5;45mNone\u001b[0m,      │ \u001b[38;5;34m109,482,240\u001b[0m │ padding_mask[\u001b[38;5;34m0\u001b[0m][\u001b[38;5;34m0\u001b[0m],            │\n",
              "│                               │ \u001b[38;5;45mNone\u001b[0m, \u001b[38;5;34m768\u001b[0m)]               │             │ segment_ids[\u001b[38;5;34m0\u001b[0m][\u001b[38;5;34m0\u001b[0m],             │\n",
              "│                               │                           │             │ token_ids[\u001b[38;5;34m0\u001b[0m][\u001b[38;5;34m0\u001b[0m]                │\n",
              "├───────────────────────────────┼───────────────────────────┼─────────────┼────────────────────────────────┤\n",
              "│ dropout_12 (\u001b[38;5;33mDropout\u001b[0m)          │ (\u001b[38;5;45mNone\u001b[0m, \u001b[38;5;34m768\u001b[0m)               │           \u001b[38;5;34m0\u001b[0m │ bert_backbone[\u001b[38;5;34m0\u001b[0m][\u001b[38;5;34m0\u001b[0m]            │\n",
              "├───────────────────────────────┼───────────────────────────┼─────────────┼────────────────────────────────┤\n",
              "│ logits (\u001b[38;5;33mDense\u001b[0m)                │ (\u001b[38;5;45mNone\u001b[0m, \u001b[38;5;34m9\u001b[0m)                 │       \u001b[38;5;34m6,921\u001b[0m │ dropout_12[\u001b[38;5;34m0\u001b[0m][\u001b[38;5;34m0\u001b[0m]               │\n",
              "└───────────────────────────────┴───────────────────────────┴─────────────┴────────────────────────────────┘\n"
            ],
            "text/html": [
              "<pre style=\"white-space:pre;overflow-x:auto;line-height:normal;font-family:Menlo,'DejaVu Sans Mono',consolas,'Courier New',monospace\">┏━━━━━━━━━━━━━━━━━━━━━━━━━━━━━━━┳━━━━━━━━━━━━━━━━━━━━━━━━━━━┳━━━━━━━━━━━━━┳━━━━━━━━━━━━━━━━━━━━━━━━━━━━━━━━┓\n",
              "┃<span style=\"font-weight: bold\"> Layer (type)                  </span>┃<span style=\"font-weight: bold\"> Output Shape              </span>┃<span style=\"font-weight: bold\">     Param # </span>┃<span style=\"font-weight: bold\"> Connected to                   </span>┃\n",
              "┡━━━━━━━━━━━━━━━━━━━━━━━━━━━━━━━╇━━━━━━━━━━━━━━━━━━━━━━━━━━━╇━━━━━━━━━━━━━╇━━━━━━━━━━━━━━━━━━━━━━━━━━━━━━━━┩\n",
              "│ padding_mask (<span style=\"color: #0087ff; text-decoration-color: #0087ff\">InputLayer</span>)     │ (<span style=\"color: #00d7ff; text-decoration-color: #00d7ff\">None</span>, <span style=\"color: #00d7ff; text-decoration-color: #00d7ff\">None</span>)              │           <span style=\"color: #00af00; text-decoration-color: #00af00\">0</span> │ -                              │\n",
              "├───────────────────────────────┼───────────────────────────┼─────────────┼────────────────────────────────┤\n",
              "│ segment_ids (<span style=\"color: #0087ff; text-decoration-color: #0087ff\">InputLayer</span>)      │ (<span style=\"color: #00d7ff; text-decoration-color: #00d7ff\">None</span>, <span style=\"color: #00d7ff; text-decoration-color: #00d7ff\">None</span>)              │           <span style=\"color: #00af00; text-decoration-color: #00af00\">0</span> │ -                              │\n",
              "├───────────────────────────────┼───────────────────────────┼─────────────┼────────────────────────────────┤\n",
              "│ token_ids (<span style=\"color: #0087ff; text-decoration-color: #0087ff\">InputLayer</span>)        │ (<span style=\"color: #00d7ff; text-decoration-color: #00d7ff\">None</span>, <span style=\"color: #00d7ff; text-decoration-color: #00d7ff\">None</span>)              │           <span style=\"color: #00af00; text-decoration-color: #00af00\">0</span> │ -                              │\n",
              "├───────────────────────────────┼───────────────────────────┼─────────────┼────────────────────────────────┤\n",
              "│ bert_backbone (<span style=\"color: #0087ff; text-decoration-color: #0087ff\">BertBackbone</span>)  │ [(<span style=\"color: #00d7ff; text-decoration-color: #00d7ff\">None</span>, <span style=\"color: #00af00; text-decoration-color: #00af00\">768</span>), (<span style=\"color: #00d7ff; text-decoration-color: #00d7ff\">None</span>,      │ <span style=\"color: #00af00; text-decoration-color: #00af00\">109,482,240</span> │ padding_mask[<span style=\"color: #00af00; text-decoration-color: #00af00\">0</span>][<span style=\"color: #00af00; text-decoration-color: #00af00\">0</span>],            │\n",
              "│                               │ <span style=\"color: #00d7ff; text-decoration-color: #00d7ff\">None</span>, <span style=\"color: #00af00; text-decoration-color: #00af00\">768</span>)]               │             │ segment_ids[<span style=\"color: #00af00; text-decoration-color: #00af00\">0</span>][<span style=\"color: #00af00; text-decoration-color: #00af00\">0</span>],             │\n",
              "│                               │                           │             │ token_ids[<span style=\"color: #00af00; text-decoration-color: #00af00\">0</span>][<span style=\"color: #00af00; text-decoration-color: #00af00\">0</span>]                │\n",
              "├───────────────────────────────┼───────────────────────────┼─────────────┼────────────────────────────────┤\n",
              "│ dropout_12 (<span style=\"color: #0087ff; text-decoration-color: #0087ff\">Dropout</span>)          │ (<span style=\"color: #00d7ff; text-decoration-color: #00d7ff\">None</span>, <span style=\"color: #00af00; text-decoration-color: #00af00\">768</span>)               │           <span style=\"color: #00af00; text-decoration-color: #00af00\">0</span> │ bert_backbone[<span style=\"color: #00af00; text-decoration-color: #00af00\">0</span>][<span style=\"color: #00af00; text-decoration-color: #00af00\">0</span>]            │\n",
              "├───────────────────────────────┼───────────────────────────┼─────────────┼────────────────────────────────┤\n",
              "│ logits (<span style=\"color: #0087ff; text-decoration-color: #0087ff\">Dense</span>)                │ (<span style=\"color: #00d7ff; text-decoration-color: #00d7ff\">None</span>, <span style=\"color: #00af00; text-decoration-color: #00af00\">9</span>)                 │       <span style=\"color: #00af00; text-decoration-color: #00af00\">6,921</span> │ dropout_12[<span style=\"color: #00af00; text-decoration-color: #00af00\">0</span>][<span style=\"color: #00af00; text-decoration-color: #00af00\">0</span>]               │\n",
              "└───────────────────────────────┴───────────────────────────┴─────────────┴────────────────────────────────┘\n",
              "</pre>\n"
            ]
          },
          "metadata": {}
        },
        {
          "output_type": "display_data",
          "data": {
            "text/plain": [
              "\u001b[1m Total params: \u001b[0m\u001b[38;5;34m109,489,161\u001b[0m (417.67 MB)\n"
            ],
            "text/html": [
              "<pre style=\"white-space:pre;overflow-x:auto;line-height:normal;font-family:Menlo,'DejaVu Sans Mono',consolas,'Courier New',monospace\"><span style=\"font-weight: bold\"> Total params: </span><span style=\"color: #00af00; text-decoration-color: #00af00\">109,489,161</span> (417.67 MB)\n",
              "</pre>\n"
            ]
          },
          "metadata": {}
        },
        {
          "output_type": "display_data",
          "data": {
            "text/plain": [
              "\u001b[1m Trainable params: \u001b[0m\u001b[38;5;34m109,489,161\u001b[0m (417.67 MB)\n"
            ],
            "text/html": [
              "<pre style=\"white-space:pre;overflow-x:auto;line-height:normal;font-family:Menlo,'DejaVu Sans Mono',consolas,'Courier New',monospace\"><span style=\"font-weight: bold\"> Trainable params: </span><span style=\"color: #00af00; text-decoration-color: #00af00\">109,489,161</span> (417.67 MB)\n",
              "</pre>\n"
            ]
          },
          "metadata": {}
        },
        {
          "output_type": "display_data",
          "data": {
            "text/plain": [
              "\u001b[1m Non-trainable params: \u001b[0m\u001b[38;5;34m0\u001b[0m (0.00 B)\n"
            ],
            "text/html": [
              "<pre style=\"white-space:pre;overflow-x:auto;line-height:normal;font-family:Menlo,'DejaVu Sans Mono',consolas,'Courier New',monospace\"><span style=\"font-weight: bold\"> Non-trainable params: </span><span style=\"color: #00af00; text-decoration-color: #00af00\">0</span> (0.00 B)\n",
              "</pre>\n"
            ]
          },
          "metadata": {}
        }
      ]
    },
    {
      "cell_type": "code",
      "source": [
        "class LoraLayer(keras.layers.Layer):\n",
        "    def __init__(self, original_layer, rank=8, alpha=16, trainable=False,**kwargs,):\n",
        "\n",
        "        # We want to keep the name of this layer the same as the original dense layer.\n",
        "        original_layer_config = original_layer.get_config()\n",
        "        name = original_layer_config[\"name\"]\n",
        "\n",
        "        kwargs.pop(\"name\", None)\n",
        "\n",
        "        super().__init__(name=name, trainable=trainable, **kwargs)\n",
        "\n",
        "        self.rank = rank\n",
        "        self.alpha = alpha\n",
        "\n",
        "        self._scale = alpha / rank\n",
        "\n",
        "        self._num_heads = original_layer_config[\"output_shape\"][-2]\n",
        "        self._hidden_dim = self._num_heads * original_layer_config[\"output_shape\"][-1]\n",
        "\n",
        "        # Layers.\n",
        "\n",
        "        # Original dense layer.\n",
        "        self.original_layer = original_layer\n",
        "        # No matter whether we are training the model or are in inference mode,\n",
        "        # this layer should be frozen.\n",
        "        self.original_layer.trainable = False\n",
        "\n",
        "        # LoRA dense layers.\n",
        "        self.A = keras.layers.Dense(units=rank,\n",
        "                                    use_bias=False,\n",
        "                                    # Note: the original paper mentions that normal distribution was\n",
        "                                    # used for initialization. However, the official LoRA implementation\n",
        "                                    # uses \"Kaiming/He Initialization\".\n",
        "                                    kernel_initializer=keras.initializers.VarianceScaling( scale=math.sqrt(5), mode=\"fan_in\", distribution=\"uniform\"),\n",
        "                                    trainable=trainable, name=f\"lora_A\")\n",
        "\n",
        "        # B has the same `equation` and `output_shape` as the original layer.\n",
        "        # `equation = abc,cde->abde`, where `a`: batch size, `b`: sequence\n",
        "        # length, `c`: `hidden_dim`, `d`: `num_heads`,\n",
        "        # `e`: `hidden_dim//num_heads`. The only difference is that in layer `B`,\n",
        "        # `c` represents `rank`.\n",
        "        self.B = keras.layers.EinsumDense(equation=original_layer_config[\"equation\"],\n",
        "                                          output_shape=original_layer_config[\"output_shape\"],\n",
        "                                          kernel_initializer=\"zeros\",\n",
        "                                          trainable=trainable,\n",
        "                                          name=f\"lora_B\")\n",
        "\n",
        "    def call(self, inputs):\n",
        "        original_output = self.original_layer(inputs)\n",
        "        if self.trainable:\n",
        "            # If we are fine-tuning the model, we will add LoRA layers' output to the original layer's output.\n",
        "            lora_output = self.B(self.A(inputs)) * self._scale\n",
        "            return original_output + lora_output\n",
        "\n",
        "        # If we are in inference mode, we \"merge\" the LoRA layers' weights into\n",
        "        # the original layer's weights - more on this in the text generation section!\n",
        "\n",
        "        return original_output"
      ],
      "metadata": {
        "id": "hLBWunwq0br5"
      },
      "execution_count": 5,
      "outputs": []
    },
    {
      "cell_type": "code",
      "source": [
        "#freeze all layers in encoder:\n",
        "\n",
        "for n, layer in enumerate(model.layers[3].layers):\n",
        "  if layer.name[:18] == 'transformer_layer_':\n",
        "    layer.trainable = False\n",
        "    print(f'{layer.name} -> trainable: {layer.trainable}')"
      ],
      "metadata": {
        "colab": {
          "base_uri": "https://localhost:8080/"
        },
        "id": "v-9H3JL-2bol",
        "outputId": "488bf66b-251c-4cf1-fe5b-176e810bfb91"
      },
      "execution_count": 6,
      "outputs": [
        {
          "output_type": "stream",
          "name": "stdout",
          "text": [
            "transformer_layer_0 -> trainable: False\n",
            "transformer_layer_1 -> trainable: False\n",
            "transformer_layer_2 -> trainable: False\n",
            "transformer_layer_3 -> trainable: False\n",
            "transformer_layer_4 -> trainable: False\n",
            "transformer_layer_5 -> trainable: False\n",
            "transformer_layer_6 -> trainable: False\n",
            "transformer_layer_7 -> trainable: False\n",
            "transformer_layer_8 -> trainable: False\n",
            "transformer_layer_9 -> trainable: False\n",
            "transformer_layer_10 -> trainable: False\n",
            "transformer_layer_11 -> trainable: False\n"
          ]
        }
      ]
    },
    {
      "cell_type": "code",
      "source": [
        "RANK = 4\n",
        "ALPHA = 16.0"
      ],
      "metadata": {
        "id": "jpiqMNIp1KgJ"
      },
      "execution_count": 7,
      "outputs": []
    },
    {
      "cell_type": "code",
      "source": [
        "for layer_idx in range(model.backbone.num_layers):\n",
        "  decoder_layer = model.backbone.get_layer(f\"transformer_layer_{layer_idx}\")\n",
        "  self_attention_layer = decoder_layer._self_attention_layer\n",
        "  self_attention_layer._tracker.locked = False\n",
        "\n",
        "  #Change query dense layer\n",
        "  self_attention_layer._query_dense = LoraLayer(self_attention_layer._query_dense, rank=RANK, alpha=ALPHA, trainable=True)\n",
        "  self_attention_layer._query_dense.trinable=True\n",
        "\n",
        "  # Change value dense layer.\n",
        "  self_attention_layer._value_dense = LoraLayer(self_attention_layer._value_dense, rank=RANK, alpha=ALPHA, trainable=True)\n",
        "  self_attention_layer._value_dense.trinable=True"
      ],
      "metadata": {
        "id": "6dkqD-TE0Oc5"
      },
      "execution_count": 8,
      "outputs": []
    },
    {
      "cell_type": "code",
      "source": [
        "model.summary()"
      ],
      "metadata": {
        "colab": {
          "base_uri": "https://localhost:8080/",
          "height": 449
        },
        "id": "yOJutkOF1M_-",
        "outputId": "6394c864-0d76-4bd9-83da-e98275a8ba2e"
      },
      "execution_count": 9,
      "outputs": [
        {
          "output_type": "display_data",
          "data": {
            "text/plain": [
              "\u001b[1mPreprocessor: \"bert_preprocessor\"\u001b[0m\n"
            ],
            "text/html": [
              "<pre style=\"white-space:pre;overflow-x:auto;line-height:normal;font-family:Menlo,'DejaVu Sans Mono',consolas,'Courier New',monospace\"><span style=\"font-weight: bold\">Preprocessor: \"bert_preprocessor\"</span>\n",
              "</pre>\n"
            ]
          },
          "metadata": {}
        },
        {
          "output_type": "display_data",
          "data": {
            "text/plain": [
              "┏━━━━━━━━━━━━━━━━━━━━━━━━━━━━━━━━━━━━━━━━━━━━━━━━━━━━┳━━━━━━━━━━━━━━━━━━━━━━━━━━━━━━━━━━━━━━━━━━━━━━━━━━━━━┓\n",
              "┃\u001b[1m \u001b[0m\u001b[1mTokenizer (type)                                  \u001b[0m\u001b[1m \u001b[0m┃\u001b[1m \u001b[0m\u001b[1m                                            Vocab #\u001b[0m\u001b[1m \u001b[0m┃\n",
              "┡━━━━━━━━━━━━━━━━━━━━━━━━━━━━━━━━━━━━━━━━━━━━━━━━━━━━╇━━━━━━━━━━━━━━━━━━━━━━━━━━━━━━━━━━━━━━━━━━━━━━━━━━━━━┩\n",
              "│ bert_tokenizer (\u001b[38;5;33mBertTokenizer\u001b[0m)                     │                                              \u001b[38;5;34m30,522\u001b[0m │\n",
              "└────────────────────────────────────────────────────┴─────────────────────────────────────────────────────┘\n"
            ],
            "text/html": [
              "<pre style=\"white-space:pre;overflow-x:auto;line-height:normal;font-family:Menlo,'DejaVu Sans Mono',consolas,'Courier New',monospace\">┏━━━━━━━━━━━━━━━━━━━━━━━━━━━━━━━━━━━━━━━━━━━━━━━━━━━━┳━━━━━━━━━━━━━━━━━━━━━━━━━━━━━━━━━━━━━━━━━━━━━━━━━━━━━┓\n",
              "┃<span style=\"font-weight: bold\"> Tokenizer (type)                                   </span>┃<span style=\"font-weight: bold\">                                             Vocab # </span>┃\n",
              "┡━━━━━━━━━━━━━━━━━━━━━━━━━━━━━━━━━━━━━━━━━━━━━━━━━━━━╇━━━━━━━━━━━━━━━━━━━━━━━━━━━━━━━━━━━━━━━━━━━━━━━━━━━━━┩\n",
              "│ bert_tokenizer (<span style=\"color: #0087ff; text-decoration-color: #0087ff\">BertTokenizer</span>)                     │                                              <span style=\"color: #00af00; text-decoration-color: #00af00\">30,522</span> │\n",
              "└────────────────────────────────────────────────────┴─────────────────────────────────────────────────────┘\n",
              "</pre>\n"
            ]
          },
          "metadata": {}
        },
        {
          "output_type": "display_data",
          "data": {
            "text/plain": [
              "\u001b[1mModel: \"bert_classifier\"\u001b[0m\n"
            ],
            "text/html": [
              "<pre style=\"white-space:pre;overflow-x:auto;line-height:normal;font-family:Menlo,'DejaVu Sans Mono',consolas,'Courier New',monospace\"><span style=\"font-weight: bold\">Model: \"bert_classifier\"</span>\n",
              "</pre>\n"
            ]
          },
          "metadata": {}
        },
        {
          "output_type": "display_data",
          "data": {
            "text/plain": [
              "┏━━━━━━━━━━━━━━━━━━━━━━━━━━━━━━━┳━━━━━━━━━━━━━━━━━━━━━━━━━━━┳━━━━━━━━━━━━━┳━━━━━━━━━━━━━━━━━━━━━━━━━━━━━━━━┓\n",
              "┃\u001b[1m \u001b[0m\u001b[1mLayer (type)                 \u001b[0m\u001b[1m \u001b[0m┃\u001b[1m \u001b[0m\u001b[1mOutput Shape             \u001b[0m\u001b[1m \u001b[0m┃\u001b[1m \u001b[0m\u001b[1m    Param #\u001b[0m\u001b[1m \u001b[0m┃\u001b[1m \u001b[0m\u001b[1mConnected to                  \u001b[0m\u001b[1m \u001b[0m┃\n",
              "┡━━━━━━━━━━━━━━━━━━━━━━━━━━━━━━━╇━━━━━━━━━━━━━━━━━━━━━━━━━━━╇━━━━━━━━━━━━━╇━━━━━━━━━━━━━━━━━━━━━━━━━━━━━━━━┩\n",
              "│ padding_mask (\u001b[38;5;33mInputLayer\u001b[0m)     │ (\u001b[38;5;45mNone\u001b[0m, \u001b[38;5;45mNone\u001b[0m)              │           \u001b[38;5;34m0\u001b[0m │ -                              │\n",
              "├───────────────────────────────┼───────────────────────────┼─────────────┼────────────────────────────────┤\n",
              "│ segment_ids (\u001b[38;5;33mInputLayer\u001b[0m)      │ (\u001b[38;5;45mNone\u001b[0m, \u001b[38;5;45mNone\u001b[0m)              │           \u001b[38;5;34m0\u001b[0m │ -                              │\n",
              "├───────────────────────────────┼───────────────────────────┼─────────────┼────────────────────────────────┤\n",
              "│ token_ids (\u001b[38;5;33mInputLayer\u001b[0m)        │ (\u001b[38;5;45mNone\u001b[0m, \u001b[38;5;45mNone\u001b[0m)              │           \u001b[38;5;34m0\u001b[0m │ -                              │\n",
              "├───────────────────────────────┼───────────────────────────┼─────────────┼────────────────────────────────┤\n",
              "│ bert_backbone (\u001b[38;5;33mBertBackbone\u001b[0m)  │ [(\u001b[38;5;45mNone\u001b[0m, \u001b[38;5;34m768\u001b[0m), (\u001b[38;5;45mNone\u001b[0m,      │ \u001b[38;5;34m109,482,240\u001b[0m │ padding_mask[\u001b[38;5;34m0\u001b[0m][\u001b[38;5;34m0\u001b[0m],            │\n",
              "│                               │ \u001b[38;5;45mNone\u001b[0m, \u001b[38;5;34m768\u001b[0m)]               │             │ segment_ids[\u001b[38;5;34m0\u001b[0m][\u001b[38;5;34m0\u001b[0m],             │\n",
              "│                               │                           │             │ token_ids[\u001b[38;5;34m0\u001b[0m][\u001b[38;5;34m0\u001b[0m]                │\n",
              "├───────────────────────────────┼───────────────────────────┼─────────────┼────────────────────────────────┤\n",
              "│ dropout_12 (\u001b[38;5;33mDropout\u001b[0m)          │ (\u001b[38;5;45mNone\u001b[0m, \u001b[38;5;34m768\u001b[0m)               │           \u001b[38;5;34m0\u001b[0m │ bert_backbone[\u001b[38;5;34m0\u001b[0m][\u001b[38;5;34m0\u001b[0m]            │\n",
              "├───────────────────────────────┼───────────────────────────┼─────────────┼────────────────────────────────┤\n",
              "│ logits (\u001b[38;5;33mDense\u001b[0m)                │ (\u001b[38;5;45mNone\u001b[0m, \u001b[38;5;34m9\u001b[0m)                 │       \u001b[38;5;34m6,921\u001b[0m │ dropout_12[\u001b[38;5;34m0\u001b[0m][\u001b[38;5;34m0\u001b[0m]               │\n",
              "└───────────────────────────────┴───────────────────────────┴─────────────┴────────────────────────────────┘\n"
            ],
            "text/html": [
              "<pre style=\"white-space:pre;overflow-x:auto;line-height:normal;font-family:Menlo,'DejaVu Sans Mono',consolas,'Courier New',monospace\">┏━━━━━━━━━━━━━━━━━━━━━━━━━━━━━━━┳━━━━━━━━━━━━━━━━━━━━━━━━━━━┳━━━━━━━━━━━━━┳━━━━━━━━━━━━━━━━━━━━━━━━━━━━━━━━┓\n",
              "┃<span style=\"font-weight: bold\"> Layer (type)                  </span>┃<span style=\"font-weight: bold\"> Output Shape              </span>┃<span style=\"font-weight: bold\">     Param # </span>┃<span style=\"font-weight: bold\"> Connected to                   </span>┃\n",
              "┡━━━━━━━━━━━━━━━━━━━━━━━━━━━━━━━╇━━━━━━━━━━━━━━━━━━━━━━━━━━━╇━━━━━━━━━━━━━╇━━━━━━━━━━━━━━━━━━━━━━━━━━━━━━━━┩\n",
              "│ padding_mask (<span style=\"color: #0087ff; text-decoration-color: #0087ff\">InputLayer</span>)     │ (<span style=\"color: #00d7ff; text-decoration-color: #00d7ff\">None</span>, <span style=\"color: #00d7ff; text-decoration-color: #00d7ff\">None</span>)              │           <span style=\"color: #00af00; text-decoration-color: #00af00\">0</span> │ -                              │\n",
              "├───────────────────────────────┼───────────────────────────┼─────────────┼────────────────────────────────┤\n",
              "│ segment_ids (<span style=\"color: #0087ff; text-decoration-color: #0087ff\">InputLayer</span>)      │ (<span style=\"color: #00d7ff; text-decoration-color: #00d7ff\">None</span>, <span style=\"color: #00d7ff; text-decoration-color: #00d7ff\">None</span>)              │           <span style=\"color: #00af00; text-decoration-color: #00af00\">0</span> │ -                              │\n",
              "├───────────────────────────────┼───────────────────────────┼─────────────┼────────────────────────────────┤\n",
              "│ token_ids (<span style=\"color: #0087ff; text-decoration-color: #0087ff\">InputLayer</span>)        │ (<span style=\"color: #00d7ff; text-decoration-color: #00d7ff\">None</span>, <span style=\"color: #00d7ff; text-decoration-color: #00d7ff\">None</span>)              │           <span style=\"color: #00af00; text-decoration-color: #00af00\">0</span> │ -                              │\n",
              "├───────────────────────────────┼───────────────────────────┼─────────────┼────────────────────────────────┤\n",
              "│ bert_backbone (<span style=\"color: #0087ff; text-decoration-color: #0087ff\">BertBackbone</span>)  │ [(<span style=\"color: #00d7ff; text-decoration-color: #00d7ff\">None</span>, <span style=\"color: #00af00; text-decoration-color: #00af00\">768</span>), (<span style=\"color: #00d7ff; text-decoration-color: #00d7ff\">None</span>,      │ <span style=\"color: #00af00; text-decoration-color: #00af00\">109,482,240</span> │ padding_mask[<span style=\"color: #00af00; text-decoration-color: #00af00\">0</span>][<span style=\"color: #00af00; text-decoration-color: #00af00\">0</span>],            │\n",
              "│                               │ <span style=\"color: #00d7ff; text-decoration-color: #00d7ff\">None</span>, <span style=\"color: #00af00; text-decoration-color: #00af00\">768</span>)]               │             │ segment_ids[<span style=\"color: #00af00; text-decoration-color: #00af00\">0</span>][<span style=\"color: #00af00; text-decoration-color: #00af00\">0</span>],             │\n",
              "│                               │                           │             │ token_ids[<span style=\"color: #00af00; text-decoration-color: #00af00\">0</span>][<span style=\"color: #00af00; text-decoration-color: #00af00\">0</span>]                │\n",
              "├───────────────────────────────┼───────────────────────────┼─────────────┼────────────────────────────────┤\n",
              "│ dropout_12 (<span style=\"color: #0087ff; text-decoration-color: #0087ff\">Dropout</span>)          │ (<span style=\"color: #00d7ff; text-decoration-color: #00d7ff\">None</span>, <span style=\"color: #00af00; text-decoration-color: #00af00\">768</span>)               │           <span style=\"color: #00af00; text-decoration-color: #00af00\">0</span> │ bert_backbone[<span style=\"color: #00af00; text-decoration-color: #00af00\">0</span>][<span style=\"color: #00af00; text-decoration-color: #00af00\">0</span>]            │\n",
              "├───────────────────────────────┼───────────────────────────┼─────────────┼────────────────────────────────┤\n",
              "│ logits (<span style=\"color: #0087ff; text-decoration-color: #0087ff\">Dense</span>)                │ (<span style=\"color: #00d7ff; text-decoration-color: #00d7ff\">None</span>, <span style=\"color: #00af00; text-decoration-color: #00af00\">9</span>)                 │       <span style=\"color: #00af00; text-decoration-color: #00af00\">6,921</span> │ dropout_12[<span style=\"color: #00af00; text-decoration-color: #00af00\">0</span>][<span style=\"color: #00af00; text-decoration-color: #00af00\">0</span>]               │\n",
              "└───────────────────────────────┴───────────────────────────┴─────────────┴────────────────────────────────┘\n",
              "</pre>\n"
            ]
          },
          "metadata": {}
        },
        {
          "output_type": "display_data",
          "data": {
            "text/plain": [
              "\u001b[1m Total params: \u001b[0m\u001b[38;5;34m109,489,161\u001b[0m (417.67 MB)\n"
            ],
            "text/html": [
              "<pre style=\"white-space:pre;overflow-x:auto;line-height:normal;font-family:Menlo,'DejaVu Sans Mono',consolas,'Courier New',monospace\"><span style=\"font-weight: bold\"> Total params: </span><span style=\"color: #00af00; text-decoration-color: #00af00\">109,489,161</span> (417.67 MB)\n",
              "</pre>\n"
            ]
          },
          "metadata": {}
        },
        {
          "output_type": "display_data",
          "data": {
            "text/plain": [
              "\u001b[1m Trainable params: \u001b[0m\u001b[38;5;34m24,434,697\u001b[0m (93.21 MB)\n"
            ],
            "text/html": [
              "<pre style=\"white-space:pre;overflow-x:auto;line-height:normal;font-family:Menlo,'DejaVu Sans Mono',consolas,'Courier New',monospace\"><span style=\"font-weight: bold\"> Trainable params: </span><span style=\"color: #00af00; text-decoration-color: #00af00\">24,434,697</span> (93.21 MB)\n",
              "</pre>\n"
            ]
          },
          "metadata": {}
        },
        {
          "output_type": "display_data",
          "data": {
            "text/plain": [
              "\u001b[1m Non-trainable params: \u001b[0m\u001b[38;5;34m85,054,464\u001b[0m (324.46 MB)\n"
            ],
            "text/html": [
              "<pre style=\"white-space:pre;overflow-x:auto;line-height:normal;font-family:Menlo,'DejaVu Sans Mono',consolas,'Courier New',monospace\"><span style=\"font-weight: bold\"> Non-trainable params: </span><span style=\"color: #00af00; text-decoration-color: #00af00\">85,054,464</span> (324.46 MB)\n",
              "</pre>\n"
            ]
          },
          "metadata": {}
        }
      ]
    },
    {
      "cell_type": "markdown",
      "source": [
        "## Training the model:"
      ],
      "metadata": {
        "id": "KUHQ16-B35Iu"
      }
    },
    {
      "cell_type": "code",
      "source": [
        "# TODO: Your code here.\n",
        "\n",
        "optimizer = keras.optimizers.AdamW(learning_rate=1e-4, weight_decay=0.01, epsilon=1e-6)\n",
        "loss = keras.losses.SparseCategoricalCrossentropy(from_logits=True)\n",
        "\n",
        "model.compile(optimizer=optimizer, loss=loss, weighted_metrics=[\"accuracy\"])"
      ],
      "metadata": {
        "id": "9JBydhTM4WPn"
      },
      "execution_count": 18,
      "outputs": []
    },
    {
      "cell_type": "code",
      "source": [
        "history = model.fit(train_data_p, validation_data=val_data_p, epochs=20, verbose=2)"
      ],
      "metadata": {
        "colab": {
          "base_uri": "https://localhost:8080/"
        },
        "id": "ZZWXbhRL48tF",
        "outputId": "bcc9117a-9be2-448f-8a80-5d67c839ef3c"
      },
      "execution_count": null,
      "outputs": [
        {
          "output_type": "stream",
          "name": "stdout",
          "text": [
            "Epoch 1/20\n",
            "313/313 - 666s - 2s/step - accuracy: 0.4810 - loss: 1.4437 - val_accuracy: 0.5650 - val_loss: 1.2598\n",
            "Epoch 2/20\n",
            "313/313 - 437s - 1s/step - accuracy: 0.6844 - loss: 0.9558 - val_accuracy: 0.5860 - val_loss: 1.2305\n",
            "Epoch 3/20\n",
            "313/313 - 435s - 1s/step - accuracy: 0.7886 - loss: 0.6251 - val_accuracy: 0.5720 - val_loss: 1.3802\n",
            "Epoch 4/20\n",
            "313/313 - 469s - 1s/step - accuracy: 0.8932 - loss: 0.3351 - val_accuracy: 0.5600 - val_loss: 1.6321\n",
            "Epoch 5/20\n",
            "313/313 - 437s - 1s/step - accuracy: 0.9568 - loss: 0.1593 - val_accuracy: 0.5620 - val_loss: 1.8302\n",
            "Epoch 6/20\n",
            "313/313 - 434s - 1s/step - accuracy: 0.9790 - loss: 0.0768 - val_accuracy: 0.5610 - val_loss: 2.0990\n",
            "Epoch 7/20\n",
            "313/313 - 438s - 1s/step - accuracy: 0.9918 - loss: 0.0380 - val_accuracy: 0.5420 - val_loss: 2.3170\n",
            "Epoch 8/20\n",
            "313/313 - 434s - 1s/step - accuracy: 0.9960 - loss: 0.0184 - val_accuracy: 0.5770 - val_loss: 2.4357\n",
            "Epoch 9/20\n",
            "313/313 - 433s - 1s/step - accuracy: 0.9986 - loss: 0.0118 - val_accuracy: 0.5730 - val_loss: 2.5396\n",
            "Epoch 10/20\n",
            "313/313 - 471s - 2s/step - accuracy: 0.9990 - loss: 0.0067 - val_accuracy: 0.5630 - val_loss: 2.6460\n",
            "Epoch 11/20\n",
            "313/313 - 433s - 1s/step - accuracy: 0.9958 - loss: 0.0159 - val_accuracy: 0.5450 - val_loss: 2.7567\n",
            "Epoch 12/20\n"
          ]
        }
      ]
    },
    {
      "cell_type": "code",
      "source": [
        "fig, ax = plt.subplots(1, 2, figsize=(11, 3))\n",
        "fig.tight_layout(pad=4, w_pad=6.5)\n",
        "\n",
        "x = list(range(0, len(history.history[\"loss\"])))\n",
        "\n",
        "plot_info = [{'label_prefix': '', 'color': 'red'},\n",
        "              {'label_prefix': 'val_', 'color': 'green'}]\n",
        "\n",
        "for i, ax_index in enumerate([0, 1]):\n",
        "\n",
        "    for info in plot_info:\n",
        "        label = info['label_prefix'] + 'loss' if i == 0 else info['label_prefix'] + 'accuracy'\n",
        "        value = history.history[label]\n",
        "        ax[ax_index].plot(x, value, label=label, color=info['color'])\n",
        "\n",
        "    ax[ax_index].set_title(f'\\n {\"Loss\" if i == 0 else \"Classification Accuracy\"} History\\n', fontsize=14)\n",
        "    ax[ax_index].set_xlabel('\\n Epochs')\n",
        "    ax[ax_index].set_ylabel('Loss' if i == 0 else 'Classification accuracy')\n",
        "    ax[ax_index].set_xticks(list(range(0, len(history.history[\"loss\"]))))\n",
        "    ax[ax_index].grid(linewidth=0.5)\n",
        "\n",
        "    ax[ax_index].legend(loc=\"best\", prop={'size': 8})\n",
        "\n",
        "plt.show()"
      ],
      "metadata": {
        "colab": {
          "base_uri": "https://localhost:8080/",
          "height": 275
        },
        "id": "mmrxGXeMHbnG",
        "outputId": "d933233e-7000-481c-baf9-a36fb78d734b"
      },
      "execution_count": 27,
      "outputs": [
        {
          "output_type": "display_data",
          "data": {
            "text/plain": [
              "<Figure size 1100x300 with 2 Axes>"
            ],
            "image/png": "[encoded data removed]"
          },
          "metadata": {}
        }
      ]
    },
    {
      "cell_type": "code",
      "source": [
        "#test_data = test_data.map(preprocess).shuffle(1000).batch(16)"
      ],
      "metadata": {
        "id": "wFH1hmr5KaG7"
      },
      "execution_count": null,
      "outputs": []
    },
    {
      "cell_type": "code",
      "source": [
        "test_loss, test_acc = model.evaluate(test_data, verbose=1)\n",
        "\n",
        "print(f\" >> test Loss: {round(test_loss, 4)}\")\n",
        "print(f\" >> test Accuracy : {round(test_acc, 4)}\")"
      ],
      "metadata": {
        "colab": {
          "base_uri": "https://localhost:8080/"
        },
        "id": "MkvKPNO7JTsU",
        "outputId": "5dd8ebf6-f11e-49ab-d67c-d1105513e49c"
      },
      "execution_count": 31,
      "outputs": [
        {
          "output_type": "stream",
          "name": "stdout",
          "text": [
            "\u001b[1m4/4\u001b[0m \u001b[32m━━━━━━━━━━━━━━━━━━━━\u001b[0m\u001b[37m\u001b[0m \u001b[1m2s\u001b[0m 416ms/step - accuracy: 0.2905 - loss: 2.0217\n",
            " >> test Loss: 1.9738\n",
            " >> test Accuracy : 0.32\n"
          ]
        }
      ]
    },
    {
      "cell_type": "markdown",
      "source": [
        "### Exercise 2: Interpreting the results (5 points)\n",
        "\n",
        "**This exercise is required only for students that have not submitted the first homework, or for students who want to raise their mid-term mark (mark <= 8/10). For a mark of 8/10 or higher, an additional point can also be recovered during the exam.**\n",
        "\n",
        "> **To recap**: if you submitted the mid-term homework, implement only Exercise 1, for a total of *10 points*. If you did not submit the mid-term homework, implement Exercises 1 and 2 for a total of *15 points*.\n",
        "\n",
        "[LIME](https://arxiv.org/abs/1602.04938) (**Local Interpretable Model-agnostic Explanations**) is a very common explainability method, which trains a small interpretable model (e.g., a linear model) around a prediction $f(x)$ to interpret the prediction. For this exercise:\n",
        "\n",
        "1. Read carefully the original LIME paper.\n",
        "2. Re-implement the LIME algorithm and test it on 1 or 2 predictions given by your neural network (from Exercise 1).\n",
        "3. This must be done fully in TensorFlow (same as the previous exercise).\n",
        "4. LIME requires to select how to represent the inputs (e.g., patches of the original image). Explain your choice below.\n",
        "5. Analyze the results you obtain."
      ],
      "metadata": {
        "id": "XXUhR5ZH9PKQ"
      }
    },
    {
      "cell_type": "code",
      "source": [
        "# TODO: Implement and test LIME."
      ],
      "metadata": {
        "id": "rJZBZUFA6POv"
      },
      "execution_count": null,
      "outputs": []
    },
    {
      "cell_type": "markdown",
      "source": [
        "### Final checklist\n",
        "\n",
        "1. Carefully check all textual descriptions and the code. Insert comments when needed. <ins>Check for TODO to see if you missed anything.</ins>\n",
        "2. Run everything one final time. *Please do not send me notebooks with errors or cells that are not working.*\n",
        "3. Send the completed notebook following the instructions on top.\n",
        "\n",
        "![download.jpg](data:image/jpeg;base64,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)"
      ],
      "metadata": {
        "id": "Pp2K2VXGdAtd"
      }
    }
  ]
}