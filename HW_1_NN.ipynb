{
  "nbformat": 4,
  "nbformat_minor": 0,
  "metadata": {
    "colab": {
      "provenance": [],
      "gpuType": "T4",
      "authorship_tag": "ABX9TyM3TekRCtOTmjw9U6xHFl6H",
      "include_colab_link": true
    },
    "kernelspec": {
      "name": "python3",
      "display_name": "Python 3"
    },
    "language_info": {
      "name": "python"
    },
    "accelerator": "GPU"
  },
  "cells": [
    {
      "cell_type": "markdown",
      "metadata": {
        "id": "view-in-github",
        "colab_type": "text"
      },
      "source": [
        "<a href=\"https://colab.research.google.com/github/LM1997610/NN/blob/main/HW_1_NN.ipynb\" target=\"_parent\"><img src=\"https://colab.research.google.com/assets/colab-badge.svg\" alt=\"Open In Colab\"/></a>"
      ]
    },
    {
      "cell_type": "code",
      "execution_count": 1,
      "metadata": {
        "id": "gI9jfZcczFTG"
      },
      "outputs": [],
      "source": [
        "import tensorflow as tf\n",
        "import tensorflow_datasets as tfds\n",
        "\n",
        "from tensorflow import keras\n",
        "\n",
        "import matplotlib.pyplot as plt"
      ]
    },
    {
      "cell_type": "code",
      "source": [
        "(train_images, train_labels), (test_images, test_labels) = keras.datasets.cifar10.load_data()"
      ],
      "metadata": {
        "id": "oNn1P4hRzw7t"
      },
      "execution_count": 2,
      "outputs": []
    },
    {
      "cell_type": "code",
      "source": [
        "(train_images, train_labels),(val_x, val_y), (test_images, test_labels) = tfds.load(\"cifar\", split=[\"train[]\"], batch_size = 300)"
      ],
      "metadata": {
        "id": "H95s4MmIp2s_",
        "outputId": "9daa96fc-9c0f-42f5-9ae8-73d1ba038d8c",
        "colab": {
          "base_uri": "https://localhost:8080/",
          "height": 175
        }
      },
      "execution_count": 26,
      "outputs": [
        {
          "output_type": "error",
          "ename": "NameError",
          "evalue": "ignored",
          "traceback": [
            "\u001b[0;31m---------------------------------------------------------------------------\u001b[0m",
            "\u001b[0;31mNameError\u001b[0m                                 Traceback (most recent call last)",
            "\u001b[0;32m<ipython-input-26-5c41dc6f2d49>\u001b[0m in \u001b[0;36m<cell line: 1>\u001b[0;34m()\u001b[0m\n\u001b[0;32m----> 1\u001b[0;31m \u001b[0;34m(\u001b[0m\u001b[0mtrain_images\u001b[0m\u001b[0;34m,\u001b[0m \u001b[0mtrain_labels\u001b[0m\u001b[0;34m)\u001b[0m\u001b[0;34m,\u001b[0m\u001b[0;34m(\u001b[0m\u001b[0mval_x\u001b[0m\u001b[0;34m,\u001b[0m \u001b[0mval_y\u001b[0m\u001b[0;34m)\u001b[0m\u001b[0;34m,\u001b[0m \u001b[0;34m(\u001b[0m\u001b[0mtest_images\u001b[0m\u001b[0;34m,\u001b[0m \u001b[0mtest_labels\u001b[0m\u001b[0;34m)\u001b[0m \u001b[0;34m=\u001b[0m \u001b[0mtfdf\u001b[0m\u001b[0;34m.\u001b[0m\u001b[0mload\u001b[0m\u001b[0;34m(\u001b[0m\u001b[0;34m\"cifar\"\u001b[0m\u001b[0;34m,\u001b[0m \u001b[0msplit\u001b[0m\u001b[0;34m=\u001b[0m\u001b[0;34m[\u001b[0m\u001b[0;34m\"train[]\"\u001b[0m\u001b[0;34m]\u001b[0m\u001b[0;34m,\u001b[0m \u001b[0mbatch_size\u001b[0m \u001b[0;34m=\u001b[0m \u001b[0;36m300\u001b[0m\u001b[0;34m)\u001b[0m\u001b[0;34m\u001b[0m\u001b[0;34m\u001b[0m\u001b[0m\n\u001b[0m",
            "\u001b[0;31mNameError\u001b[0m: name 'tfdf' is not defined"
          ]
        }
      ]
    },
    {
      "cell_type": "code",
      "source": [
        "a,b, c = tfds.load(\"cifar10\", split=[\"train[0:49000]\", \"train[49000:]\", \"test\"], as_supervised=True, batch_size = 300)"
      ],
      "metadata": {
        "id": "1FnHHh3BqPqT"
      },
      "execution_count": 27,
      "outputs": []
    },
    {
      "cell_type": "code",
      "source": [
        "train_images = tf.cast(train_images, tf.float32)/ 255.0\n",
        "test_images = tf.cast(test_images, tf.float32)/ 255.0"
      ],
      "metadata": {
        "id": "fJjcG0sSQk8k"
      },
      "execution_count": 3,
      "outputs": []
    },
    {
      "cell_type": "code",
      "source": [
        "def add_conv_block(model, n_filters):\n",
        "\n",
        "  model.add(keras.layers.Conv2D(filters = n_filters,                  # conv_layer\n",
        "                                kernel_size = (3, 3),\n",
        "                                padding = \"same\"))\n",
        "\n",
        "  model.add(keras.layers.BatchNormalization())                       # batch_normalization\n",
        "  model.add(keras.layers.MaxPooling2D(pool_size=(2, 2), strides=2))  # pool_layer\n",
        "  model.add(keras.layers.Activation('relu'))                         # activation\n",
        "  model.add(keras.layers.Dropout(0.3))                               # drop_out\n",
        "\n",
        "  return model"
      ],
      "metadata": {
        "id": "w9fx4JR1z7wW"
      },
      "execution_count": 28,
      "outputs": []
    },
    {
      "cell_type": "code",
      "source": [
        "hidden_layers =  [128, 256, 512, 512, 512]\n",
        "\n",
        "model = keras.Sequential()\n",
        "\n",
        "for i in hidden_layers:\n",
        "  model = add_conv_block(model, i)\n",
        "\n",
        "model.add(keras.layers.Flatten())\n",
        "model.add(keras.layers.Dense(512, activation='relu'))\n",
        "model.add(keras.layers.Dense(10))\n"
      ],
      "metadata": {
        "id": "A0XtHo4z0N16"
      },
      "execution_count": 29,
      "outputs": []
    },
    {
      "cell_type": "code",
      "source": [
        "model.build(input_shape=(256, 32,32,3))\n",
        "# model.summary()"
      ],
      "metadata": {
        "id": "EAgZO_mL0uSX"
      },
      "execution_count": 30,
      "outputs": []
    },
    {
      "cell_type": "code",
      "source": [
        "cross_entropy = keras.losses.SparseCategoricalCrossentropy(from_logits=True)\n",
        "accuracy = keras.metrics.SparseCategoricalAccuracy()\n",
        "opt = keras.optimizers.Adam(learning_rate=0.0001, weight_decay=0.001)"
      ],
      "metadata": {
        "id": "hQA8dKJZ7uuN"
      },
      "execution_count": 34,
      "outputs": []
    },
    {
      "cell_type": "code",
      "source": [
        "callb = [tf.keras.callbacks.TerminateOnNaN(),\n",
        "         #tf.keras.callbacks.EarlyStopping( patience=5, restore_best_weights=True, verbose=1),\n",
        "         tf.keras.callbacks.TensorBoard(log_dir=\"logs\", update_freq = 50 )]"
      ],
      "metadata": {
        "id": "ES2nM4Z2l0DC"
      },
      "execution_count": 35,
      "outputs": []
    },
    {
      "cell_type": "code",
      "source": [
        "model.compile(optimizer= opt,\n",
        "              loss = cross_entropy,\n",
        "              metrics = accuracy)\n",
        "\n",
        "history = model.fit(a, epochs=25, validation_data=b, callbacks=callb )"
      ],
      "metadata": {
        "colab": {
          "base_uri": "https://localhost:8080/"
        },
        "id": "kaxiMKeW00Xz",
        "outputId": "b544a011-28cc-425f-aabe-d3955c0b770e"
      },
      "execution_count": null,
      "outputs": [
        {
          "output_type": "stream",
          "name": "stdout",
          "text": [
            "Epoch 1/25\n",
            "164/164 [==============================] - 20s 100ms/step - loss: 1.5384 - sparse_categorical_accuracy: 0.4321 - val_loss: 2.2660 - val_sparse_categorical_accuracy: 0.2650\n",
            "Epoch 2/25\n",
            "164/164 [==============================] - 16s 100ms/step - loss: 1.3449 - sparse_categorical_accuracy: 0.5083 - val_loss: 2.4527 - val_sparse_categorical_accuracy: 0.2720\n",
            "Epoch 3/25\n",
            "164/164 [==============================] - 16s 98ms/step - loss: 1.2220 - sparse_categorical_accuracy: 0.5596 - val_loss: 2.3063 - val_sparse_categorical_accuracy: 0.3290\n",
            "Epoch 4/25\n",
            "164/164 [==============================] - 16s 97ms/step - loss: 1.1334 - sparse_categorical_accuracy: 0.5920 - val_loss: 2.0595 - val_sparse_categorical_accuracy: 0.3810\n",
            "Epoch 5/25\n",
            "164/164 [==============================] - 16s 98ms/step - loss: 1.0637 - sparse_categorical_accuracy: 0.6180 - val_loss: 1.9358 - val_sparse_categorical_accuracy: 0.4050\n",
            "Epoch 6/25\n",
            "164/164 [==============================] - 16s 99ms/step - loss: 1.0067 - sparse_categorical_accuracy: 0.6376 - val_loss: 1.7743 - val_sparse_categorical_accuracy: 0.4490\n",
            "Epoch 7/25\n",
            "164/164 [==============================] - 17s 103ms/step - loss: 0.9529 - sparse_categorical_accuracy: 0.6595 - val_loss: 1.5796 - val_sparse_categorical_accuracy: 0.4610\n",
            "Epoch 8/25\n",
            "164/164 [==============================] - 16s 99ms/step - loss: 0.9105 - sparse_categorical_accuracy: 0.6742 - val_loss: 1.4124 - val_sparse_categorical_accuracy: 0.5450\n",
            "Epoch 9/25\n",
            "164/164 [==============================] - 16s 99ms/step - loss: 0.8735 - sparse_categorical_accuracy: 0.6886 - val_loss: 1.4071 - val_sparse_categorical_accuracy: 0.5460\n",
            "Epoch 10/25\n",
            "164/164 [==============================] - 16s 99ms/step - loss: 0.8366 - sparse_categorical_accuracy: 0.7030 - val_loss: 1.2006 - val_sparse_categorical_accuracy: 0.5890\n",
            "Epoch 11/25\n",
            "164/164 [==============================] - 16s 99ms/step - loss: 0.8065 - sparse_categorical_accuracy: 0.7139 - val_loss: 1.2807 - val_sparse_categorical_accuracy: 0.5810\n",
            "Epoch 12/25\n",
            "164/164 [==============================] - 16s 100ms/step - loss: 0.7775 - sparse_categorical_accuracy: 0.7243 - val_loss: 1.1071 - val_sparse_categorical_accuracy: 0.6320\n",
            "Epoch 13/25\n",
            "164/164 [==============================] - 16s 99ms/step - loss: 0.7465 - sparse_categorical_accuracy: 0.7353 - val_loss: 1.0598 - val_sparse_categorical_accuracy: 0.6540\n",
            "Epoch 14/25\n",
            "164/164 [==============================] - 16s 100ms/step - loss: 0.7262 - sparse_categorical_accuracy: 0.7423 - val_loss: 1.0451 - val_sparse_categorical_accuracy: 0.6560\n",
            "Epoch 15/25\n",
            "164/164 [==============================] - 16s 99ms/step - loss: 0.7034 - sparse_categorical_accuracy: 0.7528 - val_loss: 0.9970 - val_sparse_categorical_accuracy: 0.6780\n",
            "Epoch 16/25\n",
            "164/164 [==============================] - 16s 99ms/step - loss: 0.6820 - sparse_categorical_accuracy: 0.7588 - val_loss: 1.1078 - val_sparse_categorical_accuracy: 0.6520\n",
            "Epoch 17/25\n",
            "164/164 [==============================] - 16s 100ms/step - loss: 0.6609 - sparse_categorical_accuracy: 0.7669 - val_loss: 0.9892 - val_sparse_categorical_accuracy: 0.6710\n",
            "Epoch 18/25\n",
            "164/164 [==============================] - 16s 99ms/step - loss: 0.6390 - sparse_categorical_accuracy: 0.7761 - val_loss: 0.9193 - val_sparse_categorical_accuracy: 0.7030\n",
            "Epoch 19/25\n",
            "164/164 [==============================] - 16s 99ms/step - loss: 0.6227 - sparse_categorical_accuracy: 0.7796 - val_loss: 0.9739 - val_sparse_categorical_accuracy: 0.6940\n",
            "Epoch 20/25\n",
            "164/164 [==============================] - 16s 100ms/step - loss: 0.6099 - sparse_categorical_accuracy: 0.7838 - val_loss: 1.1865 - val_sparse_categorical_accuracy: 0.6320\n",
            "Epoch 21/25\n",
            "164/164 [==============================] - 16s 100ms/step - loss: 0.5892 - sparse_categorical_accuracy: 0.7916 - val_loss: 0.9029 - val_sparse_categorical_accuracy: 0.7120\n",
            "Epoch 22/25\n",
            "164/164 [==============================] - 16s 100ms/step - loss: 0.5804 - sparse_categorical_accuracy: 0.7933 - val_loss: 0.8434 - val_sparse_categorical_accuracy: 0.7270\n",
            "Epoch 23/25\n",
            "164/164 [==============================] - 16s 99ms/step - loss: 0.5584 - sparse_categorical_accuracy: 0.8035 - val_loss: 0.8678 - val_sparse_categorical_accuracy: 0.7300\n",
            "Epoch 24/25\n",
            "164/164 [==============================] - 16s 99ms/step - loss: 0.5463 - sparse_categorical_accuracy: 0.8065 - val_loss: 0.8096 - val_sparse_categorical_accuracy: 0.7440\n",
            "Epoch 25/25\n",
            " 10/164 [>.............................] - ETA: 16s - loss: 0.5411 - sparse_categorical_accuracy: 0.8110"
          ]
        }
      ]
    },
    {
      "cell_type": "code",
      "source": [
        "test_loss, test_acc = model.evaluate(c, verbose=2)"
      ],
      "metadata": {
        "colab": {
          "base_uri": "https://localhost:8080/"
        },
        "id": "2afoE8g117Yf",
        "outputId": "3ff16dcc-6fe6-4561-8c23-1f5f12b92b10"
      },
      "execution_count": 10,
      "outputs": [
        {
          "output_type": "stream",
          "name": "stdout",
          "text": [
            "313/313 - 2s - loss: 0.8110 - sparse_categorical_accuracy: 0.7346 - 2s/epoch - 8ms/step\n"
          ]
        }
      ]
    },
    {
      "cell_type": "code",
      "source": [
        "\n",
        "fig, ax = plt.subplots(1, 2, figsize=(11, 3))\n",
        "fig.tight_layout(pad=4, w_pad = 6.5)\n",
        "\n",
        "ax[0].plot(history.history['loss'], label='train_loss', color = \"red\")\n",
        "ax[0].plot(history.history['val_loss'], label='val_loss', color = \"green\")\n",
        "\n",
        "ax[0].set_title('Loss History\\n', fontsize=14)\n",
        "ax[0].set_xlabel('\\n Epochs')\n",
        "ax[0].set_ylabel('Loss')\n",
        "#ax[0].set_xticks(list(range(1, num_epochs+1, 3)))\n",
        "ax[0].grid(linewidth=0.4)\n",
        "ax[0].legend(loc=\"best\", prop={'size': 8})\n",
        "\n",
        "\n",
        "ax[1].plot(history.history['sparse_categorical_accuracy'], label='train_accuracy', color = \"red\")\n",
        "ax[1].plot(history.history['val_sparse_categorical_accuracy'], label = 'val_accuracy', color = \"green\")\n",
        "ax[1].set_title('Classification Accuracy History\\n', fontsize=14)\n",
        "ax[1].set_xlabel('\\n Epochs')\n",
        "ax[1].set_ylabel('Classification accuracy')\n",
        "ax[1].grid(linewidth=0.4)\n",
        "\n",
        "#ax[1].set_xticks(list(range(1, num_epochs+1, 3)))\n",
        "ax[1].legend(loc =\"lower right\", prop={'size': 8})\n",
        "\n",
        "#plt.savefig(\"history_plot.png\")\n",
        "plt.show()"
      ],
      "metadata": {
        "colab": {
          "base_uri": "https://localhost:8080/",
          "height": 301
        },
        "id": "qv11feI84Y4n",
        "outputId": "f64e1339-0ab0-4e02-9b79-be5e3c9bdc20"
      },
      "execution_count": 11,
      "outputs": [
        {
          "output_type": "display_data",
          "data": {
            "text/plain": [
              "<Figure size 1100x300 with 2 Axes>"
            ],
            "image/png": "[encoded data removed]"
          },
          "metadata": {}
        }
      ]
    },
    {
      "cell_type": "code",
      "source": [
        "cifar10_class_names = {0: \"Plane\", 1: \"Car\", 2: \"Bird\", 3: \"Cat\", 4: \"Deer\",\n",
        "                       5: \"Dog\", 6: \"Frog\", 7: \"Horse\", 8: \"Boat\", 9: \"Truck\"}"
      ],
      "metadata": {
        "id": "HviibY5iLBut"
      },
      "execution_count": 12,
      "outputs": []
    },
    {
      "cell_type": "code",
      "source": [
        "import numpy as np"
      ],
      "metadata": {
        "id": "G0-yLDpiX-Ax"
      },
      "execution_count": 13,
      "outputs": []
    },
    {
      "cell_type": "code",
      "source": [
        "def show_stuff(index, model):\n",
        "\n",
        "  map = silency_map(test_images[index], model)\n",
        "\n",
        "  last = test_images[index].numpy()[:,:,1] + map\n",
        "\n",
        "  fig, ax = plt.subplots(1, 3, figsize=(5, 5))\n",
        "\n",
        "  ax[1].axis('off')\n",
        "\n",
        "  ax[0].imshow(test_images[index]);\n",
        "  ax[0].axis('off')\n",
        "\n",
        "  ax[1].imshow(map,alpha=0.8, cmap=\"jet\")\n",
        "\n",
        "  ax[2].imshow(last)\n",
        "  #fig.colorbar(i)\n",
        "\n",
        "  plt.show()"
      ],
      "metadata": {
        "id": "nDYFp5dnUTwU"
      },
      "execution_count": 14,
      "outputs": []
    },
    {
      "cell_type": "code",
      "source": [
        "plt.imshow(test_images[2].numpy()[:,:,1] + map)"
      ],
      "metadata": {
        "colab": {
          "base_uri": "https://localhost:8080/",
          "height": 175
        },
        "id": "ICDAwOAwxvmm",
        "outputId": "d94017a3-e61a-4ba9-b316-05d527c33b41"
      },
      "execution_count": 15,
      "outputs": [
        {
          "output_type": "error",
          "ename": "TypeError",
          "evalue": "ignored",
          "traceback": [
            "\u001b[0;31m---------------------------------------------------------------------------\u001b[0m",
            "\u001b[0;31mTypeError\u001b[0m                                 Traceback (most recent call last)",
            "\u001b[0;32m<ipython-input-15-919274e2ec4e>\u001b[0m in \u001b[0;36m<cell line: 1>\u001b[0;34m()\u001b[0m\n\u001b[0;32m----> 1\u001b[0;31m \u001b[0mplt\u001b[0m\u001b[0;34m.\u001b[0m\u001b[0mimshow\u001b[0m\u001b[0;34m(\u001b[0m\u001b[0mtest_images\u001b[0m\u001b[0;34m[\u001b[0m\u001b[0;36m2\u001b[0m\u001b[0;34m]\u001b[0m\u001b[0;34m.\u001b[0m\u001b[0mnumpy\u001b[0m\u001b[0;34m(\u001b[0m\u001b[0;34m)\u001b[0m\u001b[0;34m[\u001b[0m\u001b[0;34m:\u001b[0m\u001b[0;34m,\u001b[0m\u001b[0;34m:\u001b[0m\u001b[0;34m,\u001b[0m\u001b[0;36m1\u001b[0m\u001b[0;34m]\u001b[0m \u001b[0;34m+\u001b[0m \u001b[0mmap\u001b[0m\u001b[0;34m)\u001b[0m\u001b[0;34m\u001b[0m\u001b[0;34m\u001b[0m\u001b[0m\n\u001b[0m",
            "\u001b[0;31mTypeError\u001b[0m: unsupported operand type(s) for +: 'float' and 'type'"
          ]
        }
      ]
    },
    {
      "cell_type": "code",
      "source": [
        "plt.imshow(test_images[2])"
      ],
      "metadata": {
        "id": "BE1BJoopxghv"
      },
      "execution_count": null,
      "outputs": []
    },
    {
      "cell_type": "code",
      "source": [
        "def silency_map(image, model):\n",
        "\n",
        "  with tf.GradientTape() as tape:\n",
        "\n",
        "    tensor_input = tf.convert_to_tensor(np.expand_dims(image, axis=0))\n",
        "\n",
        "    tape.watch(tensor_input)\n",
        "\n",
        "    class_scores = model(tensor_input, training=False)\n",
        "    predicted_class = np.argmax(class_scores)\n",
        "    class_channel = class_scores[:,predicted_class]\n",
        "\n",
        "  grads = tape.gradient(class_channel, tensor_input)\n",
        "  dgrad_abs = tf.math.abs(grads)\n",
        "  dgrad_max_ = np.max(dgrad_abs, axis=3)[0]\n",
        "\n",
        "  ## normalize to range between 0 and 1\n",
        "  arr_min, arr_max  = np.min(dgrad_max_), np.max(dgrad_max_)\n",
        "  map = (dgrad_max_ - arr_min) / (arr_max - arr_min + 1e-18)\n",
        "\n",
        "  return map, grads"
      ],
      "metadata": {
        "id": "zcQTm4ZXty3u"
      },
      "execution_count": null,
      "outputs": []
    },
    {
      "cell_type": "code",
      "source": [
        "map, grads = silency_map(test_images[0], model)"
      ],
      "metadata": {
        "id": "OuTa3GYTrRZ3"
      },
      "execution_count": null,
      "outputs": []
    },
    {
      "cell_type": "code",
      "source": [
        "fig, axes = plt.subplots(1,2,figsize=(14,5))\n",
        "\n",
        "axes[0].imshow(test_images[2])\n",
        "i = axes[1].imshow(a,cmap=\"jet\",alpha=0.8)\n",
        "fig.colorbar(i)\n"
      ],
      "metadata": {
        "id": "6jbHhhmRryzx"
      },
      "execution_count": null,
      "outputs": []
    },
    {
      "cell_type": "code",
      "source": [],
      "metadata": {
        "id": "HFRME6tYr0ty"
      },
      "execution_count": null,
      "outputs": []
    }
  ]
}