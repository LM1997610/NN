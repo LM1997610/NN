{
  "nbformat": 4,
  "nbformat_minor": 0,
  "metadata": {
    "colab": {
      "provenance": [],
      "gpuType": "T4",
      "authorship_tag": "ABX9TyN6MVmGkrWGytaLK6D85Bi1",
      "include_colab_link": true
    },
    "kernelspec": {
      "name": "python3",
      "display_name": "Python 3"
    },
    "language_info": {
      "name": "python"
    },
    "accelerator": "GPU"
  },
  "cells": [
    {
      "cell_type": "markdown",
      "metadata": {
        "id": "view-in-github",
        "colab_type": "text"
      },
      "source": [
        "<a href=\"https://colab.research.google.com/github/LM1997610/NN/blob/main/HW_1_NN.ipynb\" target=\"_parent\"><img src=\"https://colab.research.google.com/assets/colab-badge.svg\" alt=\"Open In Colab\"/></a>"
      ]
    },
    {
      "cell_type": "code",
      "execution_count": 1,
      "metadata": {
        "id": "gI9jfZcczFTG"
      },
      "outputs": [],
      "source": [
        "import tensorflow as tf\n",
        "import tensorflow_datasets as tfds\n",
        "\n",
        "from tensorflow import keras\n",
        "\n",
        "import matplotlib.pyplot as plt"
      ]
    },
    {
      "cell_type": "code",
      "source": [
        "#a,b, c = tfds.load(\"stl10\", split=[\"train\", \"test[1000:]\", \"test[1000:]\"], as_supervised=True, batch_size = 300)"
      ],
      "metadata": {
        "id": "BjrxPW3h5hZ1"
      },
      "execution_count": 2,
      "outputs": []
    },
    {
      "cell_type": "code",
      "source": [
        "train_data, val_data, test_data = tfds.load(\"cifar10\", split=[\"train[0:49000]\", \"train[49000:]\", \"test\"], as_supervised=True, batch_size = 300)"
      ],
      "metadata": {
        "id": "1FnHHh3BqPqT"
      },
      "execution_count": 3,
      "outputs": []
    },
    {
      "cell_type": "code",
      "source": [
        "def preproccess(image, label):\n",
        "  image = tf.cast(image, tf.float32)/ 255.0\n",
        "  return image, label"
      ],
      "metadata": {
        "id": "H0WgHeRQ1WUj"
      },
      "execution_count": 4,
      "outputs": []
    },
    {
      "cell_type": "code",
      "source": [
        "train_data= train_data.map(preproccess)\n",
        "val_data= val_data.map(preproccess)\n",
        "test_data= test_data.map(preproccess)"
      ],
      "metadata": {
        "id": "saEDL6r31Xi9"
      },
      "execution_count": 5,
      "outputs": []
    },
    {
      "cell_type": "code",
      "source": [
        "def add_conv_block(model, n_filters):\n",
        "\n",
        "  model.add(keras.layers.Conv2D(filters = n_filters,                 # conv_layer\n",
        "                                kernel_size = (3, 3),\n",
        "                                padding = \"same\"))\n",
        "\n",
        "  model.add(keras.layers.BatchNormalization())                       # batch_normalization\n",
        "  model.add(keras.layers.MaxPooling2D(pool_size=(2, 2), strides=2))  # pool_layer\n",
        "  model.add(keras.layers.Activation('relu'))                         # activation\n",
        "  model.add(keras.layers.Dropout(0.3))                               # drop_out\n",
        "\n",
        "  return model"
      ],
      "metadata": {
        "id": "w9fx4JR1z7wW"
      },
      "execution_count": 6,
      "outputs": []
    },
    {
      "cell_type": "code",
      "source": [
        "hidden_layers =  [128, 256, 512, 512, 512]\n",
        "\n",
        "model = keras.Sequential()\n",
        "\n",
        "for i in hidden_layers:\n",
        "  model = add_conv_block(model, i)\n",
        "\n",
        "model.add(keras.layers.Flatten())\n",
        "model.add(keras.layers.Dense(512, activation='relu'))\n",
        "model.add(keras.layers.Dense(128, activation='relu'))\n",
        "model.add(keras.layers.Dense(10))\n"
      ],
      "metadata": {
        "id": "A0XtHo4z0N16"
      },
      "execution_count": 9,
      "outputs": []
    },
    {
      "cell_type": "code",
      "source": [
        "model.build(input_shape=(256, 32,32,3))\n",
        "# model.summary()"
      ],
      "metadata": {
        "id": "EAgZO_mL0uSX"
      },
      "execution_count": 10,
      "outputs": []
    },
    {
      "cell_type": "code",
      "source": [
        "cross_entropy = keras.losses.SparseCategoricalCrossentropy(from_logits=True)\n",
        "accuracy = keras.metrics.SparseCategoricalAccuracy()\n",
        "opt = keras.optimizers.Adam(learning_rate=0.001, weight_decay=0.001)"
      ],
      "metadata": {
        "id": "hQA8dKJZ7uuN"
      },
      "execution_count": 11,
      "outputs": []
    },
    {
      "cell_type": "code",
      "source": [
        "callb = [tf.keras.callbacks.TerminateOnNaN(),\n",
        "         tf.keras.callbacks.EarlyStopping( patience=5, restore_best_weights=True, verbose=1),\n",
        "         tf.keras.callbacks.TensorBoard(log_dir=\"logs\", update_freq = 50 )]"
      ],
      "metadata": {
        "id": "ES2nM4Z2l0DC"
      },
      "execution_count": 12,
      "outputs": []
    },
    {
      "cell_type": "code",
      "source": [
        "model.compile(optimizer= opt,\n",
        "              loss = cross_entropy,\n",
        "              metrics = accuracy)\n",
        "\n",
        "history = model.fit(train_data, epochs=20, validation_data = val_data, callbacks=callb )"
      ],
      "metadata": {
        "colab": {
          "base_uri": "https://localhost:8080/"
        },
        "id": "kaxiMKeW00Xz",
        "outputId": "87ebff3c-c656-48bf-9fb0-5e79e32a1aa1"
      },
      "execution_count": null,
      "outputs": [
        {
          "output_type": "stream",
          "name": "stdout",
          "text": [
            "Epoch 1/20\n",
            "164/164 [==============================] - 36s 116ms/step - loss: 1.5735 - sparse_categorical_accuracy: 0.4171 - val_loss: 3.4197 - val_sparse_categorical_accuracy: 0.0920\n",
            "Epoch 2/20\n",
            "164/164 [==============================] - 17s 104ms/step - loss: 1.0820 - sparse_categorical_accuracy: 0.6112 - val_loss: 2.7146 - val_sparse_categorical_accuracy: 0.2600\n",
            "Epoch 3/20\n",
            "164/164 [==============================] - 17s 105ms/step - loss: 0.8947 - sparse_categorical_accuracy: 0.6845 - val_loss: 1.5791 - val_sparse_categorical_accuracy: 0.4450\n",
            "Epoch 4/20\n",
            "164/164 [==============================] - 18s 108ms/step - loss: 0.7712 - sparse_categorical_accuracy: 0.7287 - val_loss: 0.9359 - val_sparse_categorical_accuracy: 0.6510\n",
            "Epoch 5/20\n",
            "134/164 [=======================>......] - ETA: 3s - loss: 0.6993 - sparse_categorical_accuracy: 0.7554"
          ]
        }
      ]
    },
    {
      "cell_type": "code",
      "source": [],
      "metadata": {
        "id": "VW-aYF4T25I5"
      },
      "execution_count": null,
      "outputs": []
    },
    {
      "cell_type": "code",
      "source": [
        "test_loss, test_acc = model.evaluate(c, verbose=2)"
      ],
      "metadata": {
        "id": "2afoE8g117Yf"
      },
      "execution_count": null,
      "outputs": []
    },
    {
      "cell_type": "code",
      "source": [
        "\n",
        "fig, ax = plt.subplots(1, 2, figsize=(11, 3))\n",
        "fig.tight_layout(pad=4, w_pad = 6.5)\n",
        "\n",
        "ax[0].plot(history.history['loss'], label='train_loss', color = \"red\")\n",
        "ax[0].plot(history.history['val_loss'], label='val_loss', color = \"green\")\n",
        "\n",
        "ax[0].set_title('Loss History\\n', fontsize=14)\n",
        "ax[0].set_xlabel('\\n Epochs')\n",
        "ax[0].set_ylabel('Loss')\n",
        "#ax[0].set_xticks(list(range(1, num_epochs+1, 3)))\n",
        "ax[0].grid(linewidth=0.4)\n",
        "ax[0].legend(loc=\"best\", prop={'size': 8})\n",
        "\n",
        "\n",
        "ax[1].plot(history.history['sparse_categorical_accuracy'], label='train_accuracy', color = \"red\")\n",
        "ax[1].plot(history.history['val_sparse_categorical_accuracy'], label = 'val_accuracy', color = \"green\")\n",
        "ax[1].set_title('Classification Accuracy History\\n', fontsize=14)\n",
        "ax[1].set_xlabel('\\n Epochs')\n",
        "ax[1].set_ylabel('Classification accuracy')\n",
        "ax[1].grid(linewidth=0.4)\n",
        "\n",
        "#ax[1].set_xticks(list(range(1, num_epochs+1, 3)))\n",
        "ax[1].legend(loc =\"lower right\", prop={'size': 8})\n",
        "\n",
        "#plt.savefig(\"history_plot.png\")\n",
        "plt.show()"
      ],
      "metadata": {
        "id": "qv11feI84Y4n"
      },
      "execution_count": null,
      "outputs": []
    },
    {
      "cell_type": "code",
      "source": [
        "cifar10_class_names = {0: \"Plane\", 1: \"Car\", 2: \"Bird\", 3: \"Cat\", 4: \"Deer\",\n",
        "                       5: \"Dog\", 6: \"Frog\", 7: \"Horse\", 8: \"Boat\", 9: \"Truck\"}"
      ],
      "metadata": {
        "id": "HviibY5iLBut"
      },
      "execution_count": null,
      "outputs": []
    },
    {
      "cell_type": "code",
      "source": [
        "import numpy as np"
      ],
      "metadata": {
        "id": "G0-yLDpiX-Ax"
      },
      "execution_count": null,
      "outputs": []
    },
    {
      "cell_type": "code",
      "source": [
        "def show_stuff(index, model):\n",
        "\n",
        "  map = silency_map(test_images[index], model)\n",
        "\n",
        "  last = test_images[index].numpy()[:,:,1] + map\n",
        "\n",
        "  fig, ax = plt.subplots(1, 3, figsize=(5, 5))\n",
        "\n",
        "  ax[1].axis('off')\n",
        "\n",
        "  ax[0].imshow(test_images[index]);\n",
        "  ax[0].axis('off')\n",
        "\n",
        "  ax[1].imshow(map,alpha=0.8, cmap=\"jet\")\n",
        "\n",
        "  ax[2].imshow(last)\n",
        "  #fig.colorbar(i)\n",
        "\n",
        "  plt.show()"
      ],
      "metadata": {
        "id": "nDYFp5dnUTwU"
      },
      "execution_count": null,
      "outputs": []
    },
    {
      "cell_type": "code",
      "source": [
        "index = 0  # Indice del sample che vuoi estrarre\n",
        "c_list = list(c)  # Converti il dataset in una lista\n",
        "\n",
        "first_image, first_label = c_list[index]"
      ],
      "metadata": {
        "id": "9ZSwAkoKtT11"
      },
      "execution_count": null,
      "outputs": []
    },
    {
      "cell_type": "code",
      "source": [
        "X_train = list(map(lambda x: x[0], c))\n",
        "y_train = list(map(lambda x: x[1], c))"
      ],
      "metadata": {
        "id": "8KtGNr27r2Ai"
      },
      "execution_count": null,
      "outputs": []
    },
    {
      "cell_type": "code",
      "source": [
        "X_train[0][0].numpy().shape"
      ],
      "metadata": {
        "id": "kTNKl1fSzWSb"
      },
      "execution_count": null,
      "outputs": []
    },
    {
      "cell_type": "code",
      "source": [
        "def silency_map(image, model):\n",
        "\n",
        "  with tf.GradientTape() as tape:\n",
        "\n",
        "    tensor_input = tf.convert_to_tensor(np.expand_dims(image, axis=0))\n",
        "    print(tensor_input.shape)\n",
        "\n",
        "    tape.watch(tensor_input)\n",
        "\n",
        "    class_scores = model(tensor_input, training=False)\n",
        "    predicted_class = np.argmax(class_scores)\n",
        "    class_channel = class_scores[:,predicted_class]\n",
        "\n",
        "  grads = tape.gradient(class_channel, tensor_input)\n",
        "  dgrad_abs = tf.math.abs(grads)\n",
        "  dgrad_max_ = np.max(dgrad_abs, axis=3)[0]\n",
        "\n",
        "  ## normalize to range between 0 and 1\n",
        "  arr_min, arr_max  = np.min(dgrad_max_), np.max(dgrad_max_)\n",
        "  map = (dgrad_max_ - arr_min) / (arr_max - arr_min + 1e-18)\n",
        "\n",
        "  return map, grads"
      ],
      "metadata": {
        "id": "zcQTm4ZXty3u"
      },
      "execution_count": null,
      "outputs": []
    },
    {
      "cell_type": "code",
      "source": [
        "X_train[0][0].shape"
      ],
      "metadata": {
        "id": "IL0h6kk2zf2o"
      },
      "execution_count": null,
      "outputs": []
    },
    {
      "cell_type": "code",
      "source": [
        "map, grads = silency_map(X_train[0][0], model)"
      ],
      "metadata": {
        "id": "OuTa3GYTrRZ3"
      },
      "execution_count": null,
      "outputs": []
    },
    {
      "cell_type": "code",
      "source": [
        "fig, axes = plt.subplots(1,2,figsize=(14,5))\n",
        "\n",
        "axes[0].imshow(test_images[2])\n",
        "i = axes[1].imshow(a,cmap=\"jet\",alpha=0.8)\n",
        "fig.colorbar(i)\n"
      ],
      "metadata": {
        "id": "6jbHhhmRryzx"
      },
      "execution_count": null,
      "outputs": []
    },
    {
      "cell_type": "code",
      "source": [],
      "metadata": {
        "id": "HFRME6tYr0ty"
      },
      "execution_count": null,
      "outputs": []
    }
  ]
}