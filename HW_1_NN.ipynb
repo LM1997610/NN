{
  "nbformat": 4,
  "nbformat_minor": 0,
  "metadata": {
    "colab": {
      "provenance": [],
      "gpuType": "T4",
      "authorship_tag": "ABX9TyNSTgNlakt9XEAZ7Wk3LdkB",
      "include_colab_link": true
    },
    "kernelspec": {
      "name": "python3",
      "display_name": "Python 3"
    },
    "language_info": {
      "name": "python"
    },
    "accelerator": "GPU"
  },
  "cells": [
    {
      "cell_type": "markdown",
      "metadata": {
        "id": "view-in-github",
        "colab_type": "text"
      },
      "source": [
        "<a href=\"https://colab.research.google.com/github/LM1997610/NN/blob/main/HW_1_NN.ipynb\" target=\"_parent\"><img src=\"https://colab.research.google.com/assets/colab-badge.svg\" alt=\"Open In Colab\"/></a>"
      ]
    },
    {
      "cell_type": "code",
      "execution_count": 1,
      "metadata": {
        "id": "gI9jfZcczFTG"
      },
      "outputs": [],
      "source": [
        "import tensorflow as tf\n",
        "import tensorflow_datasets as tfds\n",
        "\n",
        "from tensorflow import keras\n",
        "\n",
        "import matplotlib.pyplot as plt"
      ]
    },
    {
      "cell_type": "code",
      "source": [
        "(train_images, train_labels), (test_images, test_labels) = keras.datasets.cifar10.load_data()"
      ],
      "metadata": {
        "id": "oNn1P4hRzw7t"
      },
      "execution_count": 2,
      "outputs": []
    },
    {
      "cell_type": "code",
      "source": [
        "train_images = tf.cast(train_images, tf.float32)/ 255.0\n",
        "test_images = tf.cast(test_images, tf.float32)/ 255.0"
      ],
      "metadata": {
        "id": "fJjcG0sSQk8k"
      },
      "execution_count": 3,
      "outputs": []
    },
    {
      "cell_type": "code",
      "source": [
        "def add_conv_block(model, n_filters):\n",
        "\n",
        "  model.add(keras.layers.Conv2D(filters = n_filters,                  # conv_layer\n",
        "                                kernel_size = (3, 3),\n",
        "                                padding = \"same\"))\n",
        "\n",
        "  model.add(keras.layers.BatchNormalization())                       # batch_normalization\n",
        "  model.add(keras.layers.MaxPooling2D(pool_size=(2, 2), strides=2))  # pool_layer\n",
        "  model.add(keras.layers.Activation('relu'))                         # activation\n",
        "  model.add(keras.layers.Dropout(0.3))                               # drop_out\n",
        "\n",
        "  return model"
      ],
      "metadata": {
        "id": "w9fx4JR1z7wW"
      },
      "execution_count": 4,
      "outputs": []
    },
    {
      "cell_type": "code",
      "source": [
        "hidden_layers =  [128, 512, 512, 512, 512]\n",
        "\n",
        "model = keras.Sequential()\n",
        "\n",
        "for i in hidden_layers:\n",
        "  model = add_conv_block(model, i)\n",
        "\n",
        "model.add(keras.layers.Flatten())\n",
        "model.add(keras.layers.Dense(512, activation='relu'))\n",
        "model.add(keras.layers.Dense(10))\n"
      ],
      "metadata": {
        "id": "A0XtHo4z0N16"
      },
      "execution_count": 5,
      "outputs": []
    },
    {
      "cell_type": "code",
      "source": [
        "model.build(input_shape=(256, 32,32,3))\n",
        "# model.summary()"
      ],
      "metadata": {
        "id": "EAgZO_mL0uSX"
      },
      "execution_count": 6,
      "outputs": []
    },
    {
      "cell_type": "code",
      "source": [
        "cross_entropy = keras.losses.SparseCategoricalCrossentropy(from_logits=True)\n",
        "accuracy = keras.metrics.SparseCategoricalAccuracy()\n",
        "opt = keras.optimizers.Adam(learning_rate = 2e-3, weight_decay= 0.001)"
      ],
      "metadata": {
        "id": "hQA8dKJZ7uuN"
      },
      "execution_count": 7,
      "outputs": []
    },
    {
      "cell_type": "code",
      "source": [
        "model.compile(optimizer= opt,\n",
        "              loss = cross_entropy,\n",
        "              metrics = [\"accuracy\"])\n",
        "\n",
        "history = model.fit(train_images, train_labels, epochs=15,\n",
        "                    validation_data=(test_images, test_labels), batch_size = 300 )"
      ],
      "metadata": {
        "colab": {
          "base_uri": "https://localhost:8080/"
        },
        "id": "kaxiMKeW00Xz",
        "outputId": "6282ba6a-18e9-4572-e1eb-9dbc951d645f"
      },
      "execution_count": null,
      "outputs": [
        {
          "output_type": "stream",
          "name": "stdout",
          "text": [
            "Epoch 1/15\n",
            "167/167 [==============================] - 49s 184ms/step - loss: 1.8106 - accuracy: 0.3520 - val_loss: 4.0191 - val_accuracy: 0.1192\n",
            "Epoch 2/15\n",
            "167/167 [==============================] - 24s 145ms/step - loss: 1.1659 - accuracy: 0.5752 - val_loss: 2.9931 - val_accuracy: 0.1727\n",
            "Epoch 3/15\n",
            "167/167 [==============================] - 24s 146ms/step - loss: 0.9056 - accuracy: 0.6773 - val_loss: 2.1762 - val_accuracy: 0.3826\n",
            "Epoch 4/15\n",
            "167/167 [==============================] - 25s 148ms/step - loss: 0.7697 - accuracy: 0.7282 - val_loss: 1.5589 - val_accuracy: 0.5454\n",
            "Epoch 5/15\n",
            "167/167 [==============================] - 24s 146ms/step - loss: 0.6725 - accuracy: 0.7651 - val_loss: 1.2893 - val_accuracy: 0.5980\n",
            "Epoch 6/15\n",
            "156/167 [===========================>..] - ETA: 1s - loss: 0.6009 - accuracy: 0.7900"
          ]
        }
      ]
    },
    {
      "cell_type": "code",
      "source": [
        "test_loss, test_acc = model.evaluate(test_images,  test_labels, verbose=2)"
      ],
      "metadata": {
        "id": "2afoE8g117Yf"
      },
      "execution_count": null,
      "outputs": []
    },
    {
      "cell_type": "code",
      "source": [
        "\n",
        "fig, ax = plt.subplots(1, 2, figsize=(11, 3))\n",
        "fig.tight_layout(pad=4, w_pad = 6.5)\n",
        "\n",
        "ax[0].plot(history.history['loss'], label='train_loss', color = \"red\")\n",
        "ax[0].plot(history.history['val_loss'], label='val_loss', color = \"green\")\n",
        "\n",
        "ax[0].set_title('Loss History\\n', fontsize=14)\n",
        "ax[0].set_xlabel('\\n Epochs')\n",
        "ax[0].set_ylabel('Loss')\n",
        "#ax[0].set_xticks(list(range(1, num_epochs+1, 3)))\n",
        "ax[0].grid(linewidth=0.4)\n",
        "ax[0].legend(loc=\"best\", prop={'size': 8})\n",
        "\n",
        "\n",
        "ax[1].plot(history.history['sparse_categorical_accuracy'], label='train_accuracy', color = \"red\")\n",
        "ax[1].plot(history.history['val_sparse_categorical_accuracy'], label = 'val_accuracy', color = \"green\")\n",
        "ax[1].set_title('Classification Accuracy History\\n', fontsize=14)\n",
        "ax[1].set_xlabel('\\n Epochs')\n",
        "ax[1].set_ylabel('Classification accuracy')\n",
        "ax[1].grid(linewidth=0.4)\n",
        "\n",
        "#ax[1].set_xticks(list(range(1, num_epochs+1, 3)))\n",
        "ax[1].legend(loc =\"lower right\", prop={'size': 8})\n",
        "\n",
        "#plt.savefig(\"history_plot.png\")\n",
        "plt.show()"
      ],
      "metadata": {
        "id": "qv11feI84Y4n"
      },
      "execution_count": null,
      "outputs": []
    },
    {
      "cell_type": "code",
      "source": [
        "cifar10_class_names = {0: \"Plane\", 1: \"Car\", 2: \"Bird\", 3: \"Cat\", 4: \"Deer\",\n",
        "                       5: \"Dog\", 6: \"Frog\", 7: \"Horse\", 8: \"Boat\", 9: \"Truck\"}"
      ],
      "metadata": {
        "id": "HviibY5iLBut"
      },
      "execution_count": null,
      "outputs": []
    },
    {
      "cell_type": "code",
      "source": [
        "import numpy as np"
      ],
      "metadata": {
        "id": "G0-yLDpiX-Ax"
      },
      "execution_count": null,
      "outputs": []
    },
    {
      "cell_type": "code",
      "source": [
        "def show_stuff(index):\n",
        "\n",
        "  with tf.GradientTape() as tape:\n",
        "\n",
        "    tensor_input = tf.convert_to_tensor(np.expand_dims(test_images[index], axis=0))\n",
        "    tape.watch(tensor_input)\n",
        "    pred = model(tensor_input)\n",
        "    pred_class = tf.argmax(pred[0])\n",
        "    class_channel = pred[:,pred_class]\n",
        "\n",
        "  print(f\" True Label: {test_labels[index][0]} - {cifar10_class_names[test_labels[index].item()]}\")\n",
        "  print(f\" Prediction: {pred_class.numpy()} - {cifar10_class_names[pred_class.numpy()]}\")\n",
        "\n",
        "  grads = tape.gradient(class_channel, tensor_input)\n",
        "  g = tf.squeeze(grads).numpy()\n",
        "  g = ((g - g.min()) * (1/(g.max() - g.min()) * 255)).astype('uint8')\n",
        "\n",
        "  fig, ax = plt.subplots(1, 2, figsize=(5, 5))\n",
        "\n",
        "  ax[0].imshow(g);\n",
        "  ax[0].axis('off')\n",
        "\n",
        "  ax[1].imshow(test_images[index]);\n",
        "  ax[1].axis('off')\n",
        "\n",
        "  plt.show()\n"
      ],
      "metadata": {
        "id": "nDYFp5dnUTwU"
      },
      "execution_count": null,
      "outputs": []
    },
    {
      "cell_type": "code",
      "source": [
        "show_stuff(14)"
      ],
      "metadata": {
        "id": "o7eDzpvHUbUA"
      },
      "execution_count": null,
      "outputs": []
    },
    {
      "cell_type": "code",
      "source": [
        "print(f\" True Label: {cifar10_class_names[test_labels[2].item()]} \\n\")\n",
        "\n",
        "fig = plt.figure(figsize=(2.5, 2.5))\n",
        "plt.imshow(test_images[2]);\n",
        "plt.gca().axis('off')\n",
        "plt.show()"
      ],
      "metadata": {
        "id": "fFrWcqiGM2VZ"
      },
      "execution_count": null,
      "outputs": []
    },
    {
      "cell_type": "code",
      "source": [
        "import numpy as np"
      ],
      "metadata": {
        "id": "h8Aj8jwqOPuK"
      },
      "execution_count": null,
      "outputs": []
    },
    {
      "cell_type": "code",
      "source": [
        "model.layers[-1].activation = None"
      ],
      "metadata": {
        "id": "5zGweqDEQCeN"
      },
      "execution_count": null,
      "outputs": []
    },
    {
      "cell_type": "code",
      "source": [
        "with tf.GradientTape() as tape:\n",
        "\n",
        "  tensor_input = tf.convert_to_tensor(np.expand_dims(test_images[2], axis=0))\n",
        "  tape.watch(tensor_input)\n",
        "  pred = model(tensor_input)\n",
        "  pred_class = tf.argmax(pred[0])\n",
        "  class_channel = pred[:,pred_class]\n",
        ""
      ],
      "metadata": {
        "id": "Dvj-2-m9NwRE"
      },
      "execution_count": null,
      "outputs": []
    },
    {
      "cell_type": "code",
      "source": [
        "grads = tape.gradient(class_channel, tensor_input)"
      ],
      "metadata": {
        "id": "rD9wMrC9NROR"
      },
      "execution_count": null,
      "outputs": []
    },
    {
      "cell_type": "code",
      "source": [
        "fig = plt.figure(figsize=(2.5, 2.5))\n",
        "plt.imshow(this_img);\n",
        "plt.gca().axis('off')\n",
        "plt.show()"
      ],
      "metadata": {
        "id": "Z4cksHy3Qa86"
      },
      "execution_count": null,
      "outputs": []
    },
    {
      "cell_type": "code",
      "source": [
        "print(f\" True Label: {cifar10_class_names[test_labels[2].item()]} \\n\")\n",
        "\n",
        "fig = plt.figure(figsize=(2.5, 2.5))\n",
        "plt.imshow(test_images[2]);\n",
        "plt.gca().axis('off')\n",
        "plt.show()"
      ],
      "metadata": {
        "id": "4m5OAWJ3SNPX"
      },
      "execution_count": null,
      "outputs": []
    },
    {
      "cell_type": "code",
      "source": [
        "g = tf.squeeze(grads).numpy()\n",
        "g = ((g - g.min()) * (1/(g.max() - g.min()) * 255)).astype('uint8')"
      ],
      "metadata": {
        "id": "CrKNN-jqSWW4"
      },
      "execution_count": null,
      "outputs": []
    },
    {
      "cell_type": "code",
      "source": [
        "h = tf.maximum(g,0) / tf.math.reduce_max(g)\n",
        "h = h.numpy()"
      ],
      "metadata": {
        "id": "r-HpiVoRTBdh"
      },
      "execution_count": null,
      "outputs": []
    },
    {
      "cell_type": "code",
      "source": [
        "plt.matshow(h)\n",
        "plt.show()"
      ],
      "metadata": {
        "id": "o_FaVeGvTTVE"
      },
      "execution_count": null,
      "outputs": []
    },
    {
      "cell_type": "code",
      "source": [],
      "metadata": {
        "id": "l-goO96xTYwb"
      },
      "execution_count": null,
      "outputs": []
    }
  ]
}