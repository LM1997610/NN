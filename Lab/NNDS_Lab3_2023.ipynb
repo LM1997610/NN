{
  "nbformat": 4,
  "nbformat_minor": 0,
  "metadata": {
    "colab": {
      "provenance": [],
      "gpuType": "T4"
    },
    "kernelspec": {
      "name": "python3",
      "display_name": "Python 3"
    },
    "language_info": {
      "name": "python"
    },
    "accelerator": "GPU",
    "widgets": {
      "application/vnd.jupyter.widget-state+json": {
        "38adc6f3c29447b89ebe4bb1e324fd25": {
          "model_module": "@jupyter-widgets/controls",
          "model_name": "HBoxModel",
          "model_module_version": "1.5.0",
          "state": {
            "_dom_classes": [],
            "_model_module": "@jupyter-widgets/controls",
            "_model_module_version": "1.5.0",
            "_model_name": "HBoxModel",
            "_view_count": null,
            "_view_module": "@jupyter-widgets/controls",
            "_view_module_version": "1.5.0",
            "_view_name": "HBoxView",
            "box_style": "",
            "children": [
              "IPY_MODEL_5be13eaa2ec44396944b8590eeda59ec",
              "IPY_MODEL_71a31430c9c9486297ece29a744d9201",
              "IPY_MODEL_0fde60ceaec94e4e8d64f3fdb852c408"
            ],
            "layout": "IPY_MODEL_edca32113ed94be18b363df31be297fb"
          }
        },
        "5be13eaa2ec44396944b8590eeda59ec": {
          "model_module": "@jupyter-widgets/controls",
          "model_name": "HTMLModel",
          "model_module_version": "1.5.0",
          "state": {
            "_dom_classes": [],
            "_model_module": "@jupyter-widgets/controls",
            "_model_module_version": "1.5.0",
            "_model_name": "HTMLModel",
            "_view_count": null,
            "_view_module": "@jupyter-widgets/controls",
            "_view_module_version": "1.5.0",
            "_view_name": "HTMLView",
            "description": "",
            "description_tooltip": null,
            "layout": "IPY_MODEL_16f2cc9283cf4125a6d3c0a907816ea4",
            "placeholder": "​",
            "style": "IPY_MODEL_7a5435c213ef493c96344bd47d206326",
            "value": "Dl Completed...: 100%"
          }
        },
        "71a31430c9c9486297ece29a744d9201": {
          "model_module": "@jupyter-widgets/controls",
          "model_name": "FloatProgressModel",
          "model_module_version": "1.5.0",
          "state": {
            "_dom_classes": [],
            "_model_module": "@jupyter-widgets/controls",
            "_model_module_version": "1.5.0",
            "_model_name": "FloatProgressModel",
            "_view_count": null,
            "_view_module": "@jupyter-widgets/controls",
            "_view_module_version": "1.5.0",
            "_view_name": "ProgressView",
            "bar_style": "success",
            "description": "",
            "description_tooltip": null,
            "layout": "IPY_MODEL_1c6a84bb3bf14c468bbbfa152a715ff6",
            "max": 1,
            "min": 0,
            "orientation": "horizontal",
            "style": "IPY_MODEL_b03e0ddf04d24d5d91849af382027aa8",
            "value": 1
          }
        },
        "0fde60ceaec94e4e8d64f3fdb852c408": {
          "model_module": "@jupyter-widgets/controls",
          "model_name": "HTMLModel",
          "model_module_version": "1.5.0",
          "state": {
            "_dom_classes": [],
            "_model_module": "@jupyter-widgets/controls",
            "_model_module_version": "1.5.0",
            "_model_name": "HTMLModel",
            "_view_count": null,
            "_view_module": "@jupyter-widgets/controls",
            "_view_module_version": "1.5.0",
            "_view_name": "HTMLView",
            "description": "",
            "description_tooltip": null,
            "layout": "IPY_MODEL_e9ecbd12b91f49a798eb0859bfc42cde",
            "placeholder": "​",
            "style": "IPY_MODEL_0f118848e4cd4baa844d03c024f4bfb5",
            "value": " 2/2 [00:01&lt;00:00,  1.66 url/s]"
          }
        },
        "edca32113ed94be18b363df31be297fb": {
          "model_module": "@jupyter-widgets/base",
          "model_name": "LayoutModel",
          "model_module_version": "1.2.0",
          "state": {
            "_model_module": "@jupyter-widgets/base",
            "_model_module_version": "1.2.0",
            "_model_name": "LayoutModel",
            "_view_count": null,
            "_view_module": "@jupyter-widgets/base",
            "_view_module_version": "1.2.0",
            "_view_name": "LayoutView",
            "align_content": null,
            "align_items": null,
            "align_self": null,
            "border": null,
            "bottom": null,
            "display": null,
            "flex": null,
            "flex_flow": null,
            "grid_area": null,
            "grid_auto_columns": null,
            "grid_auto_flow": null,
            "grid_auto_rows": null,
            "grid_column": null,
            "grid_gap": null,
            "grid_row": null,
            "grid_template_areas": null,
            "grid_template_columns": null,
            "grid_template_rows": null,
            "height": null,
            "justify_content": null,
            "justify_items": null,
            "left": null,
            "margin": null,
            "max_height": null,
            "max_width": null,
            "min_height": null,
            "min_width": null,
            "object_fit": null,
            "object_position": null,
            "order": null,
            "overflow": null,
            "overflow_x": null,
            "overflow_y": null,
            "padding": null,
            "right": null,
            "top": null,
            "visibility": null,
            "width": null
          }
        },
        "16f2cc9283cf4125a6d3c0a907816ea4": {
          "model_module": "@jupyter-widgets/base",
          "model_name": "LayoutModel",
          "model_module_version": "1.2.0",
          "state": {
            "_model_module": "@jupyter-widgets/base",
            "_model_module_version": "1.2.0",
            "_model_name": "LayoutModel",
            "_view_count": null,
            "_view_module": "@jupyter-widgets/base",
            "_view_module_version": "1.2.0",
            "_view_name": "LayoutView",
            "align_content": null,
            "align_items": null,
            "align_self": null,
            "border": null,
            "bottom": null,
            "display": null,
            "flex": null,
            "flex_flow": null,
            "grid_area": null,
            "grid_auto_columns": null,
            "grid_auto_flow": null,
            "grid_auto_rows": null,
            "grid_column": null,
            "grid_gap": null,
            "grid_row": null,
            "grid_template_areas": null,
            "grid_template_columns": null,
            "grid_template_rows": null,
            "height": null,
            "justify_content": null,
            "justify_items": null,
            "left": null,
            "margin": null,
            "max_height": null,
            "max_width": null,
            "min_height": null,
            "min_width": null,
            "object_fit": null,
            "object_position": null,
            "order": null,
            "overflow": null,
            "overflow_x": null,
            "overflow_y": null,
            "padding": null,
            "right": null,
            "top": null,
            "visibility": null,
            "width": null
          }
        },
        "7a5435c213ef493c96344bd47d206326": {
          "model_module": "@jupyter-widgets/controls",
          "model_name": "DescriptionStyleModel",
          "model_module_version": "1.5.0",
          "state": {
            "_model_module": "@jupyter-widgets/controls",
            "_model_module_version": "1.5.0",
            "_model_name": "DescriptionStyleModel",
            "_view_count": null,
            "_view_module": "@jupyter-widgets/base",
            "_view_module_version": "1.2.0",
            "_view_name": "StyleView",
            "description_width": ""
          }
        },
        "1c6a84bb3bf14c468bbbfa152a715ff6": {
          "model_module": "@jupyter-widgets/base",
          "model_name": "LayoutModel",
          "model_module_version": "1.2.0",
          "state": {
            "_model_module": "@jupyter-widgets/base",
            "_model_module_version": "1.2.0",
            "_model_name": "LayoutModel",
            "_view_count": null,
            "_view_module": "@jupyter-widgets/base",
            "_view_module_version": "1.2.0",
            "_view_name": "LayoutView",
            "align_content": null,
            "align_items": null,
            "align_self": null,
            "border": null,
            "bottom": null,
            "display": null,
            "flex": null,
            "flex_flow": null,
            "grid_area": null,
            "grid_auto_columns": null,
            "grid_auto_flow": null,
            "grid_auto_rows": null,
            "grid_column": null,
            "grid_gap": null,
            "grid_row": null,
            "grid_template_areas": null,
            "grid_template_columns": null,
            "grid_template_rows": null,
            "height": null,
            "justify_content": null,
            "justify_items": null,
            "left": null,
            "margin": null,
            "max_height": null,
            "max_width": null,
            "min_height": null,
            "min_width": null,
            "object_fit": null,
            "object_position": null,
            "order": null,
            "overflow": null,
            "overflow_x": null,
            "overflow_y": null,
            "padding": null,
            "right": null,
            "top": null,
            "visibility": null,
            "width": "20px"
          }
        },
        "b03e0ddf04d24d5d91849af382027aa8": {
          "model_module": "@jupyter-widgets/controls",
          "model_name": "ProgressStyleModel",
          "model_module_version": "1.5.0",
          "state": {
            "_model_module": "@jupyter-widgets/controls",
            "_model_module_version": "1.5.0",
            "_model_name": "ProgressStyleModel",
            "_view_count": null,
            "_view_module": "@jupyter-widgets/base",
            "_view_module_version": "1.2.0",
            "_view_name": "StyleView",
            "bar_color": null,
            "description_width": ""
          }
        },
        "e9ecbd12b91f49a798eb0859bfc42cde": {
          "model_module": "@jupyter-widgets/base",
          "model_name": "LayoutModel",
          "model_module_version": "1.2.0",
          "state": {
            "_model_module": "@jupyter-widgets/base",
            "_model_module_version": "1.2.0",
            "_model_name": "LayoutModel",
            "_view_count": null,
            "_view_module": "@jupyter-widgets/base",
            "_view_module_version": "1.2.0",
            "_view_name": "LayoutView",
            "align_content": null,
            "align_items": null,
            "align_self": null,
            "border": null,
            "bottom": null,
            "display": null,
            "flex": null,
            "flex_flow": null,
            "grid_area": null,
            "grid_auto_columns": null,
            "grid_auto_flow": null,
            "grid_auto_rows": null,
            "grid_column": null,
            "grid_gap": null,
            "grid_row": null,
            "grid_template_areas": null,
            "grid_template_columns": null,
            "grid_template_rows": null,
            "height": null,
            "justify_content": null,
            "justify_items": null,
            "left": null,
            "margin": null,
            "max_height": null,
            "max_width": null,
            "min_height": null,
            "min_width": null,
            "object_fit": null,
            "object_position": null,
            "order": null,
            "overflow": null,
            "overflow_x": null,
            "overflow_y": null,
            "padding": null,
            "right": null,
            "top": null,
            "visibility": null,
            "width": null
          }
        },
        "0f118848e4cd4baa844d03c024f4bfb5": {
          "model_module": "@jupyter-widgets/controls",
          "model_name": "DescriptionStyleModel",
          "model_module_version": "1.5.0",
          "state": {
            "_model_module": "@jupyter-widgets/controls",
            "_model_module_version": "1.5.0",
            "_model_name": "DescriptionStyleModel",
            "_view_count": null,
            "_view_module": "@jupyter-widgets/base",
            "_view_module_version": "1.2.0",
            "_view_name": "StyleView",
            "description_width": ""
          }
        },
        "30e554de25004118819dc6d98d2708d2": {
          "model_module": "@jupyter-widgets/controls",
          "model_name": "HBoxModel",
          "model_module_version": "1.5.0",
          "state": {
            "_dom_classes": [],
            "_model_module": "@jupyter-widgets/controls",
            "_model_module_version": "1.5.0",
            "_model_name": "HBoxModel",
            "_view_count": null,
            "_view_module": "@jupyter-widgets/controls",
            "_view_module_version": "1.5.0",
            "_view_name": "HBoxView",
            "box_style": "",
            "children": [
              "IPY_MODEL_4eaac44abf364db2a7339fe79218b353",
              "IPY_MODEL_00fd352469d84f1dada1d066a27f2a1d",
              "IPY_MODEL_46c7c5c2e9bb4382bffbacf6e02914b8"
            ],
            "layout": "IPY_MODEL_42a4923c10f843caaf45ddfd68b8c73e"
          }
        },
        "4eaac44abf364db2a7339fe79218b353": {
          "model_module": "@jupyter-widgets/controls",
          "model_name": "HTMLModel",
          "model_module_version": "1.5.0",
          "state": {
            "_dom_classes": [],
            "_model_module": "@jupyter-widgets/controls",
            "_model_module_version": "1.5.0",
            "_model_name": "HTMLModel",
            "_view_count": null,
            "_view_module": "@jupyter-widgets/controls",
            "_view_module_version": "1.5.0",
            "_view_name": "HTMLView",
            "description": "",
            "description_tooltip": null,
            "layout": "IPY_MODEL_2555fe9b8af245c48d990ff3d8d55efd",
            "placeholder": "​",
            "style": "IPY_MODEL_fba23e0d4dea4e30892e5468236fb532",
            "value": "Dl Size...: "
          }
        },
        "00fd352469d84f1dada1d066a27f2a1d": {
          "model_module": "@jupyter-widgets/controls",
          "model_name": "FloatProgressModel",
          "model_module_version": "1.5.0",
          "state": {
            "_dom_classes": [],
            "_model_module": "@jupyter-widgets/controls",
            "_model_module_version": "1.5.0",
            "_model_name": "FloatProgressModel",
            "_view_count": null,
            "_view_module": "@jupyter-widgets/controls",
            "_view_module_version": "1.5.0",
            "_view_name": "ProgressView",
            "bar_style": "success",
            "description": "",
            "description_tooltip": null,
            "layout": "IPY_MODEL_dfeb08e2f3704c1c9318d2fd959b96bf",
            "max": 1,
            "min": 0,
            "orientation": "horizontal",
            "style": "IPY_MODEL_12371f1fdbab44e188a3d8b0e243455b",
            "value": 0
          }
        },
        "46c7c5c2e9bb4382bffbacf6e02914b8": {
          "model_module": "@jupyter-widgets/controls",
          "model_name": "HTMLModel",
          "model_module_version": "1.5.0",
          "state": {
            "_dom_classes": [],
            "_model_module": "@jupyter-widgets/controls",
            "_model_module_version": "1.5.0",
            "_model_name": "HTMLModel",
            "_view_count": null,
            "_view_module": "@jupyter-widgets/controls",
            "_view_module_version": "1.5.0",
            "_view_name": "HTMLView",
            "description": "",
            "description_tooltip": null,
            "layout": "IPY_MODEL_389aab71ef7d403ca29c6cdb0e97b5ea",
            "placeholder": "​",
            "style": "IPY_MODEL_e2c40b5f66c24dd5aa3a70431cdc998d",
            "value": " 0/0 [00:01&lt;?, ? MiB/s]"
          }
        },
        "42a4923c10f843caaf45ddfd68b8c73e": {
          "model_module": "@jupyter-widgets/base",
          "model_name": "LayoutModel",
          "model_module_version": "1.2.0",
          "state": {
            "_model_module": "@jupyter-widgets/base",
            "_model_module_version": "1.2.0",
            "_model_name": "LayoutModel",
            "_view_count": null,
            "_view_module": "@jupyter-widgets/base",
            "_view_module_version": "1.2.0",
            "_view_name": "LayoutView",
            "align_content": null,
            "align_items": null,
            "align_self": null,
            "border": null,
            "bottom": null,
            "display": null,
            "flex": null,
            "flex_flow": null,
            "grid_area": null,
            "grid_auto_columns": null,
            "grid_auto_flow": null,
            "grid_auto_rows": null,
            "grid_column": null,
            "grid_gap": null,
            "grid_row": null,
            "grid_template_areas": null,
            "grid_template_columns": null,
            "grid_template_rows": null,
            "height": null,
            "justify_content": null,
            "justify_items": null,
            "left": null,
            "margin": null,
            "max_height": null,
            "max_width": null,
            "min_height": null,
            "min_width": null,
            "object_fit": null,
            "object_position": null,
            "order": null,
            "overflow": null,
            "overflow_x": null,
            "overflow_y": null,
            "padding": null,
            "right": null,
            "top": null,
            "visibility": null,
            "width": null
          }
        },
        "2555fe9b8af245c48d990ff3d8d55efd": {
          "model_module": "@jupyter-widgets/base",
          "model_name": "LayoutModel",
          "model_module_version": "1.2.0",
          "state": {
            "_model_module": "@jupyter-widgets/base",
            "_model_module_version": "1.2.0",
            "_model_name": "LayoutModel",
            "_view_count": null,
            "_view_module": "@jupyter-widgets/base",
            "_view_module_version": "1.2.0",
            "_view_name": "LayoutView",
            "align_content": null,
            "align_items": null,
            "align_self": null,
            "border": null,
            "bottom": null,
            "display": null,
            "flex": null,
            "flex_flow": null,
            "grid_area": null,
            "grid_auto_columns": null,
            "grid_auto_flow": null,
            "grid_auto_rows": null,
            "grid_column": null,
            "grid_gap": null,
            "grid_row": null,
            "grid_template_areas": null,
            "grid_template_columns": null,
            "grid_template_rows": null,
            "height": null,
            "justify_content": null,
            "justify_items": null,
            "left": null,
            "margin": null,
            "max_height": null,
            "max_width": null,
            "min_height": null,
            "min_width": null,
            "object_fit": null,
            "object_position": null,
            "order": null,
            "overflow": null,
            "overflow_x": null,
            "overflow_y": null,
            "padding": null,
            "right": null,
            "top": null,
            "visibility": null,
            "width": null
          }
        },
        "fba23e0d4dea4e30892e5468236fb532": {
          "model_module": "@jupyter-widgets/controls",
          "model_name": "DescriptionStyleModel",
          "model_module_version": "1.5.0",
          "state": {
            "_model_module": "@jupyter-widgets/controls",
            "_model_module_version": "1.5.0",
            "_model_name": "DescriptionStyleModel",
            "_view_count": null,
            "_view_module": "@jupyter-widgets/base",
            "_view_module_version": "1.2.0",
            "_view_name": "StyleView",
            "description_width": ""
          }
        },
        "dfeb08e2f3704c1c9318d2fd959b96bf": {
          "model_module": "@jupyter-widgets/base",
          "model_name": "LayoutModel",
          "model_module_version": "1.2.0",
          "state": {
            "_model_module": "@jupyter-widgets/base",
            "_model_module_version": "1.2.0",
            "_model_name": "LayoutModel",
            "_view_count": null,
            "_view_module": "@jupyter-widgets/base",
            "_view_module_version": "1.2.0",
            "_view_name": "LayoutView",
            "align_content": null,
            "align_items": null,
            "align_self": null,
            "border": null,
            "bottom": null,
            "display": null,
            "flex": null,
            "flex_flow": null,
            "grid_area": null,
            "grid_auto_columns": null,
            "grid_auto_flow": null,
            "grid_auto_rows": null,
            "grid_column": null,
            "grid_gap": null,
            "grid_row": null,
            "grid_template_areas": null,
            "grid_template_columns": null,
            "grid_template_rows": null,
            "height": null,
            "justify_content": null,
            "justify_items": null,
            "left": null,
            "margin": null,
            "max_height": null,
            "max_width": null,
            "min_height": null,
            "min_width": null,
            "object_fit": null,
            "object_position": null,
            "order": null,
            "overflow": null,
            "overflow_x": null,
            "overflow_y": null,
            "padding": null,
            "right": null,
            "top": null,
            "visibility": null,
            "width": "20px"
          }
        },
        "12371f1fdbab44e188a3d8b0e243455b": {
          "model_module": "@jupyter-widgets/controls",
          "model_name": "ProgressStyleModel",
          "model_module_version": "1.5.0",
          "state": {
            "_model_module": "@jupyter-widgets/controls",
            "_model_module_version": "1.5.0",
            "_model_name": "ProgressStyleModel",
            "_view_count": null,
            "_view_module": "@jupyter-widgets/base",
            "_view_module_version": "1.2.0",
            "_view_name": "StyleView",
            "bar_color": null,
            "description_width": ""
          }
        },
        "389aab71ef7d403ca29c6cdb0e97b5ea": {
          "model_module": "@jupyter-widgets/base",
          "model_name": "LayoutModel",
          "model_module_version": "1.2.0",
          "state": {
            "_model_module": "@jupyter-widgets/base",
            "_model_module_version": "1.2.0",
            "_model_name": "LayoutModel",
            "_view_count": null,
            "_view_module": "@jupyter-widgets/base",
            "_view_module_version": "1.2.0",
            "_view_name": "LayoutView",
            "align_content": null,
            "align_items": null,
            "align_self": null,
            "border": null,
            "bottom": null,
            "display": null,
            "flex": null,
            "flex_flow": null,
            "grid_area": null,
            "grid_auto_columns": null,
            "grid_auto_flow": null,
            "grid_auto_rows": null,
            "grid_column": null,
            "grid_gap": null,
            "grid_row": null,
            "grid_template_areas": null,
            "grid_template_columns": null,
            "grid_template_rows": null,
            "height": null,
            "justify_content": null,
            "justify_items": null,
            "left": null,
            "margin": null,
            "max_height": null,
            "max_width": null,
            "min_height": null,
            "min_width": null,
            "object_fit": null,
            "object_position": null,
            "order": null,
            "overflow": null,
            "overflow_x": null,
            "overflow_y": null,
            "padding": null,
            "right": null,
            "top": null,
            "visibility": null,
            "width": null
          }
        },
        "e2c40b5f66c24dd5aa3a70431cdc998d": {
          "model_module": "@jupyter-widgets/controls",
          "model_name": "DescriptionStyleModel",
          "model_module_version": "1.5.0",
          "state": {
            "_model_module": "@jupyter-widgets/controls",
            "_model_module_version": "1.5.0",
            "_model_name": "DescriptionStyleModel",
            "_view_count": null,
            "_view_module": "@jupyter-widgets/base",
            "_view_module_version": "1.2.0",
            "_view_name": "StyleView",
            "description_width": ""
          }
        },
        "707f2332602f43cfb16167d324d11705": {
          "model_module": "@jupyter-widgets/controls",
          "model_name": "HBoxModel",
          "model_module_version": "1.5.0",
          "state": {
            "_dom_classes": [],
            "_model_module": "@jupyter-widgets/controls",
            "_model_module_version": "1.5.0",
            "_model_name": "HBoxModel",
            "_view_count": null,
            "_view_module": "@jupyter-widgets/controls",
            "_view_module_version": "1.5.0",
            "_view_name": "HBoxView",
            "box_style": "",
            "children": [
              "IPY_MODEL_f3a903e9df8c4e3a858b4d331fe04905",
              "IPY_MODEL_6af64334cb8040a18e7cce1f28acbf1a",
              "IPY_MODEL_3aa768be3dc548a4a5a89f9e9ff7d1a9"
            ],
            "layout": "IPY_MODEL_9fc1fd8bdd5e43e1bb52aa64a1b71c0a"
          }
        },
        "f3a903e9df8c4e3a858b4d331fe04905": {
          "model_module": "@jupyter-widgets/controls",
          "model_name": "HTMLModel",
          "model_module_version": "1.5.0",
          "state": {
            "_dom_classes": [],
            "_model_module": "@jupyter-widgets/controls",
            "_model_module_version": "1.5.0",
            "_model_name": "HTMLModel",
            "_view_count": null,
            "_view_module": "@jupyter-widgets/controls",
            "_view_module_version": "1.5.0",
            "_view_name": "HTMLView",
            "description": "",
            "description_tooltip": null,
            "layout": "IPY_MODEL_6d2e04c8680b4613b1b5f352e8fc4f02",
            "placeholder": "​",
            "style": "IPY_MODEL_75e8b1dac7af405fa90a9e7808ff1bc5",
            "value": "Extraction completed...: "
          }
        },
        "6af64334cb8040a18e7cce1f28acbf1a": {
          "model_module": "@jupyter-widgets/controls",
          "model_name": "FloatProgressModel",
          "model_module_version": "1.5.0",
          "state": {
            "_dom_classes": [],
            "_model_module": "@jupyter-widgets/controls",
            "_model_module_version": "1.5.0",
            "_model_name": "FloatProgressModel",
            "_view_count": null,
            "_view_module": "@jupyter-widgets/controls",
            "_view_module_version": "1.5.0",
            "_view_name": "ProgressView",
            "bar_style": "success",
            "description": "",
            "description_tooltip": null,
            "layout": "IPY_MODEL_7e8e101e20ab451f88893ad788baa770",
            "max": 1,
            "min": 0,
            "orientation": "horizontal",
            "style": "IPY_MODEL_6b5eefe3b2994fda850e3a71c226ab33",
            "value": 0
          }
        },
        "3aa768be3dc548a4a5a89f9e9ff7d1a9": {
          "model_module": "@jupyter-widgets/controls",
          "model_name": "HTMLModel",
          "model_module_version": "1.5.0",
          "state": {
            "_dom_classes": [],
            "_model_module": "@jupyter-widgets/controls",
            "_model_module_version": "1.5.0",
            "_model_name": "HTMLModel",
            "_view_count": null,
            "_view_module": "@jupyter-widgets/controls",
            "_view_module_version": "1.5.0",
            "_view_name": "HTMLView",
            "description": "",
            "description_tooltip": null,
            "layout": "IPY_MODEL_308a8e2918f24a5483cfa2067f95858c",
            "placeholder": "​",
            "style": "IPY_MODEL_46bd2f3f39cd4952b9f3314e75b34c42",
            "value": " 0/0 [00:01&lt;?, ? file/s]"
          }
        },
        "9fc1fd8bdd5e43e1bb52aa64a1b71c0a": {
          "model_module": "@jupyter-widgets/base",
          "model_name": "LayoutModel",
          "model_module_version": "1.2.0",
          "state": {
            "_model_module": "@jupyter-widgets/base",
            "_model_module_version": "1.2.0",
            "_model_name": "LayoutModel",
            "_view_count": null,
            "_view_module": "@jupyter-widgets/base",
            "_view_module_version": "1.2.0",
            "_view_name": "LayoutView",
            "align_content": null,
            "align_items": null,
            "align_self": null,
            "border": null,
            "bottom": null,
            "display": null,
            "flex": null,
            "flex_flow": null,
            "grid_area": null,
            "grid_auto_columns": null,
            "grid_auto_flow": null,
            "grid_auto_rows": null,
            "grid_column": null,
            "grid_gap": null,
            "grid_row": null,
            "grid_template_areas": null,
            "grid_template_columns": null,
            "grid_template_rows": null,
            "height": null,
            "justify_content": null,
            "justify_items": null,
            "left": null,
            "margin": null,
            "max_height": null,
            "max_width": null,
            "min_height": null,
            "min_width": null,
            "object_fit": null,
            "object_position": null,
            "order": null,
            "overflow": null,
            "overflow_x": null,
            "overflow_y": null,
            "padding": null,
            "right": null,
            "top": null,
            "visibility": null,
            "width": null
          }
        },
        "6d2e04c8680b4613b1b5f352e8fc4f02": {
          "model_module": "@jupyter-widgets/base",
          "model_name": "LayoutModel",
          "model_module_version": "1.2.0",
          "state": {
            "_model_module": "@jupyter-widgets/base",
            "_model_module_version": "1.2.0",
            "_model_name": "LayoutModel",
            "_view_count": null,
            "_view_module": "@jupyter-widgets/base",
            "_view_module_version": "1.2.0",
            "_view_name": "LayoutView",
            "align_content": null,
            "align_items": null,
            "align_self": null,
            "border": null,
            "bottom": null,
            "display": null,
            "flex": null,
            "flex_flow": null,
            "grid_area": null,
            "grid_auto_columns": null,
            "grid_auto_flow": null,
            "grid_auto_rows": null,
            "grid_column": null,
            "grid_gap": null,
            "grid_row": null,
            "grid_template_areas": null,
            "grid_template_columns": null,
            "grid_template_rows": null,
            "height": null,
            "justify_content": null,
            "justify_items": null,
            "left": null,
            "margin": null,
            "max_height": null,
            "max_width": null,
            "min_height": null,
            "min_width": null,
            "object_fit": null,
            "object_position": null,
            "order": null,
            "overflow": null,
            "overflow_x": null,
            "overflow_y": null,
            "padding": null,
            "right": null,
            "top": null,
            "visibility": null,
            "width": null
          }
        },
        "75e8b1dac7af405fa90a9e7808ff1bc5": {
          "model_module": "@jupyter-widgets/controls",
          "model_name": "DescriptionStyleModel",
          "model_module_version": "1.5.0",
          "state": {
            "_model_module": "@jupyter-widgets/controls",
            "_model_module_version": "1.5.0",
            "_model_name": "DescriptionStyleModel",
            "_view_count": null,
            "_view_module": "@jupyter-widgets/base",
            "_view_module_version": "1.2.0",
            "_view_name": "StyleView",
            "description_width": ""
          }
        },
        "7e8e101e20ab451f88893ad788baa770": {
          "model_module": "@jupyter-widgets/base",
          "model_name": "LayoutModel",
          "model_module_version": "1.2.0",
          "state": {
            "_model_module": "@jupyter-widgets/base",
            "_model_module_version": "1.2.0",
            "_model_name": "LayoutModel",
            "_view_count": null,
            "_view_module": "@jupyter-widgets/base",
            "_view_module_version": "1.2.0",
            "_view_name": "LayoutView",
            "align_content": null,
            "align_items": null,
            "align_self": null,
            "border": null,
            "bottom": null,
            "display": null,
            "flex": null,
            "flex_flow": null,
            "grid_area": null,
            "grid_auto_columns": null,
            "grid_auto_flow": null,
            "grid_auto_rows": null,
            "grid_column": null,
            "grid_gap": null,
            "grid_row": null,
            "grid_template_areas": null,
            "grid_template_columns": null,
            "grid_template_rows": null,
            "height": null,
            "justify_content": null,
            "justify_items": null,
            "left": null,
            "margin": null,
            "max_height": null,
            "max_width": null,
            "min_height": null,
            "min_width": null,
            "object_fit": null,
            "object_position": null,
            "order": null,
            "overflow": null,
            "overflow_x": null,
            "overflow_y": null,
            "padding": null,
            "right": null,
            "top": null,
            "visibility": null,
            "width": "20px"
          }
        },
        "6b5eefe3b2994fda850e3a71c226ab33": {
          "model_module": "@jupyter-widgets/controls",
          "model_name": "ProgressStyleModel",
          "model_module_version": "1.5.0",
          "state": {
            "_model_module": "@jupyter-widgets/controls",
            "_model_module_version": "1.5.0",
            "_model_name": "ProgressStyleModel",
            "_view_count": null,
            "_view_module": "@jupyter-widgets/base",
            "_view_module_version": "1.2.0",
            "_view_name": "StyleView",
            "bar_color": null,
            "description_width": ""
          }
        },
        "308a8e2918f24a5483cfa2067f95858c": {
          "model_module": "@jupyter-widgets/base",
          "model_name": "LayoutModel",
          "model_module_version": "1.2.0",
          "state": {
            "_model_module": "@jupyter-widgets/base",
            "_model_module_version": "1.2.0",
            "_model_name": "LayoutModel",
            "_view_count": null,
            "_view_module": "@jupyter-widgets/base",
            "_view_module_version": "1.2.0",
            "_view_name": "LayoutView",
            "align_content": null,
            "align_items": null,
            "align_self": null,
            "border": null,
            "bottom": null,
            "display": null,
            "flex": null,
            "flex_flow": null,
            "grid_area": null,
            "grid_auto_columns": null,
            "grid_auto_flow": null,
            "grid_auto_rows": null,
            "grid_column": null,
            "grid_gap": null,
            "grid_row": null,
            "grid_template_areas": null,
            "grid_template_columns": null,
            "grid_template_rows": null,
            "height": null,
            "justify_content": null,
            "justify_items": null,
            "left": null,
            "margin": null,
            "max_height": null,
            "max_width": null,
            "min_height": null,
            "min_width": null,
            "object_fit": null,
            "object_position": null,
            "order": null,
            "overflow": null,
            "overflow_x": null,
            "overflow_y": null,
            "padding": null,
            "right": null,
            "top": null,
            "visibility": null,
            "width": null
          }
        },
        "46bd2f3f39cd4952b9f3314e75b34c42": {
          "model_module": "@jupyter-widgets/controls",
          "model_name": "DescriptionStyleModel",
          "model_module_version": "1.5.0",
          "state": {
            "_model_module": "@jupyter-widgets/controls",
            "_model_module_version": "1.5.0",
            "_model_name": "DescriptionStyleModel",
            "_view_count": null,
            "_view_module": "@jupyter-widgets/base",
            "_view_module_version": "1.2.0",
            "_view_name": "StyleView",
            "description_width": ""
          }
        },
        "eab26f966af4435290bdb365643422da": {
          "model_module": "@jupyter-widgets/controls",
          "model_name": "HBoxModel",
          "model_module_version": "1.5.0",
          "state": {
            "_dom_classes": [],
            "_model_module": "@jupyter-widgets/controls",
            "_model_module_version": "1.5.0",
            "_model_name": "HBoxModel",
            "_view_count": null,
            "_view_module": "@jupyter-widgets/controls",
            "_view_module_version": "1.5.0",
            "_view_name": "HBoxView",
            "box_style": "",
            "children": [
              "IPY_MODEL_649e046e155a4853a21fe0cedc8975f9",
              "IPY_MODEL_f17ff6986bc64f40b155140b356c8d60",
              "IPY_MODEL_3da2e46c507440788bc410ce03463e96"
            ],
            "layout": "IPY_MODEL_c368167a10244b36ae157619b7d66b44"
          }
        },
        "649e046e155a4853a21fe0cedc8975f9": {
          "model_module": "@jupyter-widgets/controls",
          "model_name": "HTMLModel",
          "model_module_version": "1.5.0",
          "state": {
            "_dom_classes": [],
            "_model_module": "@jupyter-widgets/controls",
            "_model_module_version": "1.5.0",
            "_model_name": "HTMLModel",
            "_view_count": null,
            "_view_module": "@jupyter-widgets/controls",
            "_view_module_version": "1.5.0",
            "_view_name": "HTMLView",
            "description": "",
            "description_tooltip": null,
            "layout": "IPY_MODEL_23469620b678455e87c7dd71a3272096",
            "placeholder": "​",
            "style": "IPY_MODEL_9ed816ee113e4f669b0c342f3e71a8ca",
            "value": "Generating splits...: 100%"
          }
        },
        "f17ff6986bc64f40b155140b356c8d60": {
          "model_module": "@jupyter-widgets/controls",
          "model_name": "FloatProgressModel",
          "model_module_version": "1.5.0",
          "state": {
            "_dom_classes": [],
            "_model_module": "@jupyter-widgets/controls",
            "_model_module_version": "1.5.0",
            "_model_name": "FloatProgressModel",
            "_view_count": null,
            "_view_module": "@jupyter-widgets/controls",
            "_view_module_version": "1.5.0",
            "_view_name": "ProgressView",
            "bar_style": "",
            "description": "",
            "description_tooltip": null,
            "layout": "IPY_MODEL_fed241c8a1164e9d91a08be633713b76",
            "max": 2,
            "min": 0,
            "orientation": "horizontal",
            "style": "IPY_MODEL_ccbee682f26e4dfea4313ab314b80099",
            "value": 2
          }
        },
        "3da2e46c507440788bc410ce03463e96": {
          "model_module": "@jupyter-widgets/controls",
          "model_name": "HTMLModel",
          "model_module_version": "1.5.0",
          "state": {
            "_dom_classes": [],
            "_model_module": "@jupyter-widgets/controls",
            "_model_module_version": "1.5.0",
            "_model_name": "HTMLModel",
            "_view_count": null,
            "_view_module": "@jupyter-widgets/controls",
            "_view_module_version": "1.5.0",
            "_view_name": "HTMLView",
            "description": "",
            "description_tooltip": null,
            "layout": "IPY_MODEL_8ed70bfe0cb344088c2ed9e251103894",
            "placeholder": "​",
            "style": "IPY_MODEL_870d8789664348cfa6c5747a4eae5be1",
            "value": " 2/2 [00:01&lt;00:00,  2.17 splits/s]"
          }
        },
        "c368167a10244b36ae157619b7d66b44": {
          "model_module": "@jupyter-widgets/base",
          "model_name": "LayoutModel",
          "model_module_version": "1.2.0",
          "state": {
            "_model_module": "@jupyter-widgets/base",
            "_model_module_version": "1.2.0",
            "_model_name": "LayoutModel",
            "_view_count": null,
            "_view_module": "@jupyter-widgets/base",
            "_view_module_version": "1.2.0",
            "_view_name": "LayoutView",
            "align_content": null,
            "align_items": null,
            "align_self": null,
            "border": null,
            "bottom": null,
            "display": null,
            "flex": null,
            "flex_flow": null,
            "grid_area": null,
            "grid_auto_columns": null,
            "grid_auto_flow": null,
            "grid_auto_rows": null,
            "grid_column": null,
            "grid_gap": null,
            "grid_row": null,
            "grid_template_areas": null,
            "grid_template_columns": null,
            "grid_template_rows": null,
            "height": null,
            "justify_content": null,
            "justify_items": null,
            "left": null,
            "margin": null,
            "max_height": null,
            "max_width": null,
            "min_height": null,
            "min_width": null,
            "object_fit": null,
            "object_position": null,
            "order": null,
            "overflow": null,
            "overflow_x": null,
            "overflow_y": null,
            "padding": null,
            "right": null,
            "top": null,
            "visibility": "hidden",
            "width": null
          }
        },
        "23469620b678455e87c7dd71a3272096": {
          "model_module": "@jupyter-widgets/base",
          "model_name": "LayoutModel",
          "model_module_version": "1.2.0",
          "state": {
            "_model_module": "@jupyter-widgets/base",
            "_model_module_version": "1.2.0",
            "_model_name": "LayoutModel",
            "_view_count": null,
            "_view_module": "@jupyter-widgets/base",
            "_view_module_version": "1.2.0",
            "_view_name": "LayoutView",
            "align_content": null,
            "align_items": null,
            "align_self": null,
            "border": null,
            "bottom": null,
            "display": null,
            "flex": null,
            "flex_flow": null,
            "grid_area": null,
            "grid_auto_columns": null,
            "grid_auto_flow": null,
            "grid_auto_rows": null,
            "grid_column": null,
            "grid_gap": null,
            "grid_row": null,
            "grid_template_areas": null,
            "grid_template_columns": null,
            "grid_template_rows": null,
            "height": null,
            "justify_content": null,
            "justify_items": null,
            "left": null,
            "margin": null,
            "max_height": null,
            "max_width": null,
            "min_height": null,
            "min_width": null,
            "object_fit": null,
            "object_position": null,
            "order": null,
            "overflow": null,
            "overflow_x": null,
            "overflow_y": null,
            "padding": null,
            "right": null,
            "top": null,
            "visibility": null,
            "width": null
          }
        },
        "9ed816ee113e4f669b0c342f3e71a8ca": {
          "model_module": "@jupyter-widgets/controls",
          "model_name": "DescriptionStyleModel",
          "model_module_version": "1.5.0",
          "state": {
            "_model_module": "@jupyter-widgets/controls",
            "_model_module_version": "1.5.0",
            "_model_name": "DescriptionStyleModel",
            "_view_count": null,
            "_view_module": "@jupyter-widgets/base",
            "_view_module_version": "1.2.0",
            "_view_name": "StyleView",
            "description_width": ""
          }
        },
        "fed241c8a1164e9d91a08be633713b76": {
          "model_module": "@jupyter-widgets/base",
          "model_name": "LayoutModel",
          "model_module_version": "1.2.0",
          "state": {
            "_model_module": "@jupyter-widgets/base",
            "_model_module_version": "1.2.0",
            "_model_name": "LayoutModel",
            "_view_count": null,
            "_view_module": "@jupyter-widgets/base",
            "_view_module_version": "1.2.0",
            "_view_name": "LayoutView",
            "align_content": null,
            "align_items": null,
            "align_self": null,
            "border": null,
            "bottom": null,
            "display": null,
            "flex": null,
            "flex_flow": null,
            "grid_area": null,
            "grid_auto_columns": null,
            "grid_auto_flow": null,
            "grid_auto_rows": null,
            "grid_column": null,
            "grid_gap": null,
            "grid_row": null,
            "grid_template_areas": null,
            "grid_template_columns": null,
            "grid_template_rows": null,
            "height": null,
            "justify_content": null,
            "justify_items": null,
            "left": null,
            "margin": null,
            "max_height": null,
            "max_width": null,
            "min_height": null,
            "min_width": null,
            "object_fit": null,
            "object_position": null,
            "order": null,
            "overflow": null,
            "overflow_x": null,
            "overflow_y": null,
            "padding": null,
            "right": null,
            "top": null,
            "visibility": null,
            "width": null
          }
        },
        "ccbee682f26e4dfea4313ab314b80099": {
          "model_module": "@jupyter-widgets/controls",
          "model_name": "ProgressStyleModel",
          "model_module_version": "1.5.0",
          "state": {
            "_model_module": "@jupyter-widgets/controls",
            "_model_module_version": "1.5.0",
            "_model_name": "ProgressStyleModel",
            "_view_count": null,
            "_view_module": "@jupyter-widgets/base",
            "_view_module_version": "1.2.0",
            "_view_name": "StyleView",
            "bar_color": null,
            "description_width": ""
          }
        },
        "8ed70bfe0cb344088c2ed9e251103894": {
          "model_module": "@jupyter-widgets/base",
          "model_name": "LayoutModel",
          "model_module_version": "1.2.0",
          "state": {
            "_model_module": "@jupyter-widgets/base",
            "_model_module_version": "1.2.0",
            "_model_name": "LayoutModel",
            "_view_count": null,
            "_view_module": "@jupyter-widgets/base",
            "_view_module_version": "1.2.0",
            "_view_name": "LayoutView",
            "align_content": null,
            "align_items": null,
            "align_self": null,
            "border": null,
            "bottom": null,
            "display": null,
            "flex": null,
            "flex_flow": null,
            "grid_area": null,
            "grid_auto_columns": null,
            "grid_auto_flow": null,
            "grid_auto_rows": null,
            "grid_column": null,
            "grid_gap": null,
            "grid_row": null,
            "grid_template_areas": null,
            "grid_template_columns": null,
            "grid_template_rows": null,
            "height": null,
            "justify_content": null,
            "justify_items": null,
            "left": null,
            "margin": null,
            "max_height": null,
            "max_width": null,
            "min_height": null,
            "min_width": null,
            "object_fit": null,
            "object_position": null,
            "order": null,
            "overflow": null,
            "overflow_x": null,
            "overflow_y": null,
            "padding": null,
            "right": null,
            "top": null,
            "visibility": null,
            "width": null
          }
        },
        "870d8789664348cfa6c5747a4eae5be1": {
          "model_module": "@jupyter-widgets/controls",
          "model_name": "DescriptionStyleModel",
          "model_module_version": "1.5.0",
          "state": {
            "_model_module": "@jupyter-widgets/controls",
            "_model_module_version": "1.5.0",
            "_model_name": "DescriptionStyleModel",
            "_view_count": null,
            "_view_module": "@jupyter-widgets/base",
            "_view_module_version": "1.2.0",
            "_view_name": "StyleView",
            "description_width": ""
          }
        },
        "f3ae83f95c984b5786fd79d76dd39449": {
          "model_module": "@jupyter-widgets/controls",
          "model_name": "HBoxModel",
          "model_module_version": "1.5.0",
          "state": {
            "_dom_classes": [],
            "_model_module": "@jupyter-widgets/controls",
            "_model_module_version": "1.5.0",
            "_model_name": "HBoxModel",
            "_view_count": null,
            "_view_module": "@jupyter-widgets/controls",
            "_view_module_version": "1.5.0",
            "_view_name": "HBoxView",
            "box_style": "",
            "children": [
              "IPY_MODEL_69e5a997a6db44c49f4dcf26109205a0",
              "IPY_MODEL_3dc6539eb54c42afa3ed36d6463ad60b",
              "IPY_MODEL_3676f4f05a094f10932a35468290397c"
            ],
            "layout": "IPY_MODEL_b9d9e020e07a4b50ab4e2cba022e218f"
          }
        },
        "69e5a997a6db44c49f4dcf26109205a0": {
          "model_module": "@jupyter-widgets/controls",
          "model_name": "HTMLModel",
          "model_module_version": "1.5.0",
          "state": {
            "_dom_classes": [],
            "_model_module": "@jupyter-widgets/controls",
            "_model_module_version": "1.5.0",
            "_model_name": "HTMLModel",
            "_view_count": null,
            "_view_module": "@jupyter-widgets/controls",
            "_view_module_version": "1.5.0",
            "_view_name": "HTMLView",
            "description": "",
            "description_tooltip": null,
            "layout": "IPY_MODEL_dde645ba70ba46f592f8927d61b89e71",
            "placeholder": "​",
            "style": "IPY_MODEL_783b2b30b6264c139eda231bbd564d46",
            "value": "Generating train examples...:   0%"
          }
        },
        "3dc6539eb54c42afa3ed36d6463ad60b": {
          "model_module": "@jupyter-widgets/controls",
          "model_name": "FloatProgressModel",
          "model_module_version": "1.5.0",
          "state": {
            "_dom_classes": [],
            "_model_module": "@jupyter-widgets/controls",
            "_model_module_version": "1.5.0",
            "_model_name": "FloatProgressModel",
            "_view_count": null,
            "_view_module": "@jupyter-widgets/controls",
            "_view_module_version": "1.5.0",
            "_view_name": "ProgressView",
            "bar_style": "",
            "description": "",
            "description_tooltip": null,
            "layout": "IPY_MODEL_5415432d919e499a90f4e5c9ef48c7fc",
            "max": 5452,
            "min": 0,
            "orientation": "horizontal",
            "style": "IPY_MODEL_6d40ccceb69341c197b517ef2b0f97ea",
            "value": 5452
          }
        },
        "3676f4f05a094f10932a35468290397c": {
          "model_module": "@jupyter-widgets/controls",
          "model_name": "HTMLModel",
          "model_module_version": "1.5.0",
          "state": {
            "_dom_classes": [],
            "_model_module": "@jupyter-widgets/controls",
            "_model_module_version": "1.5.0",
            "_model_name": "HTMLModel",
            "_view_count": null,
            "_view_module": "@jupyter-widgets/controls",
            "_view_module_version": "1.5.0",
            "_view_name": "HTMLView",
            "description": "",
            "description_tooltip": null,
            "layout": "IPY_MODEL_378021fec23847aba6131fb7b8996521",
            "placeholder": "​",
            "style": "IPY_MODEL_cc2fc1fae2df4e268752ef14dbc22ea2",
            "value": " 0/5452 [00:00&lt;?, ? examples/s]"
          }
        },
        "b9d9e020e07a4b50ab4e2cba022e218f": {
          "model_module": "@jupyter-widgets/base",
          "model_name": "LayoutModel",
          "model_module_version": "1.2.0",
          "state": {
            "_model_module": "@jupyter-widgets/base",
            "_model_module_version": "1.2.0",
            "_model_name": "LayoutModel",
            "_view_count": null,
            "_view_module": "@jupyter-widgets/base",
            "_view_module_version": "1.2.0",
            "_view_name": "LayoutView",
            "align_content": null,
            "align_items": null,
            "align_self": null,
            "border": null,
            "bottom": null,
            "display": null,
            "flex": null,
            "flex_flow": null,
            "grid_area": null,
            "grid_auto_columns": null,
            "grid_auto_flow": null,
            "grid_auto_rows": null,
            "grid_column": null,
            "grid_gap": null,
            "grid_row": null,
            "grid_template_areas": null,
            "grid_template_columns": null,
            "grid_template_rows": null,
            "height": null,
            "justify_content": null,
            "justify_items": null,
            "left": null,
            "margin": null,
            "max_height": null,
            "max_width": null,
            "min_height": null,
            "min_width": null,
            "object_fit": null,
            "object_position": null,
            "order": null,
            "overflow": null,
            "overflow_x": null,
            "overflow_y": null,
            "padding": null,
            "right": null,
            "top": null,
            "visibility": "hidden",
            "width": null
          }
        },
        "dde645ba70ba46f592f8927d61b89e71": {
          "model_module": "@jupyter-widgets/base",
          "model_name": "LayoutModel",
          "model_module_version": "1.2.0",
          "state": {
            "_model_module": "@jupyter-widgets/base",
            "_model_module_version": "1.2.0",
            "_model_name": "LayoutModel",
            "_view_count": null,
            "_view_module": "@jupyter-widgets/base",
            "_view_module_version": "1.2.0",
            "_view_name": "LayoutView",
            "align_content": null,
            "align_items": null,
            "align_self": null,
            "border": null,
            "bottom": null,
            "display": null,
            "flex": null,
            "flex_flow": null,
            "grid_area": null,
            "grid_auto_columns": null,
            "grid_auto_flow": null,
            "grid_auto_rows": null,
            "grid_column": null,
            "grid_gap": null,
            "grid_row": null,
            "grid_template_areas": null,
            "grid_template_columns": null,
            "grid_template_rows": null,
            "height": null,
            "justify_content": null,
            "justify_items": null,
            "left": null,
            "margin": null,
            "max_height": null,
            "max_width": null,
            "min_height": null,
            "min_width": null,
            "object_fit": null,
            "object_position": null,
            "order": null,
            "overflow": null,
            "overflow_x": null,
            "overflow_y": null,
            "padding": null,
            "right": null,
            "top": null,
            "visibility": null,
            "width": null
          }
        },
        "783b2b30b6264c139eda231bbd564d46": {
          "model_module": "@jupyter-widgets/controls",
          "model_name": "DescriptionStyleModel",
          "model_module_version": "1.5.0",
          "state": {
            "_model_module": "@jupyter-widgets/controls",
            "_model_module_version": "1.5.0",
            "_model_name": "DescriptionStyleModel",
            "_view_count": null,
            "_view_module": "@jupyter-widgets/base",
            "_view_module_version": "1.2.0",
            "_view_name": "StyleView",
            "description_width": ""
          }
        },
        "5415432d919e499a90f4e5c9ef48c7fc": {
          "model_module": "@jupyter-widgets/base",
          "model_name": "LayoutModel",
          "model_module_version": "1.2.0",
          "state": {
            "_model_module": "@jupyter-widgets/base",
            "_model_module_version": "1.2.0",
            "_model_name": "LayoutModel",
            "_view_count": null,
            "_view_module": "@jupyter-widgets/base",
            "_view_module_version": "1.2.0",
            "_view_name": "LayoutView",
            "align_content": null,
            "align_items": null,
            "align_self": null,
            "border": null,
            "bottom": null,
            "display": null,
            "flex": null,
            "flex_flow": null,
            "grid_area": null,
            "grid_auto_columns": null,
            "grid_auto_flow": null,
            "grid_auto_rows": null,
            "grid_column": null,
            "grid_gap": null,
            "grid_row": null,
            "grid_template_areas": null,
            "grid_template_columns": null,
            "grid_template_rows": null,
            "height": null,
            "justify_content": null,
            "justify_items": null,
            "left": null,
            "margin": null,
            "max_height": null,
            "max_width": null,
            "min_height": null,
            "min_width": null,
            "object_fit": null,
            "object_position": null,
            "order": null,
            "overflow": null,
            "overflow_x": null,
            "overflow_y": null,
            "padding": null,
            "right": null,
            "top": null,
            "visibility": null,
            "width": null
          }
        },
        "6d40ccceb69341c197b517ef2b0f97ea": {
          "model_module": "@jupyter-widgets/controls",
          "model_name": "ProgressStyleModel",
          "model_module_version": "1.5.0",
          "state": {
            "_model_module": "@jupyter-widgets/controls",
            "_model_module_version": "1.5.0",
            "_model_name": "ProgressStyleModel",
            "_view_count": null,
            "_view_module": "@jupyter-widgets/base",
            "_view_module_version": "1.2.0",
            "_view_name": "StyleView",
            "bar_color": null,
            "description_width": ""
          }
        },
        "378021fec23847aba6131fb7b8996521": {
          "model_module": "@jupyter-widgets/base",
          "model_name": "LayoutModel",
          "model_module_version": "1.2.0",
          "state": {
            "_model_module": "@jupyter-widgets/base",
            "_model_module_version": "1.2.0",
            "_model_name": "LayoutModel",
            "_view_count": null,
            "_view_module": "@jupyter-widgets/base",
            "_view_module_version": "1.2.0",
            "_view_name": "LayoutView",
            "align_content": null,
            "align_items": null,
            "align_self": null,
            "border": null,
            "bottom": null,
            "display": null,
            "flex": null,
            "flex_flow": null,
            "grid_area": null,
            "grid_auto_columns": null,
            "grid_auto_flow": null,
            "grid_auto_rows": null,
            "grid_column": null,
            "grid_gap": null,
            "grid_row": null,
            "grid_template_areas": null,
            "grid_template_columns": null,
            "grid_template_rows": null,
            "height": null,
            "justify_content": null,
            "justify_items": null,
            "left": null,
            "margin": null,
            "max_height": null,
            "max_width": null,
            "min_height": null,
            "min_width": null,
            "object_fit": null,
            "object_position": null,
            "order": null,
            "overflow": null,
            "overflow_x": null,
            "overflow_y": null,
            "padding": null,
            "right": null,
            "top": null,
            "visibility": null,
            "width": null
          }
        },
        "cc2fc1fae2df4e268752ef14dbc22ea2": {
          "model_module": "@jupyter-widgets/controls",
          "model_name": "DescriptionStyleModel",
          "model_module_version": "1.5.0",
          "state": {
            "_model_module": "@jupyter-widgets/controls",
            "_model_module_version": "1.5.0",
            "_model_name": "DescriptionStyleModel",
            "_view_count": null,
            "_view_module": "@jupyter-widgets/base",
            "_view_module_version": "1.2.0",
            "_view_name": "StyleView",
            "description_width": ""
          }
        },
        "2d04617d1a8c49b2bd245051e5bdc51d": {
          "model_module": "@jupyter-widgets/controls",
          "model_name": "HBoxModel",
          "model_module_version": "1.5.0",
          "state": {
            "_dom_classes": [],
            "_model_module": "@jupyter-widgets/controls",
            "_model_module_version": "1.5.0",
            "_model_name": "HBoxModel",
            "_view_count": null,
            "_view_module": "@jupyter-widgets/controls",
            "_view_module_version": "1.5.0",
            "_view_name": "HBoxView",
            "box_style": "",
            "children": [
              "IPY_MODEL_e14a0835e9944e91a534342e694e4970",
              "IPY_MODEL_3be50a9bb1994947bb990abb17f77835",
              "IPY_MODEL_2127aafc91cc4306a6794bd19208ffec"
            ],
            "layout": "IPY_MODEL_6b238e24a94a4e0abadcef069d65317a"
          }
        },
        "e14a0835e9944e91a534342e694e4970": {
          "model_module": "@jupyter-widgets/controls",
          "model_name": "HTMLModel",
          "model_module_version": "1.5.0",
          "state": {
            "_dom_classes": [],
            "_model_module": "@jupyter-widgets/controls",
            "_model_module_version": "1.5.0",
            "_model_name": "HTMLModel",
            "_view_count": null,
            "_view_module": "@jupyter-widgets/controls",
            "_view_module_version": "1.5.0",
            "_view_name": "HTMLView",
            "description": "",
            "description_tooltip": null,
            "layout": "IPY_MODEL_4bc5f1361c0b46d98fcf2de813b1febf",
            "placeholder": "​",
            "style": "IPY_MODEL_414cf297d5bc4347943818c2401e5c0c",
            "value": "Shuffling /root/tensorflow_datasets/trec/1.0.0.incompleteKF0MWI/trec-train.tfrecord*...:   0%"
          }
        },
        "3be50a9bb1994947bb990abb17f77835": {
          "model_module": "@jupyter-widgets/controls",
          "model_name": "FloatProgressModel",
          "model_module_version": "1.5.0",
          "state": {
            "_dom_classes": [],
            "_model_module": "@jupyter-widgets/controls",
            "_model_module_version": "1.5.0",
            "_model_name": "FloatProgressModel",
            "_view_count": null,
            "_view_module": "@jupyter-widgets/controls",
            "_view_module_version": "1.5.0",
            "_view_name": "ProgressView",
            "bar_style": "",
            "description": "",
            "description_tooltip": null,
            "layout": "IPY_MODEL_64f499af19864c089894d7b2189cf71a",
            "max": 5452,
            "min": 0,
            "orientation": "horizontal",
            "style": "IPY_MODEL_769a1b47798e45068b6633b81eaaa293",
            "value": 5452
          }
        },
        "2127aafc91cc4306a6794bd19208ffec": {
          "model_module": "@jupyter-widgets/controls",
          "model_name": "HTMLModel",
          "model_module_version": "1.5.0",
          "state": {
            "_dom_classes": [],
            "_model_module": "@jupyter-widgets/controls",
            "_model_module_version": "1.5.0",
            "_model_name": "HTMLModel",
            "_view_count": null,
            "_view_module": "@jupyter-widgets/controls",
            "_view_module_version": "1.5.0",
            "_view_name": "HTMLView",
            "description": "",
            "description_tooltip": null,
            "layout": "IPY_MODEL_e5332a2e646649d58a316f2d1941814e",
            "placeholder": "​",
            "style": "IPY_MODEL_421618c0153d4e8187920590ca9fa622",
            "value": " 0/5452 [00:00&lt;?, ? examples/s]"
          }
        },
        "6b238e24a94a4e0abadcef069d65317a": {
          "model_module": "@jupyter-widgets/base",
          "model_name": "LayoutModel",
          "model_module_version": "1.2.0",
          "state": {
            "_model_module": "@jupyter-widgets/base",
            "_model_module_version": "1.2.0",
            "_model_name": "LayoutModel",
            "_view_count": null,
            "_view_module": "@jupyter-widgets/base",
            "_view_module_version": "1.2.0",
            "_view_name": "LayoutView",
            "align_content": null,
            "align_items": null,
            "align_self": null,
            "border": null,
            "bottom": null,
            "display": null,
            "flex": null,
            "flex_flow": null,
            "grid_area": null,
            "grid_auto_columns": null,
            "grid_auto_flow": null,
            "grid_auto_rows": null,
            "grid_column": null,
            "grid_gap": null,
            "grid_row": null,
            "grid_template_areas": null,
            "grid_template_columns": null,
            "grid_template_rows": null,
            "height": null,
            "justify_content": null,
            "justify_items": null,
            "left": null,
            "margin": null,
            "max_height": null,
            "max_width": null,
            "min_height": null,
            "min_width": null,
            "object_fit": null,
            "object_position": null,
            "order": null,
            "overflow": null,
            "overflow_x": null,
            "overflow_y": null,
            "padding": null,
            "right": null,
            "top": null,
            "visibility": "hidden",
            "width": null
          }
        },
        "4bc5f1361c0b46d98fcf2de813b1febf": {
          "model_module": "@jupyter-widgets/base",
          "model_name": "LayoutModel",
          "model_module_version": "1.2.0",
          "state": {
            "_model_module": "@jupyter-widgets/base",
            "_model_module_version": "1.2.0",
            "_model_name": "LayoutModel",
            "_view_count": null,
            "_view_module": "@jupyter-widgets/base",
            "_view_module_version": "1.2.0",
            "_view_name": "LayoutView",
            "align_content": null,
            "align_items": null,
            "align_self": null,
            "border": null,
            "bottom": null,
            "display": null,
            "flex": null,
            "flex_flow": null,
            "grid_area": null,
            "grid_auto_columns": null,
            "grid_auto_flow": null,
            "grid_auto_rows": null,
            "grid_column": null,
            "grid_gap": null,
            "grid_row": null,
            "grid_template_areas": null,
            "grid_template_columns": null,
            "grid_template_rows": null,
            "height": null,
            "justify_content": null,
            "justify_items": null,
            "left": null,
            "margin": null,
            "max_height": null,
            "max_width": null,
            "min_height": null,
            "min_width": null,
            "object_fit": null,
            "object_position": null,
            "order": null,
            "overflow": null,
            "overflow_x": null,
            "overflow_y": null,
            "padding": null,
            "right": null,
            "top": null,
            "visibility": null,
            "width": null
          }
        },
        "414cf297d5bc4347943818c2401e5c0c": {
          "model_module": "@jupyter-widgets/controls",
          "model_name": "DescriptionStyleModel",
          "model_module_version": "1.5.0",
          "state": {
            "_model_module": "@jupyter-widgets/controls",
            "_model_module_version": "1.5.0",
            "_model_name": "DescriptionStyleModel",
            "_view_count": null,
            "_view_module": "@jupyter-widgets/base",
            "_view_module_version": "1.2.0",
            "_view_name": "StyleView",
            "description_width": ""
          }
        },
        "64f499af19864c089894d7b2189cf71a": {
          "model_module": "@jupyter-widgets/base",
          "model_name": "LayoutModel",
          "model_module_version": "1.2.0",
          "state": {
            "_model_module": "@jupyter-widgets/base",
            "_model_module_version": "1.2.0",
            "_model_name": "LayoutModel",
            "_view_count": null,
            "_view_module": "@jupyter-widgets/base",
            "_view_module_version": "1.2.0",
            "_view_name": "LayoutView",
            "align_content": null,
            "align_items": null,
            "align_self": null,
            "border": null,
            "bottom": null,
            "display": null,
            "flex": null,
            "flex_flow": null,
            "grid_area": null,
            "grid_auto_columns": null,
            "grid_auto_flow": null,
            "grid_auto_rows": null,
            "grid_column": null,
            "grid_gap": null,
            "grid_row": null,
            "grid_template_areas": null,
            "grid_template_columns": null,
            "grid_template_rows": null,
            "height": null,
            "justify_content": null,
            "justify_items": null,
            "left": null,
            "margin": null,
            "max_height": null,
            "max_width": null,
            "min_height": null,
            "min_width": null,
            "object_fit": null,
            "object_position": null,
            "order": null,
            "overflow": null,
            "overflow_x": null,
            "overflow_y": null,
            "padding": null,
            "right": null,
            "top": null,
            "visibility": null,
            "width": null
          }
        },
        "769a1b47798e45068b6633b81eaaa293": {
          "model_module": "@jupyter-widgets/controls",
          "model_name": "ProgressStyleModel",
          "model_module_version": "1.5.0",
          "state": {
            "_model_module": "@jupyter-widgets/controls",
            "_model_module_version": "1.5.0",
            "_model_name": "ProgressStyleModel",
            "_view_count": null,
            "_view_module": "@jupyter-widgets/base",
            "_view_module_version": "1.2.0",
            "_view_name": "StyleView",
            "bar_color": null,
            "description_width": ""
          }
        },
        "e5332a2e646649d58a316f2d1941814e": {
          "model_module": "@jupyter-widgets/base",
          "model_name": "LayoutModel",
          "model_module_version": "1.2.0",
          "state": {
            "_model_module": "@jupyter-widgets/base",
            "_model_module_version": "1.2.0",
            "_model_name": "LayoutModel",
            "_view_count": null,
            "_view_module": "@jupyter-widgets/base",
            "_view_module_version": "1.2.0",
            "_view_name": "LayoutView",
            "align_content": null,
            "align_items": null,
            "align_self": null,
            "border": null,
            "bottom": null,
            "display": null,
            "flex": null,
            "flex_flow": null,
            "grid_area": null,
            "grid_auto_columns": null,
            "grid_auto_flow": null,
            "grid_auto_rows": null,
            "grid_column": null,
            "grid_gap": null,
            "grid_row": null,
            "grid_template_areas": null,
            "grid_template_columns": null,
            "grid_template_rows": null,
            "height": null,
            "justify_content": null,
            "justify_items": null,
            "left": null,
            "margin": null,
            "max_height": null,
            "max_width": null,
            "min_height": null,
            "min_width": null,
            "object_fit": null,
            "object_position": null,
            "order": null,
            "overflow": null,
            "overflow_x": null,
            "overflow_y": null,
            "padding": null,
            "right": null,
            "top": null,
            "visibility": null,
            "width": null
          }
        },
        "421618c0153d4e8187920590ca9fa622": {
          "model_module": "@jupyter-widgets/controls",
          "model_name": "DescriptionStyleModel",
          "model_module_version": "1.5.0",
          "state": {
            "_model_module": "@jupyter-widgets/controls",
            "_model_module_version": "1.5.0",
            "_model_name": "DescriptionStyleModel",
            "_view_count": null,
            "_view_module": "@jupyter-widgets/base",
            "_view_module_version": "1.2.0",
            "_view_name": "StyleView",
            "description_width": ""
          }
        },
        "f6081a08ef3d46658d4cac6b8a2213f8": {
          "model_module": "@jupyter-widgets/controls",
          "model_name": "HBoxModel",
          "model_module_version": "1.5.0",
          "state": {
            "_dom_classes": [],
            "_model_module": "@jupyter-widgets/controls",
            "_model_module_version": "1.5.0",
            "_model_name": "HBoxModel",
            "_view_count": null,
            "_view_module": "@jupyter-widgets/controls",
            "_view_module_version": "1.5.0",
            "_view_name": "HBoxView",
            "box_style": "",
            "children": [
              "IPY_MODEL_6a95d2a64e264688a87255e761ea614e",
              "IPY_MODEL_fd237a4ea9e845229a4cb9e79c05f85a",
              "IPY_MODEL_e5b9f26d97334e7582a75ec2f8940a05"
            ],
            "layout": "IPY_MODEL_a49fb19e34ad48a5ad85fa6803528b1d"
          }
        },
        "6a95d2a64e264688a87255e761ea614e": {
          "model_module": "@jupyter-widgets/controls",
          "model_name": "HTMLModel",
          "model_module_version": "1.5.0",
          "state": {
            "_dom_classes": [],
            "_model_module": "@jupyter-widgets/controls",
            "_model_module_version": "1.5.0",
            "_model_name": "HTMLModel",
            "_view_count": null,
            "_view_module": "@jupyter-widgets/controls",
            "_view_module_version": "1.5.0",
            "_view_name": "HTMLView",
            "description": "",
            "description_tooltip": null,
            "layout": "IPY_MODEL_0a3ecea0a3c04a7daaf129253a30871c",
            "placeholder": "​",
            "style": "IPY_MODEL_a5ac081decff4b46ba63b8c7d195db0d",
            "value": "Generating test examples...:   0%"
          }
        },
        "fd237a4ea9e845229a4cb9e79c05f85a": {
          "model_module": "@jupyter-widgets/controls",
          "model_name": "FloatProgressModel",
          "model_module_version": "1.5.0",
          "state": {
            "_dom_classes": [],
            "_model_module": "@jupyter-widgets/controls",
            "_model_module_version": "1.5.0",
            "_model_name": "FloatProgressModel",
            "_view_count": null,
            "_view_module": "@jupyter-widgets/controls",
            "_view_module_version": "1.5.0",
            "_view_name": "ProgressView",
            "bar_style": "",
            "description": "",
            "description_tooltip": null,
            "layout": "IPY_MODEL_e3942000eb0e48dfadc3a6d4fb2c1a1b",
            "max": 500,
            "min": 0,
            "orientation": "horizontal",
            "style": "IPY_MODEL_8a5d8d4ca7df477ba73e46af9b36622a",
            "value": 500
          }
        },
        "e5b9f26d97334e7582a75ec2f8940a05": {
          "model_module": "@jupyter-widgets/controls",
          "model_name": "HTMLModel",
          "model_module_version": "1.5.0",
          "state": {
            "_dom_classes": [],
            "_model_module": "@jupyter-widgets/controls",
            "_model_module_version": "1.5.0",
            "_model_name": "HTMLModel",
            "_view_count": null,
            "_view_module": "@jupyter-widgets/controls",
            "_view_module_version": "1.5.0",
            "_view_name": "HTMLView",
            "description": "",
            "description_tooltip": null,
            "layout": "IPY_MODEL_94777382d8044e8696aa8d9b02ac5422",
            "placeholder": "​",
            "style": "IPY_MODEL_4867361c5f4a4a028e2eb8bf2733943c",
            "value": " 0/500 [00:00&lt;?, ? examples/s]"
          }
        },
        "a49fb19e34ad48a5ad85fa6803528b1d": {
          "model_module": "@jupyter-widgets/base",
          "model_name": "LayoutModel",
          "model_module_version": "1.2.0",
          "state": {
            "_model_module": "@jupyter-widgets/base",
            "_model_module_version": "1.2.0",
            "_model_name": "LayoutModel",
            "_view_count": null,
            "_view_module": "@jupyter-widgets/base",
            "_view_module_version": "1.2.0",
            "_view_name": "LayoutView",
            "align_content": null,
            "align_items": null,
            "align_self": null,
            "border": null,
            "bottom": null,
            "display": null,
            "flex": null,
            "flex_flow": null,
            "grid_area": null,
            "grid_auto_columns": null,
            "grid_auto_flow": null,
            "grid_auto_rows": null,
            "grid_column": null,
            "grid_gap": null,
            "grid_row": null,
            "grid_template_areas": null,
            "grid_template_columns": null,
            "grid_template_rows": null,
            "height": null,
            "justify_content": null,
            "justify_items": null,
            "left": null,
            "margin": null,
            "max_height": null,
            "max_width": null,
            "min_height": null,
            "min_width": null,
            "object_fit": null,
            "object_position": null,
            "order": null,
            "overflow": null,
            "overflow_x": null,
            "overflow_y": null,
            "padding": null,
            "right": null,
            "top": null,
            "visibility": "hidden",
            "width": null
          }
        },
        "0a3ecea0a3c04a7daaf129253a30871c": {
          "model_module": "@jupyter-widgets/base",
          "model_name": "LayoutModel",
          "model_module_version": "1.2.0",
          "state": {
            "_model_module": "@jupyter-widgets/base",
            "_model_module_version": "1.2.0",
            "_model_name": "LayoutModel",
            "_view_count": null,
            "_view_module": "@jupyter-widgets/base",
            "_view_module_version": "1.2.0",
            "_view_name": "LayoutView",
            "align_content": null,
            "align_items": null,
            "align_self": null,
            "border": null,
            "bottom": null,
            "display": null,
            "flex": null,
            "flex_flow": null,
            "grid_area": null,
            "grid_auto_columns": null,
            "grid_auto_flow": null,
            "grid_auto_rows": null,
            "grid_column": null,
            "grid_gap": null,
            "grid_row": null,
            "grid_template_areas": null,
            "grid_template_columns": null,
            "grid_template_rows": null,
            "height": null,
            "justify_content": null,
            "justify_items": null,
            "left": null,
            "margin": null,
            "max_height": null,
            "max_width": null,
            "min_height": null,
            "min_width": null,
            "object_fit": null,
            "object_position": null,
            "order": null,
            "overflow": null,
            "overflow_x": null,
            "overflow_y": null,
            "padding": null,
            "right": null,
            "top": null,
            "visibility": null,
            "width": null
          }
        },
        "a5ac081decff4b46ba63b8c7d195db0d": {
          "model_module": "@jupyter-widgets/controls",
          "model_name": "DescriptionStyleModel",
          "model_module_version": "1.5.0",
          "state": {
            "_model_module": "@jupyter-widgets/controls",
            "_model_module_version": "1.5.0",
            "_model_name": "DescriptionStyleModel",
            "_view_count": null,
            "_view_module": "@jupyter-widgets/base",
            "_view_module_version": "1.2.0",
            "_view_name": "StyleView",
            "description_width": ""
          }
        },
        "e3942000eb0e48dfadc3a6d4fb2c1a1b": {
          "model_module": "@jupyter-widgets/base",
          "model_name": "LayoutModel",
          "model_module_version": "1.2.0",
          "state": {
            "_model_module": "@jupyter-widgets/base",
            "_model_module_version": "1.2.0",
            "_model_name": "LayoutModel",
            "_view_count": null,
            "_view_module": "@jupyter-widgets/base",
            "_view_module_version": "1.2.0",
            "_view_name": "LayoutView",
            "align_content": null,
            "align_items": null,
            "align_self": null,
            "border": null,
            "bottom": null,
            "display": null,
            "flex": null,
            "flex_flow": null,
            "grid_area": null,
            "grid_auto_columns": null,
            "grid_auto_flow": null,
            "grid_auto_rows": null,
            "grid_column": null,
            "grid_gap": null,
            "grid_row": null,
            "grid_template_areas": null,
            "grid_template_columns": null,
            "grid_template_rows": null,
            "height": null,
            "justify_content": null,
            "justify_items": null,
            "left": null,
            "margin": null,
            "max_height": null,
            "max_width": null,
            "min_height": null,
            "min_width": null,
            "object_fit": null,
            "object_position": null,
            "order": null,
            "overflow": null,
            "overflow_x": null,
            "overflow_y": null,
            "padding": null,
            "right": null,
            "top": null,
            "visibility": null,
            "width": null
          }
        },
        "8a5d8d4ca7df477ba73e46af9b36622a": {
          "model_module": "@jupyter-widgets/controls",
          "model_name": "ProgressStyleModel",
          "model_module_version": "1.5.0",
          "state": {
            "_model_module": "@jupyter-widgets/controls",
            "_model_module_version": "1.5.0",
            "_model_name": "ProgressStyleModel",
            "_view_count": null,
            "_view_module": "@jupyter-widgets/base",
            "_view_module_version": "1.2.0",
            "_view_name": "StyleView",
            "bar_color": null,
            "description_width": ""
          }
        },
        "94777382d8044e8696aa8d9b02ac5422": {
          "model_module": "@jupyter-widgets/base",
          "model_name": "LayoutModel",
          "model_module_version": "1.2.0",
          "state": {
            "_model_module": "@jupyter-widgets/base",
            "_model_module_version": "1.2.0",
            "_model_name": "LayoutModel",
            "_view_count": null,
            "_view_module": "@jupyter-widgets/base",
            "_view_module_version": "1.2.0",
            "_view_name": "LayoutView",
            "align_content": null,
            "align_items": null,
            "align_self": null,
            "border": null,
            "bottom": null,
            "display": null,
            "flex": null,
            "flex_flow": null,
            "grid_area": null,
            "grid_auto_columns": null,
            "grid_auto_flow": null,
            "grid_auto_rows": null,
            "grid_column": null,
            "grid_gap": null,
            "grid_row": null,
            "grid_template_areas": null,
            "grid_template_columns": null,
            "grid_template_rows": null,
            "height": null,
            "justify_content": null,
            "justify_items": null,
            "left": null,
            "margin": null,
            "max_height": null,
            "max_width": null,
            "min_height": null,
            "min_width": null,
            "object_fit": null,
            "object_position": null,
            "order": null,
            "overflow": null,
            "overflow_x": null,
            "overflow_y": null,
            "padding": null,
            "right": null,
            "top": null,
            "visibility": null,
            "width": null
          }
        },
        "4867361c5f4a4a028e2eb8bf2733943c": {
          "model_module": "@jupyter-widgets/controls",
          "model_name": "DescriptionStyleModel",
          "model_module_version": "1.5.0",
          "state": {
            "_model_module": "@jupyter-widgets/controls",
            "_model_module_version": "1.5.0",
            "_model_name": "DescriptionStyleModel",
            "_view_count": null,
            "_view_module": "@jupyter-widgets/base",
            "_view_module_version": "1.2.0",
            "_view_name": "StyleView",
            "description_width": ""
          }
        },
        "068ac04f8d9744acbbf7ba7dbebbab22": {
          "model_module": "@jupyter-widgets/controls",
          "model_name": "HBoxModel",
          "model_module_version": "1.5.0",
          "state": {
            "_dom_classes": [],
            "_model_module": "@jupyter-widgets/controls",
            "_model_module_version": "1.5.0",
            "_model_name": "HBoxModel",
            "_view_count": null,
            "_view_module": "@jupyter-widgets/controls",
            "_view_module_version": "1.5.0",
            "_view_name": "HBoxView",
            "box_style": "",
            "children": [
              "IPY_MODEL_5708a26ed0e64f748b0dbbca8292ba3e",
              "IPY_MODEL_40021237fdcb44798cf0106a9d333041",
              "IPY_MODEL_40834a3b68cc414fa5bd969321eab781"
            ],
            "layout": "IPY_MODEL_6e86fe20f503486098e3b3ed95a9ddcb"
          }
        },
        "5708a26ed0e64f748b0dbbca8292ba3e": {
          "model_module": "@jupyter-widgets/controls",
          "model_name": "HTMLModel",
          "model_module_version": "1.5.0",
          "state": {
            "_dom_classes": [],
            "_model_module": "@jupyter-widgets/controls",
            "_model_module_version": "1.5.0",
            "_model_name": "HTMLModel",
            "_view_count": null,
            "_view_module": "@jupyter-widgets/controls",
            "_view_module_version": "1.5.0",
            "_view_name": "HTMLView",
            "description": "",
            "description_tooltip": null,
            "layout": "IPY_MODEL_f34d9d1f40ed4a519b925fe9ed86ae96",
            "placeholder": "​",
            "style": "IPY_MODEL_c91b65e7eaa54a09b71d58e1b3338b51",
            "value": "Shuffling /root/tensorflow_datasets/trec/1.0.0.incompleteKF0MWI/trec-test.tfrecord*...:   0%"
          }
        },
        "40021237fdcb44798cf0106a9d333041": {
          "model_module": "@jupyter-widgets/controls",
          "model_name": "FloatProgressModel",
          "model_module_version": "1.5.0",
          "state": {
            "_dom_classes": [],
            "_model_module": "@jupyter-widgets/controls",
            "_model_module_version": "1.5.0",
            "_model_name": "FloatProgressModel",
            "_view_count": null,
            "_view_module": "@jupyter-widgets/controls",
            "_view_module_version": "1.5.0",
            "_view_name": "ProgressView",
            "bar_style": "",
            "description": "",
            "description_tooltip": null,
            "layout": "IPY_MODEL_6f3bdf69f4c149398178bd250e8eacee",
            "max": 500,
            "min": 0,
            "orientation": "horizontal",
            "style": "IPY_MODEL_9b0cc5a58d5943b1a5cda0c9780659e0",
            "value": 500
          }
        },
        "40834a3b68cc414fa5bd969321eab781": {
          "model_module": "@jupyter-widgets/controls",
          "model_name": "HTMLModel",
          "model_module_version": "1.5.0",
          "state": {
            "_dom_classes": [],
            "_model_module": "@jupyter-widgets/controls",
            "_model_module_version": "1.5.0",
            "_model_name": "HTMLModel",
            "_view_count": null,
            "_view_module": "@jupyter-widgets/controls",
            "_view_module_version": "1.5.0",
            "_view_name": "HTMLView",
            "description": "",
            "description_tooltip": null,
            "layout": "IPY_MODEL_885dbe817bd2464c8c13a0cd2aa0906b",
            "placeholder": "​",
            "style": "IPY_MODEL_18b4a86995bc4fef9fb40d9f648d5cc4",
            "value": " 0/500 [00:00&lt;?, ? examples/s]"
          }
        },
        "6e86fe20f503486098e3b3ed95a9ddcb": {
          "model_module": "@jupyter-widgets/base",
          "model_name": "LayoutModel",
          "model_module_version": "1.2.0",
          "state": {
            "_model_module": "@jupyter-widgets/base",
            "_model_module_version": "1.2.0",
            "_model_name": "LayoutModel",
            "_view_count": null,
            "_view_module": "@jupyter-widgets/base",
            "_view_module_version": "1.2.0",
            "_view_name": "LayoutView",
            "align_content": null,
            "align_items": null,
            "align_self": null,
            "border": null,
            "bottom": null,
            "display": null,
            "flex": null,
            "flex_flow": null,
            "grid_area": null,
            "grid_auto_columns": null,
            "grid_auto_flow": null,
            "grid_auto_rows": null,
            "grid_column": null,
            "grid_gap": null,
            "grid_row": null,
            "grid_template_areas": null,
            "grid_template_columns": null,
            "grid_template_rows": null,
            "height": null,
            "justify_content": null,
            "justify_items": null,
            "left": null,
            "margin": null,
            "max_height": null,
            "max_width": null,
            "min_height": null,
            "min_width": null,
            "object_fit": null,
            "object_position": null,
            "order": null,
            "overflow": null,
            "overflow_x": null,
            "overflow_y": null,
            "padding": null,
            "right": null,
            "top": null,
            "visibility": "hidden",
            "width": null
          }
        },
        "f34d9d1f40ed4a519b925fe9ed86ae96": {
          "model_module": "@jupyter-widgets/base",
          "model_name": "LayoutModel",
          "model_module_version": "1.2.0",
          "state": {
            "_model_module": "@jupyter-widgets/base",
            "_model_module_version": "1.2.0",
            "_model_name": "LayoutModel",
            "_view_count": null,
            "_view_module": "@jupyter-widgets/base",
            "_view_module_version": "1.2.0",
            "_view_name": "LayoutView",
            "align_content": null,
            "align_items": null,
            "align_self": null,
            "border": null,
            "bottom": null,
            "display": null,
            "flex": null,
            "flex_flow": null,
            "grid_area": null,
            "grid_auto_columns": null,
            "grid_auto_flow": null,
            "grid_auto_rows": null,
            "grid_column": null,
            "grid_gap": null,
            "grid_row": null,
            "grid_template_areas": null,
            "grid_template_columns": null,
            "grid_template_rows": null,
            "height": null,
            "justify_content": null,
            "justify_items": null,
            "left": null,
            "margin": null,
            "max_height": null,
            "max_width": null,
            "min_height": null,
            "min_width": null,
            "object_fit": null,
            "object_position": null,
            "order": null,
            "overflow": null,
            "overflow_x": null,
            "overflow_y": null,
            "padding": null,
            "right": null,
            "top": null,
            "visibility": null,
            "width": null
          }
        },
        "c91b65e7eaa54a09b71d58e1b3338b51": {
          "model_module": "@jupyter-widgets/controls",
          "model_name": "DescriptionStyleModel",
          "model_module_version": "1.5.0",
          "state": {
            "_model_module": "@jupyter-widgets/controls",
            "_model_module_version": "1.5.0",
            "_model_name": "DescriptionStyleModel",
            "_view_count": null,
            "_view_module": "@jupyter-widgets/base",
            "_view_module_version": "1.2.0",
            "_view_name": "StyleView",
            "description_width": ""
          }
        },
        "6f3bdf69f4c149398178bd250e8eacee": {
          "model_module": "@jupyter-widgets/base",
          "model_name": "LayoutModel",
          "model_module_version": "1.2.0",
          "state": {
            "_model_module": "@jupyter-widgets/base",
            "_model_module_version": "1.2.0",
            "_model_name": "LayoutModel",
            "_view_count": null,
            "_view_module": "@jupyter-widgets/base",
            "_view_module_version": "1.2.0",
            "_view_name": "LayoutView",
            "align_content": null,
            "align_items": null,
            "align_self": null,
            "border": null,
            "bottom": null,
            "display": null,
            "flex": null,
            "flex_flow": null,
            "grid_area": null,
            "grid_auto_columns": null,
            "grid_auto_flow": null,
            "grid_auto_rows": null,
            "grid_column": null,
            "grid_gap": null,
            "grid_row": null,
            "grid_template_areas": null,
            "grid_template_columns": null,
            "grid_template_rows": null,
            "height": null,
            "justify_content": null,
            "justify_items": null,
            "left": null,
            "margin": null,
            "max_height": null,
            "max_width": null,
            "min_height": null,
            "min_width": null,
            "object_fit": null,
            "object_position": null,
            "order": null,
            "overflow": null,
            "overflow_x": null,
            "overflow_y": null,
            "padding": null,
            "right": null,
            "top": null,
            "visibility": null,
            "width": null
          }
        },
        "9b0cc5a58d5943b1a5cda0c9780659e0": {
          "model_module": "@jupyter-widgets/controls",
          "model_name": "ProgressStyleModel",
          "model_module_version": "1.5.0",
          "state": {
            "_model_module": "@jupyter-widgets/controls",
            "_model_module_version": "1.5.0",
            "_model_name": "ProgressStyleModel",
            "_view_count": null,
            "_view_module": "@jupyter-widgets/base",
            "_view_module_version": "1.2.0",
            "_view_name": "StyleView",
            "bar_color": null,
            "description_width": ""
          }
        },
        "885dbe817bd2464c8c13a0cd2aa0906b": {
          "model_module": "@jupyter-widgets/base",
          "model_name": "LayoutModel",
          "model_module_version": "1.2.0",
          "state": {
            "_model_module": "@jupyter-widgets/base",
            "_model_module_version": "1.2.0",
            "_model_name": "LayoutModel",
            "_view_count": null,
            "_view_module": "@jupyter-widgets/base",
            "_view_module_version": "1.2.0",
            "_view_name": "LayoutView",
            "align_content": null,
            "align_items": null,
            "align_self": null,
            "border": null,
            "bottom": null,
            "display": null,
            "flex": null,
            "flex_flow": null,
            "grid_area": null,
            "grid_auto_columns": null,
            "grid_auto_flow": null,
            "grid_auto_rows": null,
            "grid_column": null,
            "grid_gap": null,
            "grid_row": null,
            "grid_template_areas": null,
            "grid_template_columns": null,
            "grid_template_rows": null,
            "height": null,
            "justify_content": null,
            "justify_items": null,
            "left": null,
            "margin": null,
            "max_height": null,
            "max_width": null,
            "min_height": null,
            "min_width": null,
            "object_fit": null,
            "object_position": null,
            "order": null,
            "overflow": null,
            "overflow_x": null,
            "overflow_y": null,
            "padding": null,
            "right": null,
            "top": null,
            "visibility": null,
            "width": null
          }
        },
        "18b4a86995bc4fef9fb40d9f648d5cc4": {
          "model_module": "@jupyter-widgets/controls",
          "model_name": "DescriptionStyleModel",
          "model_module_version": "1.5.0",
          "state": {
            "_model_module": "@jupyter-widgets/controls",
            "_model_module_version": "1.5.0",
            "_model_name": "DescriptionStyleModel",
            "_view_count": null,
            "_view_module": "@jupyter-widgets/base",
            "_view_module_version": "1.2.0",
            "_view_name": "StyleView",
            "description_width": ""
          }
        }
      }
    }
  },
  "cells": [
    {
      "cell_type": "markdown",
      "source": [
        "## Neural Networks for Data Science Applications (a.a. 2023-2024)\n",
        "### Lab session 3: Text classification with 1D CNNs (and transfer learning)\n",
        "\n",
        "**Contents**:\n",
        "1. Tokenizing and embedding text sentences.\n",
        "2. Training a 1D CNN.\n",
        "3. Transfer learning from a pre-trained sentence embedder.\n",
        "4. Visualizing the embeddings."
      ],
      "metadata": {
        "id": "NXOVyHCXItw8"
      }
    },
    {
      "cell_type": "code",
      "execution_count": null,
      "metadata": {
        "id": "z0oIO0Q_ggSm",
        "colab": {
          "base_uri": "https://localhost:8080/"
        },
        "outputId": "65331aca-be46-46dc-cd28-b78c9c2c75b7"
      },
      "outputs": [
        {
          "output_type": "stream",
          "name": "stdout",
          "text": [
            "\u001b[2K     \u001b[90m━━━━━━━━━━━━━━━━━━━━━━━━━━━━━━━━━━━━━━━━\u001b[0m \u001b[32m2.0/2.0 MB\u001b[0m \u001b[31m10.7 MB/s\u001b[0m eta \u001b[36m0:00:00\u001b[0m\n",
            "\u001b[?25h\u001b[31mERROR: pip's dependency resolver does not currently take into account all the packages that are installed. This behaviour is the source of the following dependency conflicts.\n",
            "llmx 0.0.15a0 requires cohere, which is not installed.\n",
            "llmx 0.0.15a0 requires openai, which is not installed.\u001b[0m\u001b[31m\n",
            "\u001b[0m"
          ]
        }
      ],
      "source": [
        "%pip install tiktoken --quiet"
      ]
    },
    {
      "cell_type": "code",
      "source": [
        "import tensorflow as tf\n",
        "import tensorflow_datasets as tfds\n",
        "import tiktoken"
      ],
      "metadata": {
        "id": "2PMaSKGog-5H"
      },
      "execution_count": null,
      "outputs": []
    },
    {
      "cell_type": "markdown",
      "source": [
        "### Step 1 - Data preprocessing (tokenization)"
      ],
      "metadata": {
        "id": "D5Dy_VGWhVIO"
      }
    },
    {
      "cell_type": "code",
      "source": [
        "# The dataset concerns a sentence classification task: https://www.tensorflow.org/datasets/catalog/trec\n",
        "data = tfds.load('trec')"
      ],
      "metadata": {
        "id": "MFux6CKGhRnN",
        "colab": {
          "base_uri": "https://localhost:8080/",
          "height": 168,
          "referenced_widgets": [
            "38adc6f3c29447b89ebe4bb1e324fd25",
            "5be13eaa2ec44396944b8590eeda59ec",
            "71a31430c9c9486297ece29a744d9201",
            "0fde60ceaec94e4e8d64f3fdb852c408",
            "edca32113ed94be18b363df31be297fb",
            "16f2cc9283cf4125a6d3c0a907816ea4",
            "7a5435c213ef493c96344bd47d206326",
            "1c6a84bb3bf14c468bbbfa152a715ff6",
            "b03e0ddf04d24d5d91849af382027aa8",
            "e9ecbd12b91f49a798eb0859bfc42cde",
            "0f118848e4cd4baa844d03c024f4bfb5",
            "30e554de25004118819dc6d98d2708d2",
            "4eaac44abf364db2a7339fe79218b353",
            "00fd352469d84f1dada1d066a27f2a1d",
            "46c7c5c2e9bb4382bffbacf6e02914b8",
            "42a4923c10f843caaf45ddfd68b8c73e",
            "2555fe9b8af245c48d990ff3d8d55efd",
            "fba23e0d4dea4e30892e5468236fb532",
            "dfeb08e2f3704c1c9318d2fd959b96bf",
            "12371f1fdbab44e188a3d8b0e243455b",
            "389aab71ef7d403ca29c6cdb0e97b5ea",
            "e2c40b5f66c24dd5aa3a70431cdc998d",
            "707f2332602f43cfb16167d324d11705",
            "f3a903e9df8c4e3a858b4d331fe04905",
            "6af64334cb8040a18e7cce1f28acbf1a",
            "3aa768be3dc548a4a5a89f9e9ff7d1a9",
            "9fc1fd8bdd5e43e1bb52aa64a1b71c0a",
            "6d2e04c8680b4613b1b5f352e8fc4f02",
            "75e8b1dac7af405fa90a9e7808ff1bc5",
            "7e8e101e20ab451f88893ad788baa770",
            "6b5eefe3b2994fda850e3a71c226ab33",
            "308a8e2918f24a5483cfa2067f95858c",
            "46bd2f3f39cd4952b9f3314e75b34c42",
            "eab26f966af4435290bdb365643422da",
            "649e046e155a4853a21fe0cedc8975f9",
            "f17ff6986bc64f40b155140b356c8d60",
            "3da2e46c507440788bc410ce03463e96",
            "c368167a10244b36ae157619b7d66b44",
            "23469620b678455e87c7dd71a3272096",
            "9ed816ee113e4f669b0c342f3e71a8ca",
            "fed241c8a1164e9d91a08be633713b76",
            "ccbee682f26e4dfea4313ab314b80099",
            "8ed70bfe0cb344088c2ed9e251103894",
            "870d8789664348cfa6c5747a4eae5be1",
            "f3ae83f95c984b5786fd79d76dd39449",
            "69e5a997a6db44c49f4dcf26109205a0",
            "3dc6539eb54c42afa3ed36d6463ad60b",
            "3676f4f05a094f10932a35468290397c",
            "b9d9e020e07a4b50ab4e2cba022e218f",
            "dde645ba70ba46f592f8927d61b89e71",
            "783b2b30b6264c139eda231bbd564d46",
            "5415432d919e499a90f4e5c9ef48c7fc",
            "6d40ccceb69341c197b517ef2b0f97ea",
            "378021fec23847aba6131fb7b8996521",
            "cc2fc1fae2df4e268752ef14dbc22ea2",
            "2d04617d1a8c49b2bd245051e5bdc51d",
            "e14a0835e9944e91a534342e694e4970",
            "3be50a9bb1994947bb990abb17f77835",
            "2127aafc91cc4306a6794bd19208ffec",
            "6b238e24a94a4e0abadcef069d65317a",
            "4bc5f1361c0b46d98fcf2de813b1febf",
            "414cf297d5bc4347943818c2401e5c0c",
            "64f499af19864c089894d7b2189cf71a",
            "769a1b47798e45068b6633b81eaaa293",
            "e5332a2e646649d58a316f2d1941814e",
            "421618c0153d4e8187920590ca9fa622",
            "f6081a08ef3d46658d4cac6b8a2213f8",
            "6a95d2a64e264688a87255e761ea614e",
            "fd237a4ea9e845229a4cb9e79c05f85a",
            "e5b9f26d97334e7582a75ec2f8940a05",
            "a49fb19e34ad48a5ad85fa6803528b1d",
            "0a3ecea0a3c04a7daaf129253a30871c",
            "a5ac081decff4b46ba63b8c7d195db0d",
            "e3942000eb0e48dfadc3a6d4fb2c1a1b",
            "8a5d8d4ca7df477ba73e46af9b36622a",
            "94777382d8044e8696aa8d9b02ac5422",
            "4867361c5f4a4a028e2eb8bf2733943c",
            "068ac04f8d9744acbbf7ba7dbebbab22",
            "5708a26ed0e64f748b0dbbca8292ba3e",
            "40021237fdcb44798cf0106a9d333041",
            "40834a3b68cc414fa5bd969321eab781",
            "6e86fe20f503486098e3b3ed95a9ddcb",
            "f34d9d1f40ed4a519b925fe9ed86ae96",
            "c91b65e7eaa54a09b71d58e1b3338b51",
            "6f3bdf69f4c149398178bd250e8eacee",
            "9b0cc5a58d5943b1a5cda0c9780659e0",
            "885dbe817bd2464c8c13a0cd2aa0906b",
            "18b4a86995bc4fef9fb40d9f648d5cc4"
          ]
        },
        "outputId": "4267366f-791b-4527-b31e-86e193d365ea"
      },
      "execution_count": null,
      "outputs": [
        {
          "output_type": "stream",
          "name": "stdout",
          "text": [
            "Downloading and preparing dataset 350.79 KiB (download: 350.79 KiB, generated: 636.90 KiB, total: 987.69 KiB) to /root/tensorflow_datasets/trec/1.0.0...\n"
          ]
        },
        {
          "output_type": "display_data",
          "data": {
            "text/plain": [
              "Dl Completed...: 0 url [00:00, ? url/s]"
            ],
            "application/vnd.jupyter.widget-view+json": {
              "version_major": 2,
              "version_minor": 0,
              "model_id": "38adc6f3c29447b89ebe4bb1e324fd25"
            }
          },
          "metadata": {}
        },
        {
          "output_type": "display_data",
          "data": {
            "text/plain": [
              "Dl Size...: 0 MiB [00:00, ? MiB/s]"
            ],
            "application/vnd.jupyter.widget-view+json": {
              "version_major": 2,
              "version_minor": 0,
              "model_id": "30e554de25004118819dc6d98d2708d2"
            }
          },
          "metadata": {}
        },
        {
          "output_type": "display_data",
          "data": {
            "text/plain": [
              "Extraction completed...: 0 file [00:00, ? file/s]"
            ],
            "application/vnd.jupyter.widget-view+json": {
              "version_major": 2,
              "version_minor": 0,
              "model_id": "707f2332602f43cfb16167d324d11705"
            }
          },
          "metadata": {}
        },
        {
          "output_type": "display_data",
          "data": {
            "text/plain": [
              "Generating splits...:   0%|          | 0/2 [00:00<?, ? splits/s]"
            ],
            "application/vnd.jupyter.widget-view+json": {
              "version_major": 2,
              "version_minor": 0,
              "model_id": "eab26f966af4435290bdb365643422da"
            }
          },
          "metadata": {}
        },
        {
          "output_type": "display_data",
          "data": {
            "text/plain": [
              "Generating train examples...:   0%|          | 0/5452 [00:00<?, ? examples/s]"
            ],
            "application/vnd.jupyter.widget-view+json": {
              "version_major": 2,
              "version_minor": 0,
              "model_id": "f3ae83f95c984b5786fd79d76dd39449"
            }
          },
          "metadata": {}
        },
        {
          "output_type": "display_data",
          "data": {
            "text/plain": [
              "Shuffling /root/tensorflow_datasets/trec/1.0.0.incompleteKF0MWI/trec-train.tfrecord*...:   0%|          | 0/54…"
            ],
            "application/vnd.jupyter.widget-view+json": {
              "version_major": 2,
              "version_minor": 0,
              "model_id": "2d04617d1a8c49b2bd245051e5bdc51d"
            }
          },
          "metadata": {}
        },
        {
          "output_type": "display_data",
          "data": {
            "text/plain": [
              "Generating test examples...:   0%|          | 0/500 [00:00<?, ? examples/s]"
            ],
            "application/vnd.jupyter.widget-view+json": {
              "version_major": 2,
              "version_minor": 0,
              "model_id": "f6081a08ef3d46658d4cac6b8a2213f8"
            }
          },
          "metadata": {}
        },
        {
          "output_type": "display_data",
          "data": {
            "text/plain": [
              "Shuffling /root/tensorflow_datasets/trec/1.0.0.incompleteKF0MWI/trec-test.tfrecord*...:   0%|          | 0/500…"
            ],
            "application/vnd.jupyter.widget-view+json": {
              "version_major": 2,
              "version_minor": 0,
              "model_id": "068ac04f8d9744acbbf7ba7dbebbab22"
            }
          },
          "metadata": {}
        },
        {
          "output_type": "stream",
          "name": "stdout",
          "text": [
            "Dataset trec downloaded and prepared to /root/tensorflow_datasets/trec/1.0.0. Subsequent calls will reuse this data.\n"
          ]
        }
      ]
    },
    {
      "cell_type": "code",
      "source": [
        "train_data = data['train']\n",
        "test_data = data['test']"
      ],
      "metadata": {
        "id": "KLKqy3YvhqWf"
      },
      "execution_count": null,
      "outputs": []
    },
    {
      "cell_type": "code",
      "source": [
        "el = next(iter(train_data))"
      ],
      "metadata": {
        "id": "ExhEkbR-h1r4"
      },
      "execution_count": null,
      "outputs": []
    },
    {
      "cell_type": "code",
      "source": [
        "# For the purpose of this lab, we will use the coarse label (7 possible classes).\n",
        "el"
      ],
      "metadata": {
        "colab": {
          "base_uri": "https://localhost:8080/"
        },
        "id": "Qdg4zxnpiMtH",
        "outputId": "79bb03df-21cd-4c60-fc6c-37c58d17994c"
      },
      "execution_count": null,
      "outputs": [
        {
          "output_type": "execute_result",
          "data": {
            "text/plain": [
              "{'label-coarse': <tf.Tensor: shape=(), dtype=int64, numpy=3>,\n",
              " 'label-fine': <tf.Tensor: shape=(), dtype=int64, numpy=4>,\n",
              " 'text': <tf.Tensor: shape=(), dtype=string, numpy=b'Who was Camp David named for ?'>}"
            ]
          },
          "metadata": {},
          "execution_count": 6
        }
      ]
    },
    {
      "cell_type": "code",
      "source": [
        "# tiktoken (https://github.com/openai/tiktoken) is an open-source implementation\n",
        "# of the OpenAI tokenizer. We use here the small tokenizer (approx. 50k possible tokens).\n",
        "enc = tiktoken.get_encoding('r50k_base')"
      ],
      "metadata": {
        "id": "BMkINZKaiTIY"
      },
      "execution_count": null,
      "outputs": []
    },
    {
      "cell_type": "code",
      "source": [
        "enc.n_vocab"
      ],
      "metadata": {
        "colab": {
          "base_uri": "https://localhost:8080/"
        },
        "id": "px8DfezEjX0Q",
        "outputId": "eff7fd69-eacf-4014-c72f-51e9c34d8216"
      },
      "execution_count": null,
      "outputs": [
        {
          "output_type": "execute_result",
          "data": {
            "text/plain": [
              "50257"
            ]
          },
          "metadata": {},
          "execution_count": 8
        }
      ]
    },
    {
      "cell_type": "code",
      "source": [
        "# Tokenize a sentence into a sequence of token IDs.\n",
        "enc.encode('What is the weather today?')"
      ],
      "metadata": {
        "colab": {
          "base_uri": "https://localhost:8080/"
        },
        "id": "XeJPP81hjktz",
        "outputId": "e68913e7-00f7-4228-fdbf-dc32a99b7628"
      },
      "execution_count": null,
      "outputs": [
        {
          "output_type": "execute_result",
          "data": {
            "text/plain": [
              "[2061, 318, 262, 6193, 1909, 30]"
            ]
          },
          "metadata": {},
          "execution_count": 9
        }
      ]
    },
    {
      "cell_type": "code",
      "source": [
        "def preprocess(el):\n",
        "  # Transform the dataset into an (x,y) format.\n",
        "  return el['text'], el['label-coarse']"
      ],
      "metadata": {
        "id": "Ec4b1Nsknz8p"
      },
      "execution_count": null,
      "outputs": []
    },
    {
      "cell_type": "code",
      "source": [
        "# To convert our data into strings, we first extract the NumPy representation (byte strings),\n",
        "# before decoding to the correct text format.\n",
        "el['text'].numpy().decode('utf8')"
      ],
      "metadata": {
        "colab": {
          "base_uri": "https://localhost:8080/",
          "height": 35
        },
        "id": "4sie5QWpjqnv",
        "outputId": "59d5daae-e9b3-48a6-c6bc-90ba12607672"
      },
      "execution_count": null,
      "outputs": [
        {
          "output_type": "execute_result",
          "data": {
            "text/plain": [
              "'Who was Camp David named for ?'"
            ],
            "application/vnd.google.colaboratory.intrinsic+json": {
              "type": "string"
            }
          },
          "metadata": {},
          "execution_count": 10
        }
      ]
    },
    {
      "cell_type": "code",
      "source": [
        "# py_function is needed to convert our function to something compatible with\n",
        "# tf.data (since tiktoken is not TensorFlow).\n",
        "@tf.py_function(name='tokenize', Tout=(tf.int32, tf.int64))\n",
        "def tokenize(text, label):\n",
        "  text = text.numpy().decode('utf8')\n",
        "  tokens = enc.encode(text)\n",
        "  return tf.convert_to_tensor(tokens), label"
      ],
      "metadata": {
        "id": "Hl5Y1dQjkFUb"
      },
      "execution_count": null,
      "outputs": []
    },
    {
      "cell_type": "code",
      "source": [
        "for x, y in train_data.map(preprocess).shuffle(1000).map(tokenize):\n",
        "  print(x)\n",
        "  print(y)\n",
        "  break"
      ],
      "metadata": {
        "colab": {
          "base_uri": "https://localhost:8080/"
        },
        "id": "Uszw7Zt0lhoZ",
        "outputId": "9f7881c8-c199-4931-9427-bdb1583b85f3"
      },
      "execution_count": null,
      "outputs": [
        {
          "output_type": "stream",
          "name": "stdout",
          "text": [
            "tf.Tensor([ 2437   318   262  1573  4600 10662   328   506   705 16293  5633], shape=(11,), dtype=int32)\n",
            "tf.Tensor(0, shape=(), dtype=int64)\n"
          ]
        }
      ]
    },
    {
      "cell_type": "code",
      "source": [
        "# We only need to run the tokenization step once, so we can cache the result on disk\n",
        "# to avoid unnecessary recomputations.\n",
        "train_data_p = train_data.map(preprocess).map(tokenize).cache()\n",
        "test_data_p = test_data.map(preprocess).map(tokenize).cache()"
      ],
      "metadata": {
        "id": "pkQl6MDBniDH"
      },
      "execution_count": null,
      "outputs": []
    },
    {
      "cell_type": "code",
      "source": [
        "for xb, yb in train_data_p.shuffle(1000).padded_batch(4, padded_shapes=([None], [])):\n",
        "  # Build a mini-batch, by zero-padding to the largest sentence in the mini-batch\n",
        "  # (try to run multiple times and see how the output changes).\n",
        "  print(xb)\n",
        "  print(yb)\n",
        "  break"
      ],
      "metadata": {
        "colab": {
          "base_uri": "https://localhost:8080/"
        },
        "id": "bIP7lFEIqgjc",
        "outputId": "98e5cdf9-0b27-4cd2-8e41-7fe975e0f24f"
      },
      "execution_count": null,
      "outputs": [
        {
          "output_type": "stream",
          "name": "stdout",
          "text": [
            "tf.Tensor(\n",
            "[[ 2061   318 12963 39148   705    82  1336  1438  5633     0     0     0\n",
            "      0     0]\n",
            " [ 2061  1499  2497   262  8159   286   262  7740 34070  5633     0     0\n",
            "      0     0]\n",
            " [ 8241  6928 22108 20604   355   262  2583   286   383  4544  2253  7873\n",
            "    415  5633]\n",
            " [ 2061   318   262  3139   286 36421  5633     0     0     0     0     0\n",
            "      0     0]], shape=(4, 14), dtype=int32)\n",
            "tf.Tensor([3 5 3 5], shape=(4,), dtype=int64)\n"
          ]
        }
      ]
    },
    {
      "cell_type": "markdown",
      "source": [
        "### Step 2 - Playing with layers"
      ],
      "metadata": {
        "id": "sJE2oWmd0P75"
      }
    },
    {
      "cell_type": "code",
      "source": [
        "from tensorflow.keras import layers"
      ],
      "metadata": {
        "id": "IOW1x8wk0Jh6"
      },
      "execution_count": null,
      "outputs": []
    },
    {
      "cell_type": "markdown",
      "source": [
        "#### 2a: Embedding"
      ],
      "metadata": {
        "id": "YXF4ji9bKJbN"
      }
    },
    {
      "cell_type": "code",
      "source": [
        "emb = layers.Embedding(50_000, 6)"
      ],
      "metadata": {
        "id": "3eqLcKRY0rSB"
      },
      "execution_count": null,
      "outputs": []
    },
    {
      "cell_type": "code",
      "source": [
        "# Each token is converted to a 6-dimensional vector.\n",
        "emb(xb).shape"
      ],
      "metadata": {
        "colab": {
          "base_uri": "https://localhost:8080/"
        },
        "id": "XlRlj9V_1Tll",
        "outputId": "50988efa-5231-478c-a854-fa0e43070d85"
      },
      "execution_count": null,
      "outputs": [
        {
          "output_type": "execute_result",
          "data": {
            "text/plain": [
              "TensorShape([4, 14, 6])"
            ]
          },
          "metadata": {},
          "execution_count": 18
        }
      ]
    },
    {
      "cell_type": "code",
      "source": [
        "for p in emb.trainable_variables:\n",
        "  # The parameters is a (tokens x embedding_dimension) matrix.\n",
        "  print(p.shape)"
      ],
      "metadata": {
        "colab": {
          "base_uri": "https://localhost:8080/"
        },
        "id": "iJieQV6i1dYf",
        "outputId": "972a1f0f-2b69-4663-8988-e15f60ce62a4"
      },
      "execution_count": null,
      "outputs": [
        {
          "output_type": "stream",
          "name": "stdout",
          "text": [
            "(50000, 6)\n"
          ]
        }
      ]
    },
    {
      "cell_type": "markdown",
      "source": [
        "#### 2b: Dropout"
      ],
      "metadata": {
        "id": "wuLC4I3pKhTc"
      }
    },
    {
      "cell_type": "code",
      "source": [
        "# The input is the probability of masking an element.\n",
        "drop = layers.Dropout(0.75)"
      ],
      "metadata": {
        "id": "lfYkElSt2Ki2"
      },
      "execution_count": null,
      "outputs": []
    },
    {
      "cell_type": "code",
      "source": [
        "x = tf.random.normal((3, 2))\n",
        "print(x)"
      ],
      "metadata": {
        "colab": {
          "base_uri": "https://localhost:8080/"
        },
        "id": "W8ukkxl-2mjW",
        "outputId": "13f9f08b-c802-4754-f7c3-1bab6584805e"
      },
      "execution_count": null,
      "outputs": [
        {
          "output_type": "stream",
          "name": "stdout",
          "text": [
            "tf.Tensor(\n",
            "[[ 0.0985296  -0.63593316]\n",
            " [ 0.15297675  0.028723  ]\n",
            " [-0.47992012  0.6675854 ]], shape=(3, 2), dtype=float32)\n"
          ]
        }
      ]
    },
    {
      "cell_type": "code",
      "source": [
        "# By default, the layer works in \"evaluation mode\", i.e., it does nothing.\n",
        "drop(x)"
      ],
      "metadata": {
        "colab": {
          "base_uri": "https://localhost:8080/"
        },
        "id": "WtDDDpki2wNn",
        "outputId": "20dbb90e-6188-4983-ef31-5ed17dec33d4"
      },
      "execution_count": null,
      "outputs": [
        {
          "output_type": "execute_result",
          "data": {
            "text/plain": [
              "<tf.Tensor: shape=(3, 2), dtype=float32, numpy=\n",
              "array([[ 0.0985296 , -0.63593316],\n",
              "       [ 0.15297675,  0.028723  ],\n",
              "       [-0.47992012,  0.6675854 ]], dtype=float32)>"
            ]
          },
          "metadata": {},
          "execution_count": 23
        }
      ]
    },
    {
      "cell_type": "code",
      "source": [
        "# Note that unmasked values are multiplied by 1/(1-p).\n",
        "drop(x, training=True)"
      ],
      "metadata": {
        "colab": {
          "base_uri": "https://localhost:8080/"
        },
        "id": "4ZrXJc9426qo",
        "outputId": "4d4e0a49-f000-4f79-e061-a11814a6d3ce"
      },
      "execution_count": null,
      "outputs": [
        {
          "output_type": "execute_result",
          "data": {
            "text/plain": [
              "<tf.Tensor: shape=(3, 2), dtype=float32, numpy=\n",
              "array([[ 0.       ,  0.       ],\n",
              "       [ 0.611907 ,  0.       ],\n",
              "       [-1.9196805,  2.6703415]], dtype=float32)>"
            ]
          },
          "metadata": {},
          "execution_count": 24
        }
      ]
    },
    {
      "cell_type": "markdown",
      "source": [
        "#### 2c: Batch normalization"
      ],
      "metadata": {
        "id": "mqwoQJmvKsQK"
      }
    },
    {
      "cell_type": "code",
      "source": [
        "bn = layers.BatchNormalization()"
      ],
      "metadata": {
        "id": "BcDiFaWD4ePg"
      },
      "execution_count": null,
      "outputs": []
    },
    {
      "cell_type": "code",
      "source": [
        "# Construct the parameters of the layers without calling it.\n",
        "bn.build((None, 2))"
      ],
      "metadata": {
        "id": "h_M6c_vg3EyI"
      },
      "execution_count": null,
      "outputs": []
    },
    {
      "cell_type": "code",
      "source": [
        "# The parameters are the scale and shift factors applied to the normalized inputs (alpha and beta in the slides).\n",
        "for p in bn.trainable_variables:\n",
        "  print(p)"
      ],
      "metadata": {
        "colab": {
          "base_uri": "https://localhost:8080/"
        },
        "id": "11vHvzIc5nuM",
        "outputId": "2e0eb858-92ab-4eb6-f0bc-a16c5dcb81c3"
      },
      "execution_count": null,
      "outputs": [
        {
          "output_type": "stream",
          "name": "stdout",
          "text": [
            "<tf.Variable 'gamma:0' shape=(2,) dtype=float32, numpy=array([1., 1.], dtype=float32)>\n",
            "<tf.Variable 'beta:0' shape=(2,) dtype=float32, numpy=array([0., 0.], dtype=float32)>\n"
          ]
        }
      ]
    },
    {
      "cell_type": "code",
      "source": [
        "# The non-trainable parameters are the running mean and the running variance of the model.\n",
        "for p in bn.non_trainable_variables:\n",
        "  print(p)"
      ],
      "metadata": {
        "colab": {
          "base_uri": "https://localhost:8080/"
        },
        "id": "PGOkgAId537F",
        "outputId": "b97806a6-1fc2-4e06-fa5c-a91ede26eb34"
      },
      "execution_count": null,
      "outputs": [
        {
          "output_type": "stream",
          "name": "stdout",
          "text": [
            "<tf.Variable 'moving_mean:0' shape=(2,) dtype=float32, numpy=array([0., 0.], dtype=float32)>\n",
            "<tf.Variable 'moving_variance:0' shape=(2,) dtype=float32, numpy=array([1., 1.], dtype=float32)>\n"
          ]
        }
      ]
    },
    {
      "cell_type": "code",
      "source": [
        "tf.reduce_mean(x, 0)"
      ],
      "metadata": {
        "colab": {
          "base_uri": "https://localhost:8080/"
        },
        "id": "-1Y-YgCU7ARl",
        "outputId": "5e653d48-b6d5-460d-fe2a-d59e36ee8dc2"
      },
      "execution_count": null,
      "outputs": [
        {
          "output_type": "execute_result",
          "data": {
            "text/plain": [
              "<tf.Tensor: shape=(2,), dtype=float32, numpy=array([-0.07613792,  0.02012507], dtype=float32)>"
            ]
          },
          "metadata": {},
          "execution_count": 29
        }
      ]
    },
    {
      "cell_type": "code",
      "source": [
        "bn(x, training=True)"
      ],
      "metadata": {
        "colab": {
          "base_uri": "https://localhost:8080/"
        },
        "id": "wI_9RFF46SPJ",
        "outputId": "4c63251f-753e-4370-dfe2-8bcd352cf3dc"
      },
      "execution_count": null,
      "outputs": [
        {
          "output_type": "execute_result",
          "data": {
            "text/plain": [
              "<tf.Tensor: shape=(3, 2), dtype=float32, numpy=\n",
              "array([[ 0.09848037, -0.6356154 ],\n",
              "       [ 0.15290031,  0.02870865],\n",
              "       [-0.47968033,  0.6672518 ]], dtype=float32)>"
            ]
          },
          "metadata": {},
          "execution_count": 30
        }
      ]
    },
    {
      "cell_type": "code",
      "source": [
        "# Try with training=True and training=False, and check how the mean and the non-trainable\n",
        "# variables are being modified.\n",
        "tf.reduce_mean(bn(x, training=True), 0)"
      ],
      "metadata": {
        "colab": {
          "base_uri": "https://localhost:8080/"
        },
        "id": "PjegHuUH6kzC",
        "outputId": "64d83958-76d1-484d-8f0c-3e7410762a80"
      },
      "execution_count": null,
      "outputs": [
        {
          "output_type": "execute_result",
          "data": {
            "text/plain": [
              "<tf.Tensor: shape=(2,), dtype=float32, numpy=array([-0.07609988,  0.02011502], dtype=float32)>"
            ]
          },
          "metadata": {},
          "execution_count": 31
        }
      ]
    },
    {
      "cell_type": "markdown",
      "source": [
        "#### 2d: Regularizers"
      ],
      "metadata": {
        "id": "C46Gl_8FLDgF"
      }
    },
    {
      "cell_type": "code",
      "source": [
        "from tensorflow.keras import regularizers"
      ],
      "metadata": {
        "id": "F3SDBcsO70RE"
      },
      "execution_count": null,
      "outputs": []
    },
    {
      "cell_type": "code",
      "source": [
        "# Compute the regularization value on a single parameter.\n",
        "regularizers.L2(0.001)(bn.trainable_variables[0])\n",
        "# loss + regularizers.L2 ..."
      ],
      "metadata": {
        "colab": {
          "base_uri": "https://localhost:8080/"
        },
        "id": "3P-GTavi72Mv",
        "outputId": "f81f714d-ba71-49b6-e194-e0b33bc82d94"
      },
      "execution_count": null,
      "outputs": [
        {
          "output_type": "execute_result",
          "data": {
            "text/plain": [
              "<tf.Tensor: shape=(), dtype=float32, numpy=0.002>"
            ]
          },
          "metadata": {},
          "execution_count": 33
        }
      ]
    },
    {
      "cell_type": "code",
      "source": [
        "# Apply the regularizer (only valid for fit()).\n",
        "layers.BatchNormalization(beta_regularizer=regularizers.L2(0.001))"
      ],
      "metadata": {
        "colab": {
          "base_uri": "https://localhost:8080/"
        },
        "id": "a93WyKUH8JUy",
        "outputId": "0d3823c4-9400-4570-902e-b4772872e466"
      },
      "execution_count": null,
      "outputs": [
        {
          "output_type": "execute_result",
          "data": {
            "text/plain": [
              "<keras.src.layers.normalization.batch_normalization.BatchNormalization at 0x7de4ff5f3220>"
            ]
          },
          "metadata": {},
          "execution_count": 34
        }
      ]
    },
    {
      "cell_type": "markdown",
      "source": [
        "### Step 3 - Building the model"
      ],
      "metadata": {
        "id": "lk7LnPBm9YYX"
      }
    },
    {
      "cell_type": "code",
      "source": [
        "class TextClassifier(tf.keras.Model):\n",
        "    def __init__(self):\n",
        "        super().__init__()\n",
        "        # This is a simple model composed of 3 convolutional blocks (Conv1d - BatchNorm - MaxPool),\n",
        "        # followed by global average pooling and one or more fully-connected layers.\n",
        "        self.emb = layers.Embedding(50_000, 4)\n",
        "        self.conv1 = layers.Conv1D(32, 5, padding='same')\n",
        "        self.conv2 = layers.Conv1D(64, 5, padding='same')\n",
        "        self.conv3 = layers.Conv1D(128, 5, padding='same')\n",
        "        self.bn1 = layers.BatchNormalization()\n",
        "        self.bn2 = layers.BatchNormalization()\n",
        "        self.bn3 = layers.BatchNormalization()\n",
        "        self.max_pool = layers.MaxPool1D(2)\n",
        "        self.global_pool = layers.GlobalAvgPool1D()\n",
        "        self.drop = layers.Dropout(0.3)\n",
        "        self.dense = layers.Dense(7)\n",
        "\n",
        "    def call(self, x, training=False):\n",
        "        # x has shape (None, max_seq_len)\n",
        "        x = self.emb(x)                         # (None, max_seq_len, 4)\n",
        "        x = tf.nn.relu(self.bn1(self.conv1(x),\n",
        "                                training=training)) # (None, max_seq_len, 32)\n",
        "        x = self.max_pool(x)                    # (None, max_seq_len/2, 32)\n",
        "        x = tf.nn.relu(self.bn2(self.conv2(x),\n",
        "                                training=training))\n",
        "        x = self.max_pool(x)\n",
        "        x = tf.nn.relu(self.bn3(self.conv3(x),\n",
        "                                training=training)) # (None, max_seq_len/4, 128)\n",
        "        x = self.global_pool(x)                 # (None, 128)\n",
        "        x = self.drop(x, training=training)\n",
        "        return self.dense(x)                    # (None, 7)"
      ],
      "metadata": {
        "id": "diIy-8GE8jaw"
      },
      "execution_count": null,
      "outputs": []
    },
    {
      "cell_type": "code",
      "source": [
        "cnn = TextClassifier()"
      ],
      "metadata": {
        "id": "tNBnh-4nEK8I"
      },
      "execution_count": null,
      "outputs": []
    },
    {
      "cell_type": "code",
      "source": [
        "cnn(xb).shape"
      ],
      "metadata": {
        "colab": {
          "base_uri": "https://localhost:8080/"
        },
        "id": "UbYW-HH6DhXe",
        "outputId": "d9fa9339-a742-43c4-b403-3ee5960e2d65"
      },
      "execution_count": null,
      "outputs": [
        {
          "output_type": "execute_result",
          "data": {
            "text/plain": [
              "TensorShape([4, 7])"
            ]
          },
          "metadata": {},
          "execution_count": 37
        }
      ]
    },
    {
      "cell_type": "code",
      "source": [
        "cnn.summary()"
      ],
      "metadata": {
        "colab": {
          "base_uri": "https://localhost:8080/"
        },
        "id": "fBaLDdYQFvwe",
        "outputId": "9b0f663b-5435-4503-e2d9-fe3a171c7020"
      },
      "execution_count": null,
      "outputs": [
        {
          "output_type": "stream",
          "name": "stdout",
          "text": [
            "Model: \"text_classifier\"\n",
            "_________________________________________________________________\n",
            " Layer (type)                Output Shape              Param #   \n",
            "=================================================================\n",
            " embedding_1 (Embedding)     multiple                  200000    \n",
            "                                                                 \n",
            " conv1d (Conv1D)             multiple                  672       \n",
            "                                                                 \n",
            " conv1d_1 (Conv1D)           multiple                  10304     \n",
            "                                                                 \n",
            " conv1d_2 (Conv1D)           multiple                  41088     \n",
            "                                                                 \n",
            " batch_normalization_2 (Bat  multiple                  128       \n",
            " chNormalization)                                                \n",
            "                                                                 \n",
            " batch_normalization_3 (Bat  multiple                  256       \n",
            " chNormalization)                                                \n",
            "                                                                 \n",
            " batch_normalization_4 (Bat  multiple                  512       \n",
            " chNormalization)                                                \n",
            "                                                                 \n",
            " max_pooling1d (MaxPooling1  multiple                  0         \n",
            " D)                                                              \n",
            "                                                                 \n",
            " global_average_pooling1d (  multiple                  0         \n",
            " GlobalAveragePooling1D)                                         \n",
            "                                                                 \n",
            " dropout_1 (Dropout)         multiple                  0         \n",
            "                                                                 \n",
            " dense (Dense)               multiple                  903       \n",
            "                                                                 \n",
            "=================================================================\n",
            "Total params: 253863 (991.65 KB)\n",
            "Trainable params: 253415 (989.90 KB)\n",
            "Non-trainable params: 448 (1.75 KB)\n",
            "_________________________________________________________________\n"
          ]
        }
      ]
    },
    {
      "cell_type": "markdown",
      "source": [
        "### Step 4 - Training the model"
      ],
      "metadata": {
        "id": "5G4PO-mcFCKd"
      }
    },
    {
      "cell_type": "code",
      "source": [
        "from tensorflow.keras import losses, metrics, optimizers, callbacks"
      ],
      "metadata": {
        "id": "Tcc5K8HyEd8Z"
      },
      "execution_count": null,
      "outputs": []
    },
    {
      "cell_type": "code",
      "source": [
        "loss = losses.SparseCategoricalCrossentropy(from_logits=True)\n",
        "metrics = [metrics.SparseCategoricalAccuracy()]\n",
        "optimizer = optimizers.Adam()"
      ],
      "metadata": {
        "id": "CfhWKsfMFHlQ"
      },
      "execution_count": null,
      "outputs": []
    },
    {
      "cell_type": "code",
      "source": [
        "cnn.compile(loss=loss, metrics=metrics, optimizer=optimizer)"
      ],
      "metadata": {
        "id": "CNptA0XZHbFG"
      },
      "execution_count": null,
      "outputs": []
    },
    {
      "cell_type": "code",
      "source": [
        "cnn.evaluate(test_data_p.padded_batch(32, padded_shapes=([None], [])))"
      ],
      "metadata": {
        "colab": {
          "base_uri": "https://localhost:8080/"
        },
        "id": "2KNYlneNHjUu",
        "outputId": "601130f5-08cc-4fdc-a002-cdb9166a289f"
      },
      "execution_count": null,
      "outputs": [
        {
          "output_type": "stream",
          "name": "stdout",
          "text": [
            "16/16 [==============================] - 2s 44ms/step - loss: 1.9463 - sparse_categorical_accuracy: 0.1320\n"
          ]
        },
        {
          "output_type": "execute_result",
          "data": {
            "text/plain": [
              "[1.9462552070617676, 0.13199999928474426]"
            ]
          },
          "metadata": {},
          "execution_count": 42
        }
      ]
    },
    {
      "cell_type": "code",
      "source": [
        "# Callbacks add additional functionalities to the training procedure.\n",
        "# Check out the full list here: https://www.tensorflow.org/api_docs/python/tf/keras/callbacks/Callback\n",
        "es = callbacks.EarlyStopping(monitor='val_sparse_categorical_accuracy',\n",
        "                             patience=5,\n",
        "                             restore_best_weights=True)"
      ],
      "metadata": {
        "id": "xZq1BMd2IDM-"
      },
      "execution_count": null,
      "outputs": []
    },
    {
      "cell_type": "code",
      "source": [
        "cnn.fit(train_data_p.shuffle(1000).padded_batch(32, padded_shapes=([None], [])),\n",
        "        validation_data=test_data_p.padded_batch(32, padded_shapes=([None], [])),\n",
        "        epochs=10_000,\n",
        "        callbacks=[es])"
      ],
      "metadata": {
        "colab": {
          "base_uri": "https://localhost:8080/"
        },
        "id": "Oh7lhKF_H3FK",
        "outputId": "234ba4a6-4b59-4b3d-b749-da4e3e8048e0"
      },
      "execution_count": null,
      "outputs": [
        {
          "output_type": "stream",
          "name": "stdout",
          "text": [
            "Epoch 1/10000\n",
            "171/171 [==============================] - 21s 88ms/step - loss: 1.3427 - sparse_categorical_accuracy: 0.4653 - val_loss: 2.0555 - val_sparse_categorical_accuracy: 0.1300\n",
            "Epoch 2/10000\n",
            "171/171 [==============================] - 4s 21ms/step - loss: 0.6710 - sparse_categorical_accuracy: 0.7652 - val_loss: 2.0065 - val_sparse_categorical_accuracy: 0.2920\n",
            "Epoch 3/10000\n",
            "171/171 [==============================] - 2s 14ms/step - loss: 0.3253 - sparse_categorical_accuracy: 0.8953 - val_loss: 1.2444 - val_sparse_categorical_accuracy: 0.5740\n",
            "Epoch 4/10000\n",
            "171/171 [==============================] - 2s 9ms/step - loss: 0.1478 - sparse_categorical_accuracy: 0.9573 - val_loss: 0.9727 - val_sparse_categorical_accuracy: 0.7280\n",
            "Epoch 5/10000\n",
            "171/171 [==============================] - 3s 18ms/step - loss: 0.0763 - sparse_categorical_accuracy: 0.9824 - val_loss: 0.8607 - val_sparse_categorical_accuracy: 0.7840\n",
            "Epoch 6/10000\n",
            "171/171 [==============================] - 2s 11ms/step - loss: 0.0430 - sparse_categorical_accuracy: 0.9888 - val_loss: 0.9156 - val_sparse_categorical_accuracy: 0.8200\n",
            "Epoch 7/10000\n",
            "171/171 [==============================] - 2s 10ms/step - loss: 0.0274 - sparse_categorical_accuracy: 0.9939 - val_loss: 1.1152 - val_sparse_categorical_accuracy: 0.7900\n",
            "Epoch 8/10000\n",
            "171/171 [==============================] - 2s 10ms/step - loss: 0.0277 - sparse_categorical_accuracy: 0.9938 - val_loss: 1.2533 - val_sparse_categorical_accuracy: 0.7780\n",
            "Epoch 9/10000\n",
            "171/171 [==============================] - 1s 7ms/step - loss: 0.0229 - sparse_categorical_accuracy: 0.9939 - val_loss: 1.1288 - val_sparse_categorical_accuracy: 0.8140\n",
            "Epoch 10/10000\n",
            "171/171 [==============================] - 2s 9ms/step - loss: 0.0207 - sparse_categorical_accuracy: 0.9947 - val_loss: 1.2628 - val_sparse_categorical_accuracy: 0.7780\n",
            "Epoch 11/10000\n",
            "171/171 [==============================] - 2s 12ms/step - loss: 0.0198 - sparse_categorical_accuracy: 0.9949 - val_loss: 1.1573 - val_sparse_categorical_accuracy: 0.7980\n"
          ]
        },
        {
          "output_type": "execute_result",
          "data": {
            "text/plain": [
              "<keras.src.callbacks.History at 0x7de4dc6010f0>"
            ]
          },
          "metadata": {},
          "execution_count": 44
        }
      ]
    },
    {
      "cell_type": "markdown",
      "source": [
        "### Step 5: Transfer learning"
      ],
      "metadata": {
        "id": "MuAG1VgFLbne"
      }
    },
    {
      "cell_type": "code",
      "source": [
        "%pip install tensorflow_text --quiet"
      ],
      "metadata": {
        "colab": {
          "base_uri": "https://localhost:8080/"
        },
        "id": "e9AbqvkgUORZ",
        "outputId": "c1738702-9e83-4bc1-dc7e-e2a42a57e4a7"
      },
      "execution_count": null,
      "outputs": [
        {
          "output_type": "stream",
          "name": "stdout",
          "text": [
            "\u001b[2K     \u001b[90m━━━━━━━━━━━━━━━━━━━━━━━━━━━━━━━━━━━━━━━━\u001b[0m \u001b[32m5.2/5.2 MB\u001b[0m \u001b[31m56.8 MB/s\u001b[0m eta \u001b[36m0:00:00\u001b[0m\n",
            "\u001b[2K     \u001b[90m━━━━━━━━━━━━━━━━━━━━━━━━━━━━━━━━━━━━━━━━\u001b[0m \u001b[32m475.2/475.2 MB\u001b[0m \u001b[31m1.2 MB/s\u001b[0m eta \u001b[36m0:00:00\u001b[0m\n",
            "\u001b[2K     \u001b[90m━━━━━━━━━━━━━━━━━━━━━━━━━━━━━━━━━━━━━━━━\u001b[0m \u001b[32m5.5/5.5 MB\u001b[0m \u001b[31m110.3 MB/s\u001b[0m eta \u001b[36m0:00:00\u001b[0m\n",
            "\u001b[2K     \u001b[90m━━━━━━━━━━━━━━━━━━━━━━━━━━━━━━━━━━━━━━━━\u001b[0m \u001b[32m442.0/442.0 kB\u001b[0m \u001b[31m41.7 MB/s\u001b[0m eta \u001b[36m0:00:00\u001b[0m\n",
            "\u001b[2K     \u001b[90m━━━━━━━━━━━━━━━━━━━━━━━━━━━━━━━━━━━━━━━━\u001b[0m \u001b[32m1.7/1.7 MB\u001b[0m \u001b[31m94.1 MB/s\u001b[0m eta \u001b[36m0:00:00\u001b[0m\n",
            "\u001b[?25h"
          ]
        }
      ]
    },
    {
      "cell_type": "code",
      "source": [
        "import tensorflow_text\n",
        "import tensorflow_hub as tfhub"
      ],
      "metadata": {
        "id": "MWGe_YhPTtLn"
      },
      "execution_count": null,
      "outputs": []
    },
    {
      "cell_type": "code",
      "source": [
        "# Download a pre-trained sentence embedding network from the hub:\n",
        "# https://www.kaggle.com/models/google/nnlm/frameworks/TensorFlow2/variations/en-dim128/versions/1\n",
        "embedder = tfhub.KerasLayer(\n",
        "    \"https://www.kaggle.com/models/google/nnlm/frameworks/TensorFlow2/variations/en-dim128/versions/1\")"
      ],
      "metadata": {
        "id": "23lAbY9wTvL0"
      },
      "execution_count": null,
      "outputs": []
    },
    {
      "cell_type": "code",
      "source": [
        "text = tf.constant(['What is the weather?'])"
      ],
      "metadata": {
        "id": "-4sWBTAHUs2O"
      },
      "execution_count": null,
      "outputs": []
    },
    {
      "cell_type": "code",
      "source": [
        "embedder(text)"
      ],
      "metadata": {
        "colab": {
          "base_uri": "https://localhost:8080/"
        },
        "id": "qGCym1l1U_Jj",
        "outputId": "b94ec6d2-1c3b-4b63-be05-d15e50dbad15"
      },
      "execution_count": null,
      "outputs": [
        {
          "output_type": "execute_result",
          "data": {
            "text/plain": [
              "<tf.Tensor: shape=(1, 128), dtype=float32, numpy=\n",
              "array([[ 0.2625199 ,  0.0655278 , -0.03559397,  0.05916893, -0.06252968,\n",
              "        -0.11400567, -0.01118497, -0.09423669, -0.0154704 ,  0.01580296,\n",
              "         0.07717817, -0.12524146, -0.04622058, -0.05460491,  0.05132222,\n",
              "         0.04918185,  0.1659416 ,  0.05348625, -0.1531514 ,  0.38159302,\n",
              "        -0.03752544, -0.03765873,  0.15985799,  0.03962875, -0.0772755 ,\n",
              "         0.14130831, -0.1802341 ,  0.03392623, -0.05066182,  0.12486257,\n",
              "         0.08414268, -0.07169367, -0.0294523 , -0.09322049, -0.07138393,\n",
              "        -0.00666364,  0.05540091,  0.08182998, -0.1606449 , -0.05262072,\n",
              "        -0.02823647, -0.11852064, -0.02871278, -0.08204059,  0.05881826,\n",
              "        -0.12198396, -0.05434574, -0.14797848, -0.06854214,  0.05576418,\n",
              "        -0.00258158,  0.06265221,  0.13194905,  0.02321389, -0.02113196,\n",
              "         0.03364733, -0.05678733, -0.01316416,  0.08929291, -0.04095168,\n",
              "        -0.1090198 , -0.06177203, -0.13504025, -0.01373049, -0.03007997,\n",
              "        -0.11411607,  0.1585373 , -0.03494056, -0.04404999, -0.08794615,\n",
              "        -0.11882347,  0.06046259, -0.04464691, -0.09890533,  0.03403779,\n",
              "        -0.02772886, -0.01800982, -0.09187186,  0.03211304, -0.05128673,\n",
              "         0.04834309,  0.21040514, -0.01478374,  0.0587147 , -0.03577179,\n",
              "        -0.08698533,  0.00938471, -0.01914061,  0.21666999,  0.06826734,\n",
              "        -0.03364778,  0.05693833,  0.07935603, -0.01731632, -0.10060154,\n",
              "         0.00995351, -0.02797586, -0.01273061,  0.03694496, -0.07121879,\n",
              "         0.108385  , -0.02137109, -0.0255141 ,  0.02259212,  0.06110695,\n",
              "        -0.03473256, -0.08548853,  0.04953771,  0.08035813, -0.03529022,\n",
              "         0.02790151, -0.10582084,  0.09895547,  0.07475758,  0.00618336,\n",
              "        -0.07795522,  0.11904281, -0.02646816, -0.04031439, -0.22018817,\n",
              "         0.07866439, -0.04685061, -0.04092488, -0.04915724, -0.04520361,\n",
              "        -0.02411557, -0.08387697,  0.00482525]], dtype=float32)>"
            ]
          },
          "metadata": {},
          "execution_count": 69
        }
      ]
    },
    {
      "cell_type": "code",
      "source": [
        "# The only trainable component is now the additional fully-connected layer (< 1k parameters).\n",
        "classifier_v2 = tf.keras.Sequential([\n",
        "    embedder,\n",
        "    layers.Dense(7)\n",
        "])"
      ],
      "metadata": {
        "id": "oAa3zKkNVGSL"
      },
      "execution_count": null,
      "outputs": []
    },
    {
      "cell_type": "code",
      "source": [
        "data = tfds.load('trec')"
      ],
      "metadata": {
        "id": "VfIibaVpYI73"
      },
      "execution_count": null,
      "outputs": []
    },
    {
      "cell_type": "code",
      "source": [
        "train_data = data['train'].map(preprocess).shuffle(1000).batch(64)\n",
        "test_data = data['test'].map(preprocess).batch(64)"
      ],
      "metadata": {
        "id": "W2SxOnDqYxFb"
      },
      "execution_count": null,
      "outputs": []
    },
    {
      "cell_type": "code",
      "source": [
        "for xb, yb in train_data:\n",
        "  print(xb.shape)\n",
        "  print(classifier_v2(xb).shape)\n",
        "  break"
      ],
      "metadata": {
        "colab": {
          "base_uri": "https://localhost:8080/"
        },
        "id": "TwYpBkfrZ5LL",
        "outputId": "87a6943d-baff-4c89-e8cc-4531b231af8f"
      },
      "execution_count": null,
      "outputs": [
        {
          "output_type": "stream",
          "name": "stdout",
          "text": [
            "(64,)\n",
            "(64, 7)\n"
          ]
        }
      ]
    },
    {
      "cell_type": "code",
      "source": [
        "loss = losses.SparseCategoricalCrossentropy(from_logits=True)\n",
        "metrics = [tf.keras.metrics.SparseCategoricalAccuracy()]\n",
        "optimizer = optimizers.Adam()"
      ],
      "metadata": {
        "id": "eTXMFtFlY-Qc"
      },
      "execution_count": null,
      "outputs": []
    },
    {
      "cell_type": "code",
      "source": [
        "classifier_v2.compile(loss=loss, metrics=metrics, optimizer=optimizer)"
      ],
      "metadata": {
        "id": "DfuefD1vZPee"
      },
      "execution_count": null,
      "outputs": []
    },
    {
      "cell_type": "code",
      "source": [
        "classifier_v2.summary()"
      ],
      "metadata": {
        "colab": {
          "base_uri": "https://localhost:8080/"
        },
        "id": "-Jp9-iFwaqTM",
        "outputId": "c35f6a3c-059c-43c2-b782-ad268a628fb8"
      },
      "execution_count": null,
      "outputs": [
        {
          "output_type": "stream",
          "name": "stdout",
          "text": [
            "Model: \"sequential\"\n",
            "_________________________________________________________________\n",
            " Layer (type)                Output Shape              Param #   \n",
            "=================================================================\n",
            " keras_layer_5 (KerasLayer)  (None, 128)               124642688 \n",
            "                                                                 \n",
            " dense_3 (Dense)             (None, 7)                 903       \n",
            "                                                                 \n",
            "=================================================================\n",
            "Total params: 124643591 (475.48 MB)\n",
            "Trainable params: 903 (3.53 KB)\n",
            "Non-trainable params: 124642688 (475.47 MB)\n",
            "_________________________________________________________________\n"
          ]
        }
      ]
    },
    {
      "cell_type": "code",
      "source": [
        "classifier_v2.fit(train_data, validation_data=test_data, epochs=10)"
      ],
      "metadata": {
        "colab": {
          "base_uri": "https://localhost:8080/"
        },
        "id": "f4qEuh4sZkka",
        "outputId": "872ad5b5-62e4-430c-cc0d-6f0b0cb1d008"
      },
      "execution_count": null,
      "outputs": [
        {
          "output_type": "stream",
          "name": "stdout",
          "text": [
            "Epoch 1/10\n",
            "86/86 [==============================] - 2s 10ms/step - loss: 1.8508 - sparse_categorical_accuracy: 0.2797 - val_loss: 1.7418 - val_sparse_categorical_accuracy: 0.3860\n",
            "Epoch 2/10\n",
            "86/86 [==============================] - 0s 5ms/step - loss: 1.6662 - sparse_categorical_accuracy: 0.4362 - val_loss: 1.6051 - val_sparse_categorical_accuracy: 0.4720\n",
            "Epoch 3/10\n",
            "86/86 [==============================] - 0s 5ms/step - loss: 1.5457 - sparse_categorical_accuracy: 0.5150 - val_loss: 1.5029 - val_sparse_categorical_accuracy: 0.5220\n",
            "Epoch 4/10\n",
            "86/86 [==============================] - 0s 5ms/step - loss: 1.4558 - sparse_categorical_accuracy: 0.5631 - val_loss: 1.4216 - val_sparse_categorical_accuracy: 0.5800\n",
            "Epoch 5/10\n",
            "86/86 [==============================] - 0s 5ms/step - loss: 1.3842 - sparse_categorical_accuracy: 0.5924 - val_loss: 1.3516 - val_sparse_categorical_accuracy: 0.6220\n",
            "Epoch 6/10\n",
            "86/86 [==============================] - 0s 5ms/step - loss: 1.3252 - sparse_categorical_accuracy: 0.6045 - val_loss: 1.2906 - val_sparse_categorical_accuracy: 0.6420\n",
            "Epoch 7/10\n",
            "86/86 [==============================] - 1s 6ms/step - loss: 1.2748 - sparse_categorical_accuracy: 0.6163 - val_loss: 1.2391 - val_sparse_categorical_accuracy: 0.6540\n",
            "Epoch 8/10\n",
            "86/86 [==============================] - 0s 5ms/step - loss: 1.2317 - sparse_categorical_accuracy: 0.6260 - val_loss: 1.1934 - val_sparse_categorical_accuracy: 0.6680\n",
            "Epoch 9/10\n",
            "86/86 [==============================] - 0s 5ms/step - loss: 1.1942 - sparse_categorical_accuracy: 0.6317 - val_loss: 1.1534 - val_sparse_categorical_accuracy: 0.6720\n",
            "Epoch 10/10\n",
            "86/86 [==============================] - 0s 5ms/step - loss: 1.1613 - sparse_categorical_accuracy: 0.6344 - val_loss: 1.1171 - val_sparse_categorical_accuracy: 0.6840\n"
          ]
        },
        {
          "output_type": "execute_result",
          "data": {
            "text/plain": [
              "<keras.src.callbacks.History at 0x7de40c10c940>"
            ]
          },
          "metadata": {},
          "execution_count": 90
        }
      ]
    },
    {
      "cell_type": "markdown",
      "source": [
        "### Step 6: Visualizing the embeddings\n",
        "\n",
        "Check out the [TensorFlow projector](https://projector.tensorflow.org/)."
      ],
      "metadata": {
        "id": "gAc9maByLzzE"
      }
    },
    {
      "cell_type": "code",
      "source": [
        "test_data = data['test'].map(preprocess)"
      ],
      "metadata": {
        "id": "xXxb8IldaVKO"
      },
      "execution_count": null,
      "outputs": []
    },
    {
      "cell_type": "code",
      "source": [
        "# This is a metadata file, with each sentence in a row.\n",
        "with open('metadata.tsv', 'w') as f:\n",
        "  for sentence, y in test_data:\n",
        "    f.write(sentence.numpy().decode('utf-8') + '\\n')"
      ],
      "metadata": {
        "id": "Fz0S03E3blrQ"
      },
      "execution_count": null,
      "outputs": []
    },
    {
      "cell_type": "code",
      "source": [
        "for i in map(str, embedder(sentence[None])[0].numpy()):\n",
        "  print(i)\n",
        "  break"
      ],
      "metadata": {
        "colab": {
          "base_uri": "https://localhost:8080/"
        },
        "id": "Po7X5TeZcrZI",
        "outputId": "02bb3a24-467b-4bd0-9d91-61d687c96eb4"
      },
      "execution_count": null,
      "outputs": [
        {
          "output_type": "stream",
          "name": "stdout",
          "text": [
            "0.3548469\n"
          ]
        }
      ]
    },
    {
      "cell_type": "code",
      "source": [
        "# This are the embeddings: one row per sentence, one column per embedding dimension.\n",
        "with open('embeddings.tsv', 'w') as f:\n",
        "  for sentence, y in test_data:\n",
        "    o = map(str, embedder(sentence[None])[0].numpy())\n",
        "    f.write('\\t'.join(o) + '\\n')"
      ],
      "metadata": {
        "id": "EPdlLBE6c1Co"
      },
      "execution_count": null,
      "outputs": []
    },
    {
      "cell_type": "markdown",
      "source": [
        "Download the two files and load them in the projector to visualize the embeddings."
      ],
      "metadata": {
        "id": "xEbFFFS_QjfQ"
      }
    },
    {
      "cell_type": "code",
      "source": [],
      "metadata": {
        "id": "btIQhB06Qnar"
      },
      "execution_count": null,
      "outputs": []
    }
  ]
}